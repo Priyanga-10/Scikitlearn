{
 "cells": [
  {
   "cell_type": "markdown",
   "id": "0df191ef",
   "metadata": {},
   "source": [
    "### Import Required Libraries"
   ]
  },
  {
   "cell_type": "code",
   "execution_count": 1,
   "id": "c00d74e5",
   "metadata": {},
   "outputs": [],
   "source": [
    "import pandas as pd \n",
    "import numpy as np \n",
    "import seaborn as sns \n",
    "import matplotlib.pyplot as plt \n",
    "from sklearn.model_selection import train_test_split \n",
    "from sklearn.preprocessing import LabelEncoder, OneHotEncoder, StandardScaler \n",
    "from sklearn.feature_selection import SelectKBest, f_classif \n",
    "from sklearn.decomposition import PCA \n",
    "from imblearn.over_sampling import SMOTE"
   ]
  },
  {
   "cell_type": "markdown",
   "id": "1d11acb9",
   "metadata": {},
   "source": [
    "###  Load Dataset"
   ]
  },
  {
   "cell_type": "code",
   "execution_count": 2,
   "id": "174a6fff",
   "metadata": {},
   "outputs": [
    {
     "name": "stdout",
     "output_type": "stream",
     "text": [
      "   Applicant_ID  Income  Credit_Score Employment_Status  Loan_Amount  \\\n",
      "0           201   50000           720          Employed        20000   \n",
      "1           202   60000           680     Self-Employed        25000   \n",
      "2           203   35000           600          Employed        15000   \n",
      "3           204   80000           750          Employed        30000   \n",
      "4           205   45000           650        Unemployed        18000   \n",
      "5           206   70000           700     Self-Employed        28000   \n",
      "6           207   30000           580          Employed        12000   \n",
      "7           208   90000           780          Employed        35000   \n",
      "8           209   40000           620        Unemployed        16000   \n",
      "9           210   65000           710     Self-Employed        27000   \n",
      "\n",
      "  Loan_Approved  \n",
      "0           Yes  \n",
      "1           Yes  \n",
      "2            No  \n",
      "3           Yes  \n",
      "4            No  \n",
      "5           Yes  \n",
      "6            No  \n",
      "7           Yes  \n",
      "8            No  \n",
      "9           Yes  \n"
     ]
    }
   ],
   "source": [
    "# Sample data\n",
    "data = {\n",
    "    \"Applicant_ID\": [201, 202, 203, 204, 205, 206, 207, 208, 209, 210],\n",
    "    \"Income\": [50000, 60000, 35000, 80000, 45000, 70000, 30000, 90000, 40000, 65000],\n",
    "    \"Credit_Score\": [720, 680, 600, 750, 650, 700, 580, 780, 620, 710],\n",
    "    \"Employment_Status\": [\"Employed\", \"Self-Employed\", \"Employed\", \"Employed\", \"Unemployed\",\n",
    "                          \"Self-Employed\", \"Employed\", \"Employed\", \"Unemployed\", \"Self-Employed\"],\n",
    "    \"Loan_Amount\": [20000, 25000, 15000, 30000, 18000, 28000, 12000, 35000, 16000, 27000],\n",
    "    \"Loan_Approved\": [\"Yes\", \"Yes\", \"No\", \"Yes\", \"No\", \"Yes\", \"No\", \"Yes\", \"No\", \"Yes\"]\n",
    "}\n",
    "\n",
    "# Create DataFrame\n",
    "df = pd.DataFrame(data)\n",
    "\n",
    "# Show the DataFrame\n",
    "print(df)"
   ]
  },
  {
   "cell_type": "markdown",
   "id": "d8a8b5fc",
   "metadata": {},
   "source": [
    "### Encoding Categorical Data"
   ]
  },
  {
   "cell_type": "code",
   "execution_count": 3,
   "id": "37a0074c",
   "metadata": {},
   "outputs": [],
   "source": [
    "# Encode Loan Status (Target Variable) \n",
    "label_encoder = LabelEncoder() \n",
    "df[\"Loan_Approved\"] = label_encoder.fit_transform(df[\"Loan_Approved\"])  # Approved → 1, Rejected → 0 \n",
    " \n",
    "# One-Hot Encode Employment Type \n",
    "df = pd.get_dummies(df, columns=[\"Employment_Status\"], drop_first=True) "
   ]
  },
  {
   "cell_type": "markdown",
   "id": "e344f939",
   "metadata": {},
   "source": [
    "### Feature Selection"
   ]
  },
  {
   "cell_type": "code",
   "execution_count": 4,
   "id": "d4e03ab0",
   "metadata": {},
   "outputs": [
    {
     "name": "stdout",
     "output_type": "stream",
     "text": [
      "(10, 3)\n"
     ]
    }
   ],
   "source": [
    "X = df.drop(columns=[\"Loan_Approved\"])  # Features \n",
    "y = df[\"Loan_Approved\"]  # Target \n",
    " \n",
    "# Select top 3 features \n",
    "selector = SelectKBest(score_func=f_classif, k=3) \n",
    "X_new = selector.fit_transform(X, y) \n",
    "print(X_new.shape)"
   ]
  },
  {
   "cell_type": "markdown",
   "id": "86490613",
   "metadata": {},
   "source": [
    "### Feature Extraction (PCA) "
   ]
  },
  {
   "cell_type": "code",
   "execution_count": 5,
   "id": "0caf8d1e",
   "metadata": {},
   "outputs": [
    {
     "name": "stdout",
     "output_type": "stream",
     "text": [
      "(10, 2)\n"
     ]
    }
   ],
   "source": [
    "pca = PCA(n_components=2)  # Reduce to 2 components \n",
    "X_pca = pca.fit_transform(X_new) \n",
    "print(X_pca.shape) "
   ]
  },
  {
   "cell_type": "markdown",
   "id": "1ddb877d",
   "metadata": {},
   "source": [
    "### Handling Imbalanced Data "
   ]
  },
  {
   "cell_type": "code",
   "execution_count": 7,
   "id": "811ec189",
   "metadata": {},
   "outputs": [
    {
     "name": "stdout",
     "output_type": "stream",
     "text": [
      "Before SMOTE: Loan_Approved\n",
      "1    6\n",
      "0    4\n",
      "Name: count, dtype: int64\n",
      "After SMOTE: Loan_Approved\n",
      "1    6\n",
      "0    6\n",
      "Name: count, dtype: int64\n"
     ]
    }
   ],
   "source": [
    "print(\"Before SMOTE:\", y.value_counts()) \n",
    " \n",
    "smote = SMOTE(sampling_strategy='auto', k_neighbors=3) \n",
    "X_resampled, y_resampled = smote.fit_resample(X_pca, y) \n",
    " \n",
    "print(\"After SMOTE:\", y_resampled.value_counts())"
   ]
  }
 ],
 "metadata": {
  "kernelspec": {
   "display_name": "Python 3",
   "language": "python",
   "name": "python3"
  },
  "language_info": {
   "codemirror_mode": {
    "name": "ipython",
    "version": 3
   },
   "file_extension": ".py",
   "mimetype": "text/x-python",
   "name": "python",
   "nbconvert_exporter": "python",
   "pygments_lexer": "ipython3",
   "version": "3.13.5"
  }
 },
 "nbformat": 4,
 "nbformat_minor": 5
}
