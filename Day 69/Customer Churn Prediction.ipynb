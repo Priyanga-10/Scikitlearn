{
 "cells": [
  {
   "cell_type": "markdown",
   "id": "b3b590fb",
   "metadata": {},
   "source": [
    "### Import Required Libraries"
   ]
  },
  {
   "cell_type": "code",
   "execution_count": 2,
   "id": "150ad78b",
   "metadata": {},
   "outputs": [],
   "source": [
    "import pandas as pd\n",
    "import numpy as np\n",
    "import seaborn as sns\n",
    "import matplotlib.pyplot as plt\n",
    "\n",
    "from sklearn.preprocessing import LabelEncoder, OneHotEncoder, StandardScaler\n",
    "from sklearn.impute import SimpleImputer\n",
    "from sklearn.feature_selection import SelectKBest, f_classif\n",
    "from sklearn.tree import DecisionTreeClassifier\n",
    "from sklearn.feature_selection import RFE\n",
    "from sklearn.decomposition import PCA\n",
    "from sklearn.discriminant_analysis import LinearDiscriminantAnalysis as LDA\n",
    "from imblearn.over_sampling import SMOTE\n",
    "from sklearn.model_selection import train_test_split"
   ]
  },
  {
   "cell_type": "markdown",
   "id": "d6dd2d41",
   "metadata": {},
   "source": [
    "### Sample dataset"
   ]
  },
  {
   "cell_type": "code",
   "execution_count": 4,
   "id": "e8896459",
   "metadata": {},
   "outputs": [
    {
     "name": "stdout",
     "output_type": "stream",
     "text": [
      "   CustomerID  Tenure  MonthlyCharges        Contract InternetService Churn\n",
      "0           1       1              29  Month-to-month             DSL   Yes\n",
      "1           2      12              70        One year           Fiber    No\n",
      "2           3      24              85        Two year             DSL    No\n",
      "3           4       5              50  Month-to-month           Fiber   Yes\n",
      "4           5      36              95        Two year             DSL    No\n"
     ]
    }
   ],
   "source": [
    "data = {\n",
    "    \"CustomerID\": [1,2,3,4,5,6,7,8,9,10],\n",
    "    \"Tenure\": [1,12,24,5,36,48,2,60,3,20],\n",
    "    \"MonthlyCharges\": [29, 70, 85, 50, 95, 40, 55, 80, 65, 30],\n",
    "    \"Contract\": [\"Month-to-month\",\"One year\",\"Two year\",\"Month-to-month\",\n",
    "                 \"Two year\",\"Month-to-month\",\"One year\",\"Two year\",\n",
    "                 \"Month-to-month\",\"One year\"],\n",
    "    \"InternetService\": [\"DSL\",\"Fiber\",\"DSL\",\"Fiber\",\"DSL\",\"No\",\"Fiber\",\"DSL\",\"Fiber\",\"No\"],\n",
    "    \"Churn\": [\"Yes\",\"No\",\"No\",\"Yes\",\"No\",\"Yes\",\"No\",\"No\",\"Yes\",\"No\"]\n",
    "}\n",
    "\n",
    "df = pd.DataFrame(data)\n",
    "print(df.head())"
   ]
  },
  {
   "cell_type": "markdown",
   "id": "bec9c8d4",
   "metadata": {},
   "source": [
    "### Features & target"
   ]
  },
  {
   "cell_type": "code",
   "execution_count": 5,
   "id": "d2ea308e",
   "metadata": {},
   "outputs": [
    {
     "name": "stdout",
     "output_type": "stream",
     "text": [
      "Numerical: ['Tenure', 'MonthlyCharges']\n",
      "Categorical: ['Contract', 'InternetService']\n"
     ]
    }
   ],
   "source": [
    "X = df.drop(columns=[\"CustomerID\",\"Churn\"])\n",
    "y = df[\"Churn\"]\n",
    "\n",
    "num_cols = X.select_dtypes(include=[\"int64\",\"float64\"]).columns\n",
    "cat_cols = X.select_dtypes(include=[\"object\"]).columns\n",
    "print(\"Numerical:\", num_cols.tolist())\n",
    "print(\"Categorical:\", cat_cols.tolist())"
   ]
  },
  {
   "cell_type": "markdown",
   "id": "7eca924a",
   "metadata": {},
   "source": [
    "###  Missing values check"
   ]
  },
  {
   "cell_type": "code",
   "execution_count": 6,
   "id": "c38465bb",
   "metadata": {},
   "outputs": [
    {
     "name": "stdout",
     "output_type": "stream",
     "text": [
      "CustomerID         0\n",
      "Tenure             0\n",
      "MonthlyCharges     0\n",
      "Contract           0\n",
      "InternetService    0\n",
      "Churn              0\n",
      "dtype: int64\n"
     ]
    }
   ],
   "source": [
    "print(df.isna().sum())"
   ]
  },
  {
   "cell_type": "markdown",
   "id": "2a59691f",
   "metadata": {},
   "source": [
    "### Encode categorical"
   ]
  },
  {
   "cell_type": "code",
   "execution_count": 7,
   "id": "d155b22e",
   "metadata": {},
   "outputs": [
    {
     "name": "stdout",
     "output_type": "stream",
     "text": [
      "\n",
      "Encoded features:\n",
      "   Tenure  MonthlyCharges  Contract_One year  Contract_Two year  \\\n",
      "0       1              29              False              False   \n",
      "1      12              70               True              False   \n",
      "2      24              85              False               True   \n",
      "3       5              50              False              False   \n",
      "4      36              95              False               True   \n",
      "\n",
      "   InternetService_Fiber  InternetService_No  \n",
      "0                  False               False  \n",
      "1                   True               False  \n",
      "2                  False               False  \n",
      "3                   True               False  \n",
      "4                  False               False  \n"
     ]
    }
   ],
   "source": [
    "# Label encode binary categorical target\n",
    "y = y.map({\"Yes\":1,\"No\":0})\n",
    "\n",
    "# LabelEncode binary categorical features\n",
    "le = LabelEncoder()\n",
    "for col in cat_cols:\n",
    "    if X[col].nunique() == 2:\n",
    "        X[col] = le.fit_transform(X[col])\n",
    "    else:\n",
    "        # OneHot for multi-class\n",
    "        X = pd.get_dummies(X, columns=[col], drop_first=True)\n",
    "\n",
    "print(\"\\nEncoded features:\")\n",
    "print(X.head())"
   ]
  },
  {
   "cell_type": "markdown",
   "id": "7e0c82c4",
   "metadata": {},
   "source": [
    "### Visualize distributions"
   ]
  },
  {
   "cell_type": "code",
   "execution_count": 6,
   "id": "5d44b02c",
   "metadata": {},
   "outputs": [
    {
     "data": {
      "image/png": "[encoded data removed]",
      "text/plain": [
       "<Figure size 640x480 with 1 Axes>"
      ]
     },
     "metadata": {},
     "output_type": "display_data"
    },
    {
     "data": {
      "image/png": "[encoded data removed]",
      "text/plain": [
       "<Figure size 640x480 with 1 Axes>"
      ]
     },
     "metadata": {},
     "output_type": "display_data"
    }
   ],
   "source": [
    "sns.histplot(df[\"MonthlyCharges\"], kde=True)\n",
    "plt.title(\"Monthly Charges Distribution\")\n",
    "plt.show()\n",
    "\n",
    "sns.countplot(x=\"Contract\", data=df)\n",
    "plt.title(\"Contract Types\")\n",
    "plt.show()"
   ]
  },
  {
   "cell_type": "markdown",
   "id": "cbddbe1f",
   "metadata": {},
   "source": [
    "### Feature selection (SelectKBest)"
   ]
  },
  {
   "cell_type": "code",
   "execution_count": 8,
   "id": "a8ce62b5",
   "metadata": {},
   "outputs": [
    {
     "name": "stdout",
     "output_type": "stream",
     "text": [
      "\n",
      "Top features (SelectKBest): ['MonthlyCharges', 'Contract_One year', 'Contract_Two year']\n"
     ]
    }
   ],
   "source": [
    "selector = SelectKBest(score_func=f_classif, k=3)\n",
    "selector.fit(X, y)\n",
    "print(\"\\nTop features (SelectKBest):\", X.columns[selector.get_support()].tolist())"
   ]
  },
  {
   "cell_type": "markdown",
   "id": "3cc969ce",
   "metadata": {},
   "source": [
    "###  Recursive Feature Elimination (RFE)"
   ]
  },
  {
   "cell_type": "code",
   "execution_count": 8,
   "id": "e9c61363",
   "metadata": {},
   "outputs": [
    {
     "name": "stdout",
     "output_type": "stream",
     "text": [
      "RFE Selected Features: ['MonthlyCharges', 'Contract_One year', 'Contract_Two year']\n"
     ]
    }
   ],
   "source": [
    "model = DecisionTreeClassifier()\n",
    "rfe = RFE(model, n_features_to_select=3)\n",
    "rfe.fit(X, y)\n",
    "print(\"RFE Selected Features:\", X.columns[rfe.support_].tolist())"
   ]
  },
  {
   "cell_type": "markdown",
   "id": "d14cc823",
   "metadata": {},
   "source": [
    "### PCA (reduce to 2D for visualization)"
   ]
  },
  {
   "cell_type": "code",
   "execution_count": 9,
   "id": "a6d04f48",
   "metadata": {},
   "outputs": [
    {
     "data": {
      "image/png": "[encoded data removed]",
      "text/plain": [
       "<Figure size 640x480 with 1 Axes>"
      ]
     },
     "metadata": {},
     "output_type": "display_data"
    }
   ],
   "source": [
    "scaler = StandardScaler()\n",
    "X_scaled = scaler.fit_transform(X)\n",
    "\n",
    "pca = PCA(n_components=2)\n",
    "X_pca = pca.fit_transform(X_scaled)\n",
    "\n",
    "plt.scatter(X_pca[:,0], X_pca[:,1], c=y, cmap=\"coolwarm\")\n",
    "plt.title(\"PCA 2D Scatter\")\n",
    "plt.xlabel(\"PC1\"); plt.ylabel(\"PC2\")\n",
    "plt.show()"
   ]
  },
  {
   "cell_type": "markdown",
   "id": "cc93db57",
   "metadata": {},
   "source": [
    "### LDA"
   ]
  },
  {
   "cell_type": "code",
   "execution_count": 10,
   "id": "31234d2e",
   "metadata": {},
   "outputs": [
    {
     "data": {
      "image/png": "[encoded data removed]",
      "text/plain": [
       "<Figure size 640x480 with 1 Axes>"
      ]
     },
     "metadata": {},
     "output_type": "display_data"
    }
   ],
   "source": [
    "lda = LDA(n_components=1)\n",
    "X_lda = lda.fit_transform(X_scaled, y)\n",
    "\n",
    "plt.hist(X_lda[y==0], alpha=0.7, label=\"No Churn\")\n",
    "plt.hist(X_lda[y==1], alpha=0.7, label=\"Churn\")\n",
    "plt.title(\"LDA Projection\")\n",
    "plt.legend()\n",
    "plt.show()"
   ]
  },
  {
   "cell_type": "markdown",
   "id": "8def22b2",
   "metadata": {},
   "source": [
    "###  Handle imbalance with SMOTE"
   ]
  },
  {
   "cell_type": "code",
   "execution_count": 13,
   "id": "1cd54807",
   "metadata": {},
   "outputs": [
    {
     "name": "stdout",
     "output_type": "stream",
     "text": [
      "Before SMOTE: Churn\n",
      "0    4\n",
      "1    3\n",
      "Name: count, dtype: int64\n",
      "After SMOTE: Churn\n",
      "0    4\n",
      "1    4\n",
      "Name: count, dtype: int64\n"
     ]
    }
   ],
   "source": [
    "X_train, X_test, y_train, y_test = train_test_split(X, y, stratify=y, random_state=42)\n",
    "print(\"Before SMOTE:\", y_train.value_counts())\n",
    "\n",
    "sm = SMOTE(sampling_strategy='auto', k_neighbors=2)\n",
    "X_res, y_res = sm.fit_resample(X_train, y_train)\n",
    "print(\"After SMOTE:\", pd.Series(y_res).value_counts())"
   ]
  },
  {
   "cell_type": "markdown",
   "id": "fbf45550",
   "metadata": {},
   "source": [
    "### Scale data"
   ]
  },
  {
   "cell_type": "code",
   "execution_count": 14,
   "id": "776014ee",
   "metadata": {},
   "outputs": [],
   "source": [
    "scaler = StandardScaler()\n",
    "X_res_scaled = scaler.fit_transform(X_res)\n",
    "X_test_scaled = scaler.transform(X_test)"
   ]
  },
  {
   "cell_type": "markdown",
   "id": "aa8998eb",
   "metadata": {},
   "source": [
    "### Save processed dataset"
   ]
  },
  {
   "cell_type": "code",
   "execution_count": 15,
   "id": "e7c7c5bf",
   "metadata": {},
   "outputs": [
    {
     "name": "stdout",
     "output_type": "stream",
     "text": [
      "Processed dataset saved as processed_churn.csv\n"
     ]
    }
   ],
   "source": [
    "processed = pd.DataFrame(X_res_scaled, columns=X.columns)\n",
    "processed[\"Churn\"] = y_res\n",
    "processed.to_csv(\"processed_churn.csv\", index=False)\n",
    "print(\"Processed dataset saved as processed_churn.csv\")"
   ]
  }
 ],
 "metadata": {
  "kernelspec": {
   "display_name": "Python 3",
   "language": "python",
   "name": "python3"
  },
  "language_info": {
   "codemirror_mode": {
    "name": "ipython",
    "version": 3
   },
   "file_extension": ".py",
   "mimetype": "text/x-python",
   "name": "python",
   "nbconvert_exporter": "python",
   "pygments_lexer": "ipython3",
   "version": "3.13.5"
  }
 },
 "nbformat": 4,
 "nbformat_minor": 5
}
