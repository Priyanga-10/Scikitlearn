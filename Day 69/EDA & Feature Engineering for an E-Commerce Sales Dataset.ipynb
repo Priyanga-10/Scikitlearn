{
 "cells": [
  {
   "cell_type": "markdown",
   "id": "47287c0f",
   "metadata": {},
   "source": [
    "### Import Required Libraries"
   ]
  },
  {
   "cell_type": "code",
   "execution_count": 1,
   "id": "9714fa92",
   "metadata": {},
   "outputs": [],
   "source": [
    "import pandas as pd\n",
    "import numpy as np\n",
    "from sklearn.preprocessing import LabelEncoder\n",
    "from sklearn.feature_selection import SelectKBest, f_regression\n",
    "from sklearn.decomposition import PCA\n",
    "from sklearn.preprocessing import StandardScaler\n",
    "from sklearn.preprocessing import MinMaxScaler"
   ]
  },
  {
   "cell_type": "markdown",
   "id": "f9edb26f",
   "metadata": {},
   "source": [
    "### Create Sample Data"
   ]
  },
  {
   "cell_type": "code",
   "execution_count": 2,
   "id": "d820de27",
   "metadata": {},
   "outputs": [
    {
     "data": {
      "application/vnd.microsoft.datawrangler.viewer.v0+json": {
       "columns": [
        {
         "name": "index",
         "rawType": "int64",
         "type": "integer"
        },
        {
         "name": "Product_ID",
         "rawType": "object",
         "type": "string"
        },
        {
         "name": "Product_Category",
         "rawType": "object",
         "type": "string"
        },
        {
         "name": "Customer_Location",
         "rawType": "object",
         "type": "string"
        },
        {
         "name": "Price",
         "rawType": "int64",
         "type": "integer"
        },
        {
         "name": "Discount",
         "rawType": "int64",
         "type": "integer"
        },
        {
         "name": "Purchase_Frequency",
         "rawType": "int64",
         "type": "integer"
        },
        {
         "name": "Review_Rating",
         "rawType": "float64",
         "type": "float"
        },
        {
         "name": "Units_Sold",
         "rawType": "int64",
         "type": "integer"
        }
       ],
       "ref": "be662e4b-ed3c-4297-b007-49bd11c01f2f",
       "rows": [
        [
         "0",
         "P001",
         "Electronics",
         "Delhi",
         "5000",
         "10",
         "3",
         "4.5",
         "100"
        ],
        [
         "1",
         "P002",
         "Clothing",
         "Mumbai",
         "1200",
         "5",
         "1",
         "4.0",
         "150"
        ],
        [
         "2",
         "P003",
         "Electronics",
         "Bangalore",
         "7000",
         "15",
         "5",
         null,
         "80"
        ],
        [
         "3",
         "P004",
         "Clothing",
         "Delhi",
         "1500",
         "20",
         "2",
         "3.5",
         "200"
        ],
        [
         "4",
         "P005",
         "Books",
         "Chennai",
         "300",
         "0",
         "4",
         "5.0",
         "500"
        ],
        [
         "5",
         "P006",
         "Books",
         "Mumbai",
         "450",
         "10",
         "2",
         "4.2",
         "400"
        ],
        [
         "6",
         "P007",
         "Electronics",
         "Bangalore",
         "6000",
         "5",
         "6",
         "4.8",
         "90"
        ],
        [
         "7",
         "P008",
         "Clothing",
         "Delhi",
         "1300",
         "15",
         "3",
         "3.8",
         "180"
        ],
        [
         "8",
         "P009",
         "Books",
         "Chennai",
         "200",
         "0",
         "1",
         "4.5",
         "300"
        ],
        [
         "9",
         "P010",
         "Electronics",
         "Mumbai",
         "8000",
         "20",
         "7",
         null,
         "70"
        ]
       ],
       "shape": {
        "columns": 8,
        "rows": 10
       }
      },
      "text/html": [
       "<div>\n",
       "<style scoped>\n",
       "    .dataframe tbody tr th:only-of-type {\n",
       "        vertical-align: middle;\n",
       "    }\n",
       "\n",
       "    .dataframe tbody tr th {\n",
       "        vertical-align: top;\n",
       "    }\n",
       "\n",
       "    .dataframe thead th {\n",
       "        text-align: right;\n",
       "    }\n",
       "</style>\n",
       "<table border=\"1\" class=\"dataframe\">\n",
       "  <thead>\n",
       "    <tr style=\"text-align: right;\">\n",
       "      <th></th>\n",
       "      <th>Product_ID</th>\n",
       "      <th>Product_Category</th>\n",
       "      <th>Customer_Location</th>\n",
       "      <th>Price</th>\n",
       "      <th>Discount</th>\n",
       "      <th>Purchase_Frequency</th>\n",
       "      <th>Review_Rating</th>\n",
       "      <th>Units_Sold</th>\n",
       "    </tr>\n",
       "  </thead>\n",
       "  <tbody>\n",
       "    <tr>\n",
       "      <th>0</th>\n",
       "      <td>P001</td>\n",
       "      <td>Electronics</td>\n",
       "      <td>Delhi</td>\n",
       "      <td>5000</td>\n",
       "      <td>10</td>\n",
       "      <td>3</td>\n",
       "      <td>4.5</td>\n",
       "      <td>100</td>\n",
       "    </tr>\n",
       "    <tr>\n",
       "      <th>1</th>\n",
       "      <td>P002</td>\n",
       "      <td>Clothing</td>\n",
       "      <td>Mumbai</td>\n",
       "      <td>1200</td>\n",
       "      <td>5</td>\n",
       "      <td>1</td>\n",
       "      <td>4.0</td>\n",
       "      <td>150</td>\n",
       "    </tr>\n",
       "    <tr>\n",
       "      <th>2</th>\n",
       "      <td>P003</td>\n",
       "      <td>Electronics</td>\n",
       "      <td>Bangalore</td>\n",
       "      <td>7000</td>\n",
       "      <td>15</td>\n",
       "      <td>5</td>\n",
       "      <td>NaN</td>\n",
       "      <td>80</td>\n",
       "    </tr>\n",
       "    <tr>\n",
       "      <th>3</th>\n",
       "      <td>P004</td>\n",
       "      <td>Clothing</td>\n",
       "      <td>Delhi</td>\n",
       "      <td>1500</td>\n",
       "      <td>20</td>\n",
       "      <td>2</td>\n",
       "      <td>3.5</td>\n",
       "      <td>200</td>\n",
       "    </tr>\n",
       "    <tr>\n",
       "      <th>4</th>\n",
       "      <td>P005</td>\n",
       "      <td>Books</td>\n",
       "      <td>Chennai</td>\n",
       "      <td>300</td>\n",
       "      <td>0</td>\n",
       "      <td>4</td>\n",
       "      <td>5.0</td>\n",
       "      <td>500</td>\n",
       "    </tr>\n",
       "    <tr>\n",
       "      <th>5</th>\n",
       "      <td>P006</td>\n",
       "      <td>Books</td>\n",
       "      <td>Mumbai</td>\n",
       "      <td>450</td>\n",
       "      <td>10</td>\n",
       "      <td>2</td>\n",
       "      <td>4.2</td>\n",
       "      <td>400</td>\n",
       "    </tr>\n",
       "    <tr>\n",
       "      <th>6</th>\n",
       "      <td>P007</td>\n",
       "      <td>Electronics</td>\n",
       "      <td>Bangalore</td>\n",
       "      <td>6000</td>\n",
       "      <td>5</td>\n",
       "      <td>6</td>\n",
       "      <td>4.8</td>\n",
       "      <td>90</td>\n",
       "    </tr>\n",
       "    <tr>\n",
       "      <th>7</th>\n",
       "      <td>P008</td>\n",
       "      <td>Clothing</td>\n",
       "      <td>Delhi</td>\n",
       "      <td>1300</td>\n",
       "      <td>15</td>\n",
       "      <td>3</td>\n",
       "      <td>3.8</td>\n",
       "      <td>180</td>\n",
       "    </tr>\n",
       "    <tr>\n",
       "      <th>8</th>\n",
       "      <td>P009</td>\n",
       "      <td>Books</td>\n",
       "      <td>Chennai</td>\n",
       "      <td>200</td>\n",
       "      <td>0</td>\n",
       "      <td>1</td>\n",
       "      <td>4.5</td>\n",
       "      <td>300</td>\n",
       "    </tr>\n",
       "    <tr>\n",
       "      <th>9</th>\n",
       "      <td>P010</td>\n",
       "      <td>Electronics</td>\n",
       "      <td>Mumbai</td>\n",
       "      <td>8000</td>\n",
       "      <td>20</td>\n",
       "      <td>7</td>\n",
       "      <td>NaN</td>\n",
       "      <td>70</td>\n",
       "    </tr>\n",
       "  </tbody>\n",
       "</table>\n",
       "</div>"
      ],
      "text/plain": [
       "  Product_ID Product_Category Customer_Location  Price  Discount  \\\n",
       "0       P001      Electronics             Delhi   5000        10   \n",
       "1       P002         Clothing            Mumbai   1200         5   \n",
       "2       P003      Electronics         Bangalore   7000        15   \n",
       "3       P004         Clothing             Delhi   1500        20   \n",
       "4       P005            Books           Chennai    300         0   \n",
       "5       P006            Books            Mumbai    450        10   \n",
       "6       P007      Electronics         Bangalore   6000         5   \n",
       "7       P008         Clothing             Delhi   1300        15   \n",
       "8       P009            Books           Chennai    200         0   \n",
       "9       P010      Electronics            Mumbai   8000        20   \n",
       "\n",
       "   Purchase_Frequency  Review_Rating  Units_Sold  \n",
       "0                   3            4.5         100  \n",
       "1                   1            4.0         150  \n",
       "2                   5            NaN          80  \n",
       "3                   2            3.5         200  \n",
       "4                   4            5.0         500  \n",
       "5                   2            4.2         400  \n",
       "6                   6            4.8          90  \n",
       "7                   3            3.8         180  \n",
       "8                   1            4.5         300  \n",
       "9                   7            NaN          70  "
      ]
     },
     "execution_count": 2,
     "metadata": {},
     "output_type": "execute_result"
    }
   ],
   "source": [
    "data = {\n",
    "    'Product_ID': ['P001','P002','P003','P004','P005','P006','P007','P008','P009','P010'],\n",
    "    'Product_Category': ['Electronics','Clothing','Electronics','Clothing','Books','Books','Electronics','Clothing','Books','Electronics'],\n",
    "    'Customer_Location': ['Delhi','Mumbai','Bangalore','Delhi','Chennai','Mumbai','Bangalore','Delhi','Chennai','Mumbai'],\n",
    "    'Price': [5000, 1200, 7000, 1500, 300, 450, 6000, 1300, 200, 8000],\n",
    "    'Discount': [10, 5, 15, 20, 0, 10, 5, 15, 0, 20],\n",
    "    'Purchase_Frequency': [3, 1, 5, 2, 4, 2, 6, 3, 1, 7],\n",
    "    'Review_Rating': [4.5, 4.0, np.nan, 3.5, 5.0, 4.2, 4.8, 3.8, 4.5, np.nan],\n",
    "    'Units_Sold': [100, 150, 80, 200, 500, 400, 90, 180, 300, 70]\n",
    "}\n",
    "\n",
    "df = pd.DataFrame(data)\n",
    "df"
   ]
  },
  {
   "cell_type": "markdown",
   "id": "3bf3dc6f",
   "metadata": {},
   "source": [
    "### Exploratory Data Analysis (EDA)"
   ]
  },
  {
   "cell_type": "code",
   "execution_count": 3,
   "id": "b299f46b",
   "metadata": {},
   "outputs": [
    {
     "name": "stdout",
     "output_type": "stream",
     "text": [
      "<class 'pandas.core.frame.DataFrame'>\n",
      "RangeIndex: 10 entries, 0 to 9\n",
      "Data columns (total 8 columns):\n",
      " #   Column              Non-Null Count  Dtype  \n",
      "---  ------              --------------  -----  \n",
      " 0   Product_ID          10 non-null     object \n",
      " 1   Product_Category    10 non-null     object \n",
      " 2   Customer_Location   10 non-null     object \n",
      " 3   Price               10 non-null     int64  \n",
      " 4   Discount            10 non-null     int64  \n",
      " 5   Purchase_Frequency  10 non-null     int64  \n",
      " 6   Review_Rating       8 non-null      float64\n",
      " 7   Units_Sold          10 non-null     int64  \n",
      "dtypes: float64(1), int64(4), object(3)\n",
      "memory usage: 772.0+ bytes\n",
      "None\n",
      "             Price  Discount  Purchase_Frequency  Review_Rating  Units_Sold\n",
      "count    10.000000  10.00000           10.000000       8.000000   10.000000\n",
      "mean   3095.000000  10.00000            3.400000       4.287500  207.000000\n",
      "std    3053.636266   7.45356            2.065591       0.508324  147.501412\n",
      "min     200.000000   0.00000            1.000000       3.500000   70.000000\n",
      "25%     637.500000   5.00000            2.000000       3.950000   92.500000\n",
      "50%    1400.000000  10.00000            3.000000       4.350000  165.000000\n",
      "75%    5750.000000  15.00000            4.750000       4.575000  275.000000\n",
      "max    8000.000000  20.00000            7.000000       5.000000  500.000000\n",
      "Product_ID            0\n",
      "Product_Category      0\n",
      "Customer_Location     0\n",
      "Price                 0\n",
      "Discount              0\n",
      "Purchase_Frequency    0\n",
      "Review_Rating         2\n",
      "Units_Sold            0\n",
      "dtype: int64\n"
     ]
    }
   ],
   "source": [
    "# Basic Info\n",
    "print(df.info())\n",
    "\n",
    "# Summary statistics\n",
    "print(df.describe())\n",
    "\n",
    "# Check missing values\n",
    "print(df.isnull().sum())"
   ]
  },
  {
   "cell_type": "markdown",
   "id": "a7365938",
   "metadata": {},
   "source": [
    "### Handle Missing Values"
   ]
  },
  {
   "cell_type": "code",
   "execution_count": 4,
   "id": "3ec01d7c",
   "metadata": {},
   "outputs": [
    {
     "name": "stderr",
     "output_type": "stream",
     "text": [
      "C:\\Users\\priya\\AppData\\Local\\Temp\\ipykernel_8816\\2504353261.py:2: FutureWarning: A value is trying to be set on a copy of a DataFrame or Series through chained assignment using an inplace method.\n",
      "The behavior will change in pandas 3.0. This inplace method will never work because the intermediate object on which we are setting values always behaves as a copy.\n",
      "\n",
      "For example, when doing 'df[col].method(value, inplace=True)', try using 'df.method({col: value}, inplace=True)' or df[col] = df[col].method(value) instead, to perform the operation inplace on the original object.\n",
      "\n",
      "\n",
      "  df['Review_Rating'].fillna(df['Review_Rating'].mean(), inplace=True)\n"
     ]
    }
   ],
   "source": [
    "# Fill missing review ratings with mean\n",
    "df['Review_Rating'].fillna(df['Review_Rating'].mean(), inplace=True)"
   ]
  },
  {
   "cell_type": "markdown",
   "id": "ad92d1e8",
   "metadata": {},
   "source": [
    "### Encode Categorical Variables"
   ]
  },
  {
   "cell_type": "code",
   "execution_count": 5,
   "id": "c30d9c2b",
   "metadata": {},
   "outputs": [],
   "source": [
    "le = LabelEncoder()\n",
    "df['Product_Category_Encoded'] = le.fit_transform(df['Product_Category'])\n",
    "df['Customer_Location_Encoded'] = le.fit_transform(df['Customer_Location'])"
   ]
  },
  {
   "cell_type": "markdown",
   "id": "edc301e7",
   "metadata": {},
   "source": [
    "### Feature Selection using SelectKBest"
   ]
  },
  {
   "cell_type": "code",
   "execution_count": 6,
   "id": "71c6069c",
   "metadata": {},
   "outputs": [
    {
     "name": "stdout",
     "output_type": "stream",
     "text": [
      "(10, 4)\n"
     ]
    }
   ],
   "source": [
    "X = df[['Product_Category_Encoded','Customer_Location_Encoded','Price','Discount','Purchase_Frequency','Review_Rating']]\n",
    "y = df['Units_Sold']\n",
    "\n",
    "# Select top 4 features\n",
    "selector = SelectKBest(score_func=f_regression, k=4)\n",
    "X_new = selector.fit_transform(X, y)\n",
    "print(X_new.shape)"
   ]
  },
  {
   "cell_type": "markdown",
   "id": "a8145ac6",
   "metadata": {},
   "source": [
    "### PCA for Dimensionality Reduction"
   ]
  },
  {
   "cell_type": "code",
   "execution_count": 7,
   "id": "76b9bc51",
   "metadata": {},
   "outputs": [
    {
     "name": "stdout",
     "output_type": "stream",
     "text": [
      "(10, 2)\n"
     ]
    }
   ],
   "source": [
    "pca = PCA(n_components=2)\n",
    "X_pca = pca.fit_transform(X_new)\n",
    "\n",
    "print(X_pca.shape)"
   ]
  },
  {
   "cell_type": "markdown",
   "id": "5bef5b27",
   "metadata": {},
   "source": [
    "### Normalize Numerical Features"
   ]
  },
  {
   "cell_type": "code",
   "execution_count": 8,
   "id": "77dd1479",
   "metadata": {},
   "outputs": [
    {
     "data": {
      "application/vnd.microsoft.datawrangler.viewer.v0+json": {
       "columns": [
        {
         "name": "index",
         "rawType": "int64",
         "type": "integer"
        },
        {
         "name": "Product_ID",
         "rawType": "object",
         "type": "string"
        },
        {
         "name": "Product_Category",
         "rawType": "object",
         "type": "string"
        },
        {
         "name": "Customer_Location",
         "rawType": "object",
         "type": "string"
        },
        {
         "name": "Price",
         "rawType": "float64",
         "type": "float"
        },
        {
         "name": "Discount",
         "rawType": "float64",
         "type": "float"
        },
        {
         "name": "Purchase_Frequency",
         "rawType": "float64",
         "type": "float"
        },
        {
         "name": "Review_Rating",
         "rawType": "float64",
         "type": "float"
        },
        {
         "name": "Units_Sold",
         "rawType": "int64",
         "type": "integer"
        },
        {
         "name": "Product_Category_Encoded",
         "rawType": "int64",
         "type": "integer"
        },
        {
         "name": "Customer_Location_Encoded",
         "rawType": "int64",
         "type": "integer"
        }
       ],
       "ref": "b42476b1-43b1-4599-a575-4889da0d18f7",
       "rows": [
        [
         "0",
         "P001",
         "Electronics",
         "Delhi",
         "0.6153846153846154",
         "0.5",
         "0.33333333333333337",
         "0.666666666666667",
         "100",
         "2",
         "2"
        ],
        [
         "1",
         "P002",
         "Clothing",
         "Mumbai",
         "0.12820512820512822",
         "0.25",
         "0.0",
         "0.3333333333333335",
         "150",
         "1",
         "3"
        ],
        [
         "2",
         "P003",
         "Electronics",
         "Bangalore",
         "0.8717948717948718",
         "0.75",
         "0.6666666666666666",
         "0.5249999999999999",
         "80",
         "2",
         "0"
        ],
        [
         "3",
         "P004",
         "Clothing",
         "Delhi",
         "0.16666666666666669",
         "1.0",
         "0.16666666666666666",
         "0.0",
         "200",
         "1",
         "2"
        ],
        [
         "4",
         "P005",
         "Books",
         "Chennai",
         "0.012820512820512824",
         "0.0",
         "0.5",
         "1.0",
         "500",
         "0",
         "1"
        ]
       ],
       "shape": {
        "columns": 10,
        "rows": 5
       }
      },
      "text/html": [
       "<div>\n",
       "<style scoped>\n",
       "    .dataframe tbody tr th:only-of-type {\n",
       "        vertical-align: middle;\n",
       "    }\n",
       "\n",
       "    .dataframe tbody tr th {\n",
       "        vertical-align: top;\n",
       "    }\n",
       "\n",
       "    .dataframe thead th {\n",
       "        text-align: right;\n",
       "    }\n",
       "</style>\n",
       "<table border=\"1\" class=\"dataframe\">\n",
       "  <thead>\n",
       "    <tr style=\"text-align: right;\">\n",
       "      <th></th>\n",
       "      <th>Product_ID</th>\n",
       "      <th>Product_Category</th>\n",
       "      <th>Customer_Location</th>\n",
       "      <th>Price</th>\n",
       "      <th>Discount</th>\n",
       "      <th>Purchase_Frequency</th>\n",
       "      <th>Review_Rating</th>\n",
       "      <th>Units_Sold</th>\n",
       "      <th>Product_Category_Encoded</th>\n",
       "      <th>Customer_Location_Encoded</th>\n",
       "    </tr>\n",
       "  </thead>\n",
       "  <tbody>\n",
       "    <tr>\n",
       "      <th>0</th>\n",
       "      <td>P001</td>\n",
       "      <td>Electronics</td>\n",
       "      <td>Delhi</td>\n",
       "      <td>0.615385</td>\n",
       "      <td>0.50</td>\n",
       "      <td>0.333333</td>\n",
       "      <td>0.666667</td>\n",
       "      <td>100</td>\n",
       "      <td>2</td>\n",
       "      <td>2</td>\n",
       "    </tr>\n",
       "    <tr>\n",
       "      <th>1</th>\n",
       "      <td>P002</td>\n",
       "      <td>Clothing</td>\n",
       "      <td>Mumbai</td>\n",
       "      <td>0.128205</td>\n",
       "      <td>0.25</td>\n",
       "      <td>0.000000</td>\n",
       "      <td>0.333333</td>\n",
       "      <td>150</td>\n",
       "      <td>1</td>\n",
       "      <td>3</td>\n",
       "    </tr>\n",
       "    <tr>\n",
       "      <th>2</th>\n",
       "      <td>P003</td>\n",
       "      <td>Electronics</td>\n",
       "      <td>Bangalore</td>\n",
       "      <td>0.871795</td>\n",
       "      <td>0.75</td>\n",
       "      <td>0.666667</td>\n",
       "      <td>0.525000</td>\n",
       "      <td>80</td>\n",
       "      <td>2</td>\n",
       "      <td>0</td>\n",
       "    </tr>\n",
       "    <tr>\n",
       "      <th>3</th>\n",
       "      <td>P004</td>\n",
       "      <td>Clothing</td>\n",
       "      <td>Delhi</td>\n",
       "      <td>0.166667</td>\n",
       "      <td>1.00</td>\n",
       "      <td>0.166667</td>\n",
       "      <td>0.000000</td>\n",
       "      <td>200</td>\n",
       "      <td>1</td>\n",
       "      <td>2</td>\n",
       "    </tr>\n",
       "    <tr>\n",
       "      <th>4</th>\n",
       "      <td>P005</td>\n",
       "      <td>Books</td>\n",
       "      <td>Chennai</td>\n",
       "      <td>0.012821</td>\n",
       "      <td>0.00</td>\n",
       "      <td>0.500000</td>\n",
       "      <td>1.000000</td>\n",
       "      <td>500</td>\n",
       "      <td>0</td>\n",
       "      <td>1</td>\n",
       "    </tr>\n",
       "  </tbody>\n",
       "</table>\n",
       "</div>"
      ],
      "text/plain": [
       "  Product_ID Product_Category Customer_Location     Price  Discount  \\\n",
       "0       P001      Electronics             Delhi  0.615385      0.50   \n",
       "1       P002         Clothing            Mumbai  0.128205      0.25   \n",
       "2       P003      Electronics         Bangalore  0.871795      0.75   \n",
       "3       P004         Clothing             Delhi  0.166667      1.00   \n",
       "4       P005            Books           Chennai  0.012821      0.00   \n",
       "\n",
       "   Purchase_Frequency  Review_Rating  Units_Sold  Product_Category_Encoded  \\\n",
       "0            0.333333       0.666667         100                         2   \n",
       "1            0.000000       0.333333         150                         1   \n",
       "2            0.666667       0.525000          80                         2   \n",
       "3            0.166667       0.000000         200                         1   \n",
       "4            0.500000       1.000000         500                         0   \n",
       "\n",
       "   Customer_Location_Encoded  \n",
       "0                          2  \n",
       "1                          3  \n",
       "2                          0  \n",
       "3                          2  \n",
       "4                          1  "
      ]
     },
     "execution_count": 8,
     "metadata": {},
     "output_type": "execute_result"
    }
   ],
   "source": [
    "num_cols = ['Price','Discount','Purchase_Frequency','Review_Rating']\n",
    "scaler = MinMaxScaler()\n",
    "df[num_cols] = scaler.fit_transform(df[num_cols])\n",
    "\n",
    "df.head()\n"
   ]
  }
 ],
 "metadata": {
  "kernelspec": {
   "display_name": "Python 3",
   "language": "python",
   "name": "python3"
  },
  "language_info": {
   "codemirror_mode": {
    "name": "ipython",
    "version": 3
   },
   "file_extension": ".py",
   "mimetype": "text/x-python",
   "name": "python",
   "nbconvert_exporter": "python",
   "pygments_lexer": "ipython3",
   "version": "3.13.5"
  }
 },
 "nbformat": 4,
 "nbformat_minor": 5
}
