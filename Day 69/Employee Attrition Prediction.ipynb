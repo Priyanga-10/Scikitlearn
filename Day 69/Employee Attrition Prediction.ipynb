{
 "cells": [
  {
   "cell_type": "markdown",
   "id": "d146a0c3",
   "metadata": {},
   "source": [
    "###  Install Required Libraries"
   ]
  },
  {
   "cell_type": "code",
   "execution_count": 1,
   "id": "898c9ccb",
   "metadata": {},
   "outputs": [
    {
     "name": "stdout",
     "output_type": "stream",
     "text": [
      "Collecting imbalanced-learn\n",
      "  Downloading imbalanced_learn-0.14.0-py3-none-any.whl.metadata (8.8 kB)\n",
      "Requirement already satisfied: numpy<3,>=1.25.2 in c:\\users\\priya\\appdata\\local\\programs\\python\\python313\\lib\\site-packages (from imbalanced-learn) (2.2.0)\n",
      "Requirement already satisfied: scipy<2,>=1.11.4 in c:\\users\\priya\\appdata\\local\\programs\\python\\python313\\lib\\site-packages (from imbalanced-learn) (1.16.1)\n",
      "Requirement already satisfied: scikit-learn<2,>=1.4.2 in c:\\users\\priya\\appdata\\local\\programs\\python\\python313\\lib\\site-packages (from imbalanced-learn) (1.7.1)\n",
      "Requirement already satisfied: joblib<2,>=1.2.0 in c:\\users\\priya\\appdata\\local\\programs\\python\\python313\\lib\\site-packages (from imbalanced-learn) (1.5.2)\n",
      "Requirement already satisfied: threadpoolctl<4,>=2.0.0 in c:\\users\\priya\\appdata\\local\\programs\\python\\python313\\lib\\site-packages (from imbalanced-learn) (3.6.0)\n",
      "Downloading imbalanced_learn-0.14.0-py3-none-any.whl (239 kB)\n",
      "Installing collected packages: imbalanced-learn\n",
      "Successfully installed imbalanced-learn-0.14.0\n"
     ]
    },
    {
     "name": "stderr",
     "output_type": "stream",
     "text": [
      "\n",
      "[notice] A new release of pip is available: 25.1.1 -> 25.2\n",
      "[notice] To update, run: python.exe -m pip install --upgrade pip\n"
     ]
    }
   ],
   "source": [
    "!pip install imbalanced-learn"
   ]
  },
  {
   "cell_type": "markdown",
   "id": "709726b0",
   "metadata": {},
   "source": [
    "###  Import Required Libraries"
   ]
  },
  {
   "cell_type": "code",
   "execution_count": 2,
   "id": "987ab6b9",
   "metadata": {},
   "outputs": [],
   "source": [
    "import pandas as pd \n",
    "import numpy as np \n",
    "import seaborn as sns \n",
    "import matplotlib.pyplot as plt \n",
    "from sklearn.model_selection import train_test_split \n",
    "from sklearn.preprocessing import LabelEncoder, OneHotEncoder, StandardScaler \n",
    "from sklearn.feature_selection import SelectKBest, f_classif \n",
    "from sklearn.decomposition import PCA \n",
    "from imblearn.over_sampling import SMOTE"
   ]
  },
  {
   "cell_type": "markdown",
   "id": "a4f61f63",
   "metadata": {},
   "source": [
    "###  Load Dataset"
   ]
  },
  {
   "cell_type": "code",
   "execution_count": 3,
   "id": "31382803",
   "metadata": {},
   "outputs": [
    {
     "name": "stdout",
     "output_type": "stream",
     "text": [
      "   Employee_ID  Age  Salary  Job_Role Department  Work_Hours  \\\n",
      "0          101   28   50000  Engineer         IT          40   \n",
      "1          102   35   70000   Manager         HR          45   \n",
      "2          103   40   60000  Engineer         IT          50   \n",
      "3          104   30   55000   Analyst    Finance          42   \n",
      "4          105   45   80000   Manager         HR          48   \n",
      "5          106   32   52000  Engineer         IT          40   \n",
      "6          107   29   48000   Analyst    Finance          38   \n",
      "7          108   38   75000   Manager         HR          46   \n",
      "8          109   41   67000   Analyst    Finance          44   \n",
      "9          110   36   72000  Engineer         IT          41   \n",
      "\n",
      "   Satisfaction_Score Attrition  \n",
      "0                   8       Yes  \n",
      "1                   6        No  \n",
      "2                   5       Yes  \n",
      "3                   7        No  \n",
      "4                   4       Yes  \n",
      "5                   9        No  \n",
      "6                   8        No  \n",
      "7                   5       Yes  \n",
      "8                   6        No  \n",
      "9                   7        No  \n"
     ]
    }
   ],
   "source": [
    "# Sample data\n",
    "data = {\n",
    "    \"Employee_ID\": [101, 102, 103, 104, 105, 106, 107, 108, 109, 110],\n",
    "    \"Age\": [28, 35, 40, 30, 45, 32, 29, 38, 41, 36],\n",
    "    \"Salary\": [50000, 70000, 60000, 55000, 80000, 52000, 48000, 75000, 67000, 72000],\n",
    "    \"Job_Role\": [\"Engineer\", \"Manager\", \"Engineer\", \"Analyst\", \"Manager\", \n",
    "                 \"Engineer\", \"Analyst\", \"Manager\", \"Analyst\", \"Engineer\"],\n",
    "    \"Department\": [\"IT\", \"HR\", \"IT\", \"Finance\", \"HR\", \"IT\", \"Finance\", \"HR\", \"Finance\", \"IT\"],\n",
    "    \"Work_Hours\": [40, 45, 50, 42, 48, 40, 38, 46, 44, 41],\n",
    "    \"Satisfaction_Score\": [8, 6, 5, 7, 4, 9, 8, 5, 6, 7],\n",
    "    \"Attrition\": [\"Yes\", \"No\", \"Yes\", \"No\", \"Yes\", \"No\", \"No\", \"Yes\", \"No\", \"No\"]\n",
    "}\n",
    "\n",
    "# Create DataFrame\n",
    "df = pd.DataFrame(data)\n",
    "\n",
    "# Show the DataFrame\n",
    "print(df)"
   ]
  },
  {
   "cell_type": "markdown",
   "id": "d06ba77c",
   "metadata": {},
   "source": [
    "###  Encoding Categorical Data "
   ]
  },
  {
   "cell_type": "code",
   "execution_count": 5,
   "id": "857c026b",
   "metadata": {},
   "outputs": [],
   "source": [
    "# Label Encoding for Attrition (Target Variable) \n",
    "label_encoder = LabelEncoder() \n",
    "df[\"Attrition\"] = label_encoder.fit_transform(df[\"Attrition\"])  # Yes → 1, No → 0 \n",
    " \n",
    "# One-Hot Encoding for Job Role and Department \n",
    "df = pd.get_dummies(df, columns=[\"Job_Role\", \"Department\"], drop_first=True)"
   ]
  },
  {
   "cell_type": "markdown",
   "id": "ba4d9f2d",
   "metadata": {},
   "source": [
    "### Feature Selection"
   ]
  },
  {
   "cell_type": "code",
   "execution_count": 6,
   "id": "41e25df6",
   "metadata": {},
   "outputs": [
    {
     "name": "stdout",
     "output_type": "stream",
     "text": [
      "(10, 5)\n"
     ]
    }
   ],
   "source": [
    "X = df.drop(columns=[\"Attrition\"])  # Features \n",
    "y = df[\"Attrition\"]  # Target \n",
    " \n",
    "# Select the top 5 best features \n",
    "selector = SelectKBest(score_func=f_classif, k=5) \n",
    "X_new = selector.fit_transform(X, y) \n",
    "print(X_new.shape)"
   ]
  },
  {
   "cell_type": "markdown",
   "id": "ca914722",
   "metadata": {},
   "source": [
    "###  Feature Extraction (PCA)"
   ]
  },
  {
   "cell_type": "code",
   "execution_count": 7,
   "id": "9c577b56",
   "metadata": {},
   "outputs": [
    {
     "name": "stdout",
     "output_type": "stream",
     "text": [
      "(10, 2)\n"
     ]
    }
   ],
   "source": [
    "pca = PCA(n_components=2)  # Reduce to 2 components \n",
    "X_pca = pca.fit_transform(X_new) \n",
    "print(X_pca.shape)"
   ]
  },
  {
   "cell_type": "markdown",
   "id": "ba0da5a0",
   "metadata": {},
   "source": [
    "### Handling Imbalanced Data"
   ]
  },
  {
   "cell_type": "code",
   "execution_count": 9,
   "id": "edde7a11",
   "metadata": {},
   "outputs": [
    {
     "name": "stdout",
     "output_type": "stream",
     "text": [
      "Before SMOTE: Attrition\n",
      "0    6\n",
      "1    4\n",
      "Name: count, dtype: int64\n",
      "After SMOTE: Attrition\n",
      "1    6\n",
      "0    6\n",
      "Name: count, dtype: int64\n"
     ]
    }
   ],
   "source": [
    "print(\"Before SMOTE:\", y.value_counts()) \n",
    " \n",
    "smote = SMOTE(sampling_strategy='auto', k_neighbors=3) \n",
    "X_resampled, y_resampled = smote.fit_resample(X_pca, y) \n",
    " \n",
    "print(\"After SMOTE:\", y_resampled.value_counts()) "
   ]
  }
 ],
 "metadata": {
  "kernelspec": {
   "display_name": "Python 3",
   "language": "python",
   "name": "python3"
  },
  "language_info": {
   "codemirror_mode": {
    "name": "ipython",
    "version": 3
   },
   "file_extension": ".py",
   "mimetype": "text/x-python",
   "name": "python",
   "nbconvert_exporter": "python",
   "pygments_lexer": "ipython3",
   "version": "3.13.5"
  }
 },
 "nbformat": 4,
 "nbformat_minor": 5
}
