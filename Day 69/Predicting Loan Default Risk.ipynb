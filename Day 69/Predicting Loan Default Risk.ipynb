{
 "cells": [
  {
   "cell_type": "markdown",
   "id": "ff2b0ed3",
   "metadata": {},
   "source": [
    "### Import Required Libraries"
   ]
  },
  {
   "cell_type": "code",
   "execution_count": 1,
   "id": "76346b9d",
   "metadata": {},
   "outputs": [],
   "source": [
    "import pandas as pd\n",
    "import numpy as np\n",
    "from sklearn.preprocessing import LabelEncoder\n",
    "from sklearn.feature_selection import SelectKBest, f_classif\n",
    "from sklearn.linear_model import LogisticRegression\n",
    "from sklearn.feature_selection import RFE\n",
    "from sklearn.decomposition import PCA\n",
    "from sklearn.discriminant_analysis import LinearDiscriminantAnalysis as LDA\n",
    "from sklearn.preprocessing import StandardScaler\n",
    "from imblearn.over_sampling import SMOTE"
   ]
  },
  {
   "cell_type": "markdown",
   "id": "2ed14910",
   "metadata": {},
   "source": [
    "### Sample loan dataset"
   ]
  },
  {
   "cell_type": "code",
   "execution_count": 2,
   "id": "985795f9",
   "metadata": {},
   "outputs": [
    {
     "data": {
      "application/vnd.microsoft.datawrangler.viewer.v0+json": {
       "columns": [
        {
         "name": "index",
         "rawType": "int64",
         "type": "integer"
        },
        {
         "name": "Customer_ID",
         "rawType": "int64",
         "type": "integer"
        },
        {
         "name": "Income",
         "rawType": "float64",
         "type": "float"
        },
        {
         "name": "Employment_Type",
         "rawType": "object",
         "type": "string"
        },
        {
         "name": "Loan_Amount",
         "rawType": "int64",
         "type": "integer"
        },
        {
         "name": "Credit_History",
         "rawType": "int64",
         "type": "integer"
        },
        {
         "name": "Marital_Status",
         "rawType": "object",
         "type": "unknown"
        },
        {
         "name": "Loan_Default",
         "rawType": "object",
         "type": "string"
        }
       ],
       "ref": "fc106051-ff2b-4aa1-953f-33a6e6b7aa19",
       "rows": [
        [
         "0",
         "1",
         "50000.0",
         "Salaried",
         "200000",
         "1",
         "Married",
         "No"
        ],
        [
         "1",
         "2",
         "60000.0",
         "Salaried",
         "250000",
         "1",
         "Single",
         "No"
        ],
        [
         "2",
         "3",
         null,
         "Self-Employed",
         "100000",
         "0",
         "Single",
         "Yes"
        ],
        [
         "3",
         "4",
         "80000.0",
         "Salaried",
         "300000",
         "1",
         "Married",
         "No"
        ],
        [
         "4",
         "5",
         "120000.0",
         "Salaried",
         "400000",
         "1",
         "Married",
         "No"
        ],
        [
         "5",
         "6",
         "40000.0",
         "Self-Employed",
         "120000",
         "0",
         null,
         "Yes"
        ],
        [
         "6",
         "7",
         "70000.0",
         "Salaried",
         "280000",
         "1",
         "Married",
         "No"
        ],
        [
         "7",
         "8",
         "90000.0",
         "Salaried",
         "350000",
         "1",
         "Single",
         "No"
        ],
        [
         "8",
         "9",
         "30000.0",
         "Self-Employed",
         "90000",
         "0",
         "Single",
         "Yes"
        ],
        [
         "9",
         "10",
         "45000.0",
         "Salaried",
         "150000",
         "0",
         "Married",
         "Yes"
        ],
        [
         "10",
         "11",
         "100000.0",
         "Salaried",
         "370000",
         "1",
         "Married",
         "No"
        ],
        [
         "11",
         "12",
         "75000.0",
         "Self-Employed",
         "220000",
         "1",
         "Single",
         "Yes"
        ],
        [
         "12",
         "13",
         "65000.0",
         "Salaried",
         "260000",
         "1",
         "Married",
         "No"
        ],
        [
         "13",
         "14",
         "55000.0",
         "Salaried",
         "210000",
         "1",
         "Single",
         "No"
        ],
        [
         "14",
         "15",
         "85000.0",
         "Salaried",
         "330000",
         "1",
         "Married",
         "No"
        ]
       ],
       "shape": {
        "columns": 7,
        "rows": 15
       }
      },
      "text/html": [
       "<div>\n",
       "<style scoped>\n",
       "    .dataframe tbody tr th:only-of-type {\n",
       "        vertical-align: middle;\n",
       "    }\n",
       "\n",
       "    .dataframe tbody tr th {\n",
       "        vertical-align: top;\n",
       "    }\n",
       "\n",
       "    .dataframe thead th {\n",
       "        text-align: right;\n",
       "    }\n",
       "</style>\n",
       "<table border=\"1\" class=\"dataframe\">\n",
       "  <thead>\n",
       "    <tr style=\"text-align: right;\">\n",
       "      <th></th>\n",
       "      <th>Customer_ID</th>\n",
       "      <th>Income</th>\n",
       "      <th>Employment_Type</th>\n",
       "      <th>Loan_Amount</th>\n",
       "      <th>Credit_History</th>\n",
       "      <th>Marital_Status</th>\n",
       "      <th>Loan_Default</th>\n",
       "    </tr>\n",
       "  </thead>\n",
       "  <tbody>\n",
       "    <tr>\n",
       "      <th>0</th>\n",
       "      <td>1</td>\n",
       "      <td>50000.0</td>\n",
       "      <td>Salaried</td>\n",
       "      <td>200000</td>\n",
       "      <td>1</td>\n",
       "      <td>Married</td>\n",
       "      <td>No</td>\n",
       "    </tr>\n",
       "    <tr>\n",
       "      <th>1</th>\n",
       "      <td>2</td>\n",
       "      <td>60000.0</td>\n",
       "      <td>Salaried</td>\n",
       "      <td>250000</td>\n",
       "      <td>1</td>\n",
       "      <td>Single</td>\n",
       "      <td>No</td>\n",
       "    </tr>\n",
       "    <tr>\n",
       "      <th>2</th>\n",
       "      <td>3</td>\n",
       "      <td>NaN</td>\n",
       "      <td>Self-Employed</td>\n",
       "      <td>100000</td>\n",
       "      <td>0</td>\n",
       "      <td>Single</td>\n",
       "      <td>Yes</td>\n",
       "    </tr>\n",
       "    <tr>\n",
       "      <th>3</th>\n",
       "      <td>4</td>\n",
       "      <td>80000.0</td>\n",
       "      <td>Salaried</td>\n",
       "      <td>300000</td>\n",
       "      <td>1</td>\n",
       "      <td>Married</td>\n",
       "      <td>No</td>\n",
       "    </tr>\n",
       "    <tr>\n",
       "      <th>4</th>\n",
       "      <td>5</td>\n",
       "      <td>120000.0</td>\n",
       "      <td>Salaried</td>\n",
       "      <td>400000</td>\n",
       "      <td>1</td>\n",
       "      <td>Married</td>\n",
       "      <td>No</td>\n",
       "    </tr>\n",
       "    <tr>\n",
       "      <th>5</th>\n",
       "      <td>6</td>\n",
       "      <td>40000.0</td>\n",
       "      <td>Self-Employed</td>\n",
       "      <td>120000</td>\n",
       "      <td>0</td>\n",
       "      <td>NaN</td>\n",
       "      <td>Yes</td>\n",
       "    </tr>\n",
       "    <tr>\n",
       "      <th>6</th>\n",
       "      <td>7</td>\n",
       "      <td>70000.0</td>\n",
       "      <td>Salaried</td>\n",
       "      <td>280000</td>\n",
       "      <td>1</td>\n",
       "      <td>Married</td>\n",
       "      <td>No</td>\n",
       "    </tr>\n",
       "    <tr>\n",
       "      <th>7</th>\n",
       "      <td>8</td>\n",
       "      <td>90000.0</td>\n",
       "      <td>Salaried</td>\n",
       "      <td>350000</td>\n",
       "      <td>1</td>\n",
       "      <td>Single</td>\n",
       "      <td>No</td>\n",
       "    </tr>\n",
       "    <tr>\n",
       "      <th>8</th>\n",
       "      <td>9</td>\n",
       "      <td>30000.0</td>\n",
       "      <td>Self-Employed</td>\n",
       "      <td>90000</td>\n",
       "      <td>0</td>\n",
       "      <td>Single</td>\n",
       "      <td>Yes</td>\n",
       "    </tr>\n",
       "    <tr>\n",
       "      <th>9</th>\n",
       "      <td>10</td>\n",
       "      <td>45000.0</td>\n",
       "      <td>Salaried</td>\n",
       "      <td>150000</td>\n",
       "      <td>0</td>\n",
       "      <td>Married</td>\n",
       "      <td>Yes</td>\n",
       "    </tr>\n",
       "    <tr>\n",
       "      <th>10</th>\n",
       "      <td>11</td>\n",
       "      <td>100000.0</td>\n",
       "      <td>Salaried</td>\n",
       "      <td>370000</td>\n",
       "      <td>1</td>\n",
       "      <td>Married</td>\n",
       "      <td>No</td>\n",
       "    </tr>\n",
       "    <tr>\n",
       "      <th>11</th>\n",
       "      <td>12</td>\n",
       "      <td>75000.0</td>\n",
       "      <td>Self-Employed</td>\n",
       "      <td>220000</td>\n",
       "      <td>1</td>\n",
       "      <td>Single</td>\n",
       "      <td>Yes</td>\n",
       "    </tr>\n",
       "    <tr>\n",
       "      <th>12</th>\n",
       "      <td>13</td>\n",
       "      <td>65000.0</td>\n",
       "      <td>Salaried</td>\n",
       "      <td>260000</td>\n",
       "      <td>1</td>\n",
       "      <td>Married</td>\n",
       "      <td>No</td>\n",
       "    </tr>\n",
       "    <tr>\n",
       "      <th>13</th>\n",
       "      <td>14</td>\n",
       "      <td>55000.0</td>\n",
       "      <td>Salaried</td>\n",
       "      <td>210000</td>\n",
       "      <td>1</td>\n",
       "      <td>Single</td>\n",
       "      <td>No</td>\n",
       "    </tr>\n",
       "    <tr>\n",
       "      <th>14</th>\n",
       "      <td>15</td>\n",
       "      <td>85000.0</td>\n",
       "      <td>Salaried</td>\n",
       "      <td>330000</td>\n",
       "      <td>1</td>\n",
       "      <td>Married</td>\n",
       "      <td>No</td>\n",
       "    </tr>\n",
       "  </tbody>\n",
       "</table>\n",
       "</div>"
      ],
      "text/plain": [
       "    Customer_ID    Income Employment_Type  Loan_Amount  Credit_History  \\\n",
       "0             1   50000.0        Salaried       200000               1   \n",
       "1             2   60000.0        Salaried       250000               1   \n",
       "2             3       NaN   Self-Employed       100000               0   \n",
       "3             4   80000.0        Salaried       300000               1   \n",
       "4             5  120000.0        Salaried       400000               1   \n",
       "5             6   40000.0   Self-Employed       120000               0   \n",
       "6             7   70000.0        Salaried       280000               1   \n",
       "7             8   90000.0        Salaried       350000               1   \n",
       "8             9   30000.0   Self-Employed        90000               0   \n",
       "9            10   45000.0        Salaried       150000               0   \n",
       "10           11  100000.0        Salaried       370000               1   \n",
       "11           12   75000.0   Self-Employed       220000               1   \n",
       "12           13   65000.0        Salaried       260000               1   \n",
       "13           14   55000.0        Salaried       210000               1   \n",
       "14           15   85000.0        Salaried       330000               1   \n",
       "\n",
       "   Marital_Status Loan_Default  \n",
       "0         Married           No  \n",
       "1          Single           No  \n",
       "2          Single          Yes  \n",
       "3         Married           No  \n",
       "4         Married           No  \n",
       "5             NaN          Yes  \n",
       "6         Married           No  \n",
       "7          Single           No  \n",
       "8          Single          Yes  \n",
       "9         Married          Yes  \n",
       "10        Married           No  \n",
       "11         Single          Yes  \n",
       "12        Married           No  \n",
       "13         Single           No  \n",
       "14        Married           No  "
      ]
     },
     "execution_count": 2,
     "metadata": {},
     "output_type": "execute_result"
    }
   ],
   "source": [
    "data = {\n",
    "    'Customer_ID': range(1, 16),\n",
    "    'Income': [50000, 60000, 35000, 80000, 120000, 40000, 70000, 90000, 30000, 45000, 100000, 75000, 65000, 55000, 85000],\n",
    "    'Employment_Type': ['Salaried', 'Salaried', 'Self-Employed', 'Salaried', 'Salaried',\n",
    "                        'Self-Employed', 'Salaried', 'Salaried', 'Self-Employed', 'Salaried',\n",
    "                        'Salaried', 'Self-Employed', 'Salaried', 'Salaried', 'Salaried'],\n",
    "    'Loan_Amount': [200000, 250000, 100000, 300000, 400000, 120000, 280000, 350000, 90000, 150000, 370000, 220000, 260000, 210000, 330000],\n",
    "    'Credit_History': [1, 1, 0, 1, 1, 0, 1, 1, 0, 0, 1, 1, 1, 1, 1],\n",
    "    'Marital_Status': ['Married', 'Single', 'Single', 'Married', 'Married',\n",
    "                       'Single', 'Married', 'Single', 'Single', 'Married',\n",
    "                       'Married', 'Single', 'Married', 'Single', 'Married'],\n",
    "    'Loan_Default': ['No', 'No', 'Yes', 'No', 'No', 'Yes', 'No', 'No', 'Yes', 'Yes', 'No', 'Yes', 'No', 'No', 'No']\n",
    "}\n",
    "\n",
    "df = pd.DataFrame(data)\n",
    "\n",
    "# Introduce some missing values\n",
    "df.loc[2, 'Income'] = np.nan\n",
    "df.loc[5, 'Marital_Status'] = np.nan\n",
    "\n",
    "df"
   ]
  },
  {
   "cell_type": "markdown",
   "id": "83939432",
   "metadata": {},
   "source": [
    "### Exploratory Data Analysis (EDA)"
   ]
  },
  {
   "cell_type": "code",
   "execution_count": 3,
   "id": "ff26942b",
   "metadata": {},
   "outputs": [
    {
     "name": "stdout",
     "output_type": "stream",
     "text": [
      "<class 'pandas.core.frame.DataFrame'>\n",
      "RangeIndex: 15 entries, 0 to 14\n",
      "Data columns (total 7 columns):\n",
      " #   Column           Non-Null Count  Dtype  \n",
      "---  ------           --------------  -----  \n",
      " 0   Customer_ID      15 non-null     int64  \n",
      " 1   Income           14 non-null     float64\n",
      " 2   Employment_Type  15 non-null     object \n",
      " 3   Loan_Amount      15 non-null     int64  \n",
      " 4   Credit_History   15 non-null     int64  \n",
      " 5   Marital_Status   14 non-null     object \n",
      " 6   Loan_Default     15 non-null     object \n",
      "dtypes: float64(1), int64(3), object(3)\n",
      "memory usage: 972.0+ bytes\n",
      "None\n",
      "       Customer_ID         Income    Loan_Amount  Credit_History\n",
      "count    15.000000      14.000000      15.000000       15.000000\n",
      "mean      8.000000   68928.571429  242000.000000        0.733333\n",
      "std       4.472136   24820.786220   98503.081895        0.457738\n",
      "min       1.000000   30000.000000   90000.000000        0.000000\n",
      "25%       4.500000   51250.000000  175000.000000        0.500000\n",
      "50%       8.000000   67500.000000  250000.000000        1.000000\n",
      "75%      11.500000   83750.000000  315000.000000        1.000000\n",
      "max      15.000000  120000.000000  400000.000000        1.000000\n",
      "Customer_ID        0\n",
      "Income             1\n",
      "Employment_Type    0\n",
      "Loan_Amount        0\n",
      "Credit_History     0\n",
      "Marital_Status     1\n",
      "Loan_Default       0\n",
      "dtype: int64\n"
     ]
    }
   ],
   "source": [
    "# Basic info\n",
    "print(df.info())\n",
    "\n",
    "# Summary statistics\n",
    "print(df.describe())\n",
    "\n",
    "# Check missing values\n",
    "print(df.isnull().sum())"
   ]
  },
  {
   "cell_type": "markdown",
   "id": "20b4c9c9",
   "metadata": {},
   "source": [
    "### Handle Missing Values"
   ]
  },
  {
   "cell_type": "code",
   "execution_count": 5,
   "id": "1812ae6f",
   "metadata": {},
   "outputs": [
    {
     "name": "stderr",
     "output_type": "stream",
     "text": [
      "C:\\Users\\priya\\AppData\\Local\\Temp\\ipykernel_13216\\1016441020.py:2: FutureWarning: A value is trying to be set on a copy of a DataFrame or Series through chained assignment using an inplace method.\n",
      "The behavior will change in pandas 3.0. This inplace method will never work because the intermediate object on which we are setting values always behaves as a copy.\n",
      "\n",
      "For example, when doing 'df[col].method(value, inplace=True)', try using 'df.method({col: value}, inplace=True)' or df[col] = df[col].method(value) instead, to perform the operation inplace on the original object.\n",
      "\n",
      "\n",
      "  df['Income'].fillna(df['Income'].median(), inplace=True)\n"
     ]
    }
   ],
   "source": [
    "# Fill numerical missing values with median\n",
    "df['Income'].fillna(df['Income'].median(), inplace=True)\n",
    "\n",
    "# Fill categorical missing values with mode\n",
    "df['Marital_Status'].fillna(df['Marital_Status'].mode()[0], inplace=True)"
   ]
  },
  {
   "cell_type": "markdown",
   "id": "dcd5d0f7",
   "metadata": {},
   "source": [
    "### Encode Categorical Features"
   ]
  },
  {
   "cell_type": "code",
   "execution_count": 6,
   "id": "bc688eec",
   "metadata": {},
   "outputs": [
    {
     "data": {
      "application/vnd.microsoft.datawrangler.viewer.v0+json": {
       "columns": [
        {
         "name": "index",
         "rawType": "int64",
         "type": "integer"
        },
        {
         "name": "Customer_ID",
         "rawType": "int64",
         "type": "integer"
        },
        {
         "name": "Income",
         "rawType": "float64",
         "type": "float"
        },
        {
         "name": "Employment_Type",
         "rawType": "int64",
         "type": "integer"
        },
        {
         "name": "Loan_Amount",
         "rawType": "int64",
         "type": "integer"
        },
        {
         "name": "Credit_History",
         "rawType": "int64",
         "type": "integer"
        },
        {
         "name": "Marital_Status",
         "rawType": "int64",
         "type": "integer"
        },
        {
         "name": "Loan_Default",
         "rawType": "int64",
         "type": "integer"
        }
       ],
       "ref": "871a3d62-b85b-4c04-9335-02372d047675",
       "rows": [
        [
         "0",
         "1",
         "50000.0",
         "0",
         "200000",
         "1",
         "0",
         "0"
        ],
        [
         "1",
         "2",
         "60000.0",
         "0",
         "250000",
         "1",
         "1",
         "0"
        ],
        [
         "2",
         "3",
         "67500.0",
         "1",
         "100000",
         "0",
         "1",
         "1"
        ],
        [
         "3",
         "4",
         "80000.0",
         "0",
         "300000",
         "1",
         "0",
         "0"
        ],
        [
         "4",
         "5",
         "120000.0",
         "0",
         "400000",
         "1",
         "0",
         "0"
        ]
       ],
       "shape": {
        "columns": 7,
        "rows": 5
       }
      },
      "text/html": [
       "<div>\n",
       "<style scoped>\n",
       "    .dataframe tbody tr th:only-of-type {\n",
       "        vertical-align: middle;\n",
       "    }\n",
       "\n",
       "    .dataframe tbody tr th {\n",
       "        vertical-align: top;\n",
       "    }\n",
       "\n",
       "    .dataframe thead th {\n",
       "        text-align: right;\n",
       "    }\n",
       "</style>\n",
       "<table border=\"1\" class=\"dataframe\">\n",
       "  <thead>\n",
       "    <tr style=\"text-align: right;\">\n",
       "      <th></th>\n",
       "      <th>Customer_ID</th>\n",
       "      <th>Income</th>\n",
       "      <th>Employment_Type</th>\n",
       "      <th>Loan_Amount</th>\n",
       "      <th>Credit_History</th>\n",
       "      <th>Marital_Status</th>\n",
       "      <th>Loan_Default</th>\n",
       "    </tr>\n",
       "  </thead>\n",
       "  <tbody>\n",
       "    <tr>\n",
       "      <th>0</th>\n",
       "      <td>1</td>\n",
       "      <td>50000.0</td>\n",
       "      <td>0</td>\n",
       "      <td>200000</td>\n",
       "      <td>1</td>\n",
       "      <td>0</td>\n",
       "      <td>0</td>\n",
       "    </tr>\n",
       "    <tr>\n",
       "      <th>1</th>\n",
       "      <td>2</td>\n",
       "      <td>60000.0</td>\n",
       "      <td>0</td>\n",
       "      <td>250000</td>\n",
       "      <td>1</td>\n",
       "      <td>1</td>\n",
       "      <td>0</td>\n",
       "    </tr>\n",
       "    <tr>\n",
       "      <th>2</th>\n",
       "      <td>3</td>\n",
       "      <td>67500.0</td>\n",
       "      <td>1</td>\n",
       "      <td>100000</td>\n",
       "      <td>0</td>\n",
       "      <td>1</td>\n",
       "      <td>1</td>\n",
       "    </tr>\n",
       "    <tr>\n",
       "      <th>3</th>\n",
       "      <td>4</td>\n",
       "      <td>80000.0</td>\n",
       "      <td>0</td>\n",
       "      <td>300000</td>\n",
       "      <td>1</td>\n",
       "      <td>0</td>\n",
       "      <td>0</td>\n",
       "    </tr>\n",
       "    <tr>\n",
       "      <th>4</th>\n",
       "      <td>5</td>\n",
       "      <td>120000.0</td>\n",
       "      <td>0</td>\n",
       "      <td>400000</td>\n",
       "      <td>1</td>\n",
       "      <td>0</td>\n",
       "      <td>0</td>\n",
       "    </tr>\n",
       "  </tbody>\n",
       "</table>\n",
       "</div>"
      ],
      "text/plain": [
       "   Customer_ID    Income  Employment_Type  Loan_Amount  Credit_History  \\\n",
       "0            1   50000.0                0       200000               1   \n",
       "1            2   60000.0                0       250000               1   \n",
       "2            3   67500.0                1       100000               0   \n",
       "3            4   80000.0                0       300000               1   \n",
       "4            5  120000.0                0       400000               1   \n",
       "\n",
       "   Marital_Status  Loan_Default  \n",
       "0               0             0  \n",
       "1               1             0  \n",
       "2               1             1  \n",
       "3               0             0  \n",
       "4               0             0  "
      ]
     },
     "execution_count": 6,
     "metadata": {},
     "output_type": "execute_result"
    }
   ],
   "source": [
    "le = LabelEncoder()\n",
    "df['Employment_Type'] = le.fit_transform(df['Employment_Type'])\n",
    "df['Marital_Status'] = le.fit_transform(df['Marital_Status'])\n",
    "df['Loan_Default'] = le.fit_transform(df['Loan_Default'])  # Target: 1=Yes, 0=No\n",
    "\n",
    "df.head()"
   ]
  },
  {
   "cell_type": "markdown",
   "id": "d8169b29",
   "metadata": {},
   "source": [
    "### Feature Selection"
   ]
  },
  {
   "cell_type": "code",
   "execution_count": null,
   "id": "de317909",
   "metadata": {},
   "outputs": [
    {
     "name": "stdout",
     "output_type": "stream",
     "text": [
      "(15, 3)\n",
      "           Feature  Selected\n",
      "0           Income      True\n",
      "1  Employment_Type      True\n",
      "2      Loan_Amount      True\n",
      "3   Credit_History     False\n",
      "4   Marital_Status     False\n"
     ]
    },
    {
     "name": "stderr",
     "output_type": "stream",
     "text": [
      "c:\\Users\\priya\\AppData\\Local\\Programs\\Python\\Python313\\Lib\\site-packages\\sklearn\\linear_model\\_logistic.py:473: ConvergenceWarning: lbfgs failed to converge after 100 iteration(s) (status=1):\n",
      "STOP: TOTAL NO. OF ITERATIONS REACHED LIMIT\n",
      "\n",
      "Increase the number of iterations to improve the convergence (max_iter=100).\n",
      "You might also want to scale the data as shown in:\n",
      "    https://scikit-learn.org/stable/modules/preprocessing.html\n",
      "Please also refer to the documentation for alternative solver options:\n",
      "    https://scikit-learn.org/stable/modules/linear_model.html#logistic-regression\n",
      "  n_iter_i = _check_optimize_result(\n",
      "c:\\Users\\priya\\AppData\\Local\\Programs\\Python\\Python313\\Lib\\site-packages\\sklearn\\linear_model\\_logistic.py:473: ConvergenceWarning: lbfgs failed to converge after 100 iteration(s) (status=1):\n",
      "STOP: TOTAL NO. OF ITERATIONS REACHED LIMIT\n",
      "\n",
      "Increase the number of iterations to improve the convergence (max_iter=100).\n",
      "You might also want to scale the data as shown in:\n",
      "    https://scikit-learn.org/stable/modules/preprocessing.html\n",
      "Please also refer to the documentation for alternative solver options:\n",
      "    https://scikit-learn.org/stable/modules/linear_model.html#logistic-regression\n",
      "  n_iter_i = _check_optimize_result(\n"
     ]
    }
   ],
   "source": [
    "# Features and target\n",
    "X = df.drop(columns=['Customer_ID', 'Loan_Default'])\n",
    "y = df['Loan_Default']\n",
    "\n",
    "# SelectKBest\n",
    "best_features = SelectKBest(score_func=f_classif, k=3)\n",
    "fit = best_features.fit_transform(X, y)\n",
    "print(fit.shape)\n",
    "\n",
    "# Recursive Feature Elimination (RFE)\n",
    "model = LogisticRegression()\n",
    "rfe = RFE(model, n_features_to_select=3)\n",
    "fit = rfe.fit(X, y)\n",
    "print(pd.DataFrame({'Feature': X.columns, 'Selected': fit.support_}))"
   ]
  },
  {
   "cell_type": "markdown",
   "id": "585b27af",
   "metadata": {},
   "source": [
    "### Dimensionality Reduction (PCA & LDA)"
   ]
  },
  {
   "cell_type": "code",
   "execution_count": 10,
   "id": "f7e473a1",
   "metadata": {},
   "outputs": [
    {
     "name": "stdout",
     "output_type": "stream",
     "text": [
      "PCA Components Shape: (15, 2)\n",
      "LDA Components Shape: (15, 1)\n"
     ]
    }
   ],
   "source": [
    "# Standardize features\n",
    "scaler = StandardScaler()\n",
    "X_scaled = scaler.fit_transform(X)\n",
    "\n",
    "# PCA\n",
    "pca = PCA(n_components=2)\n",
    "X_pca = pca.fit_transform(X_scaled)\n",
    "print(\"PCA Components Shape:\", X_pca.shape)\n",
    "\n",
    "# LDA (use target)\n",
    "lda = LDA(n_components=1)\n",
    "X_lda = lda.fit_transform(X_scaled, y)\n",
    "print(\"LDA Components Shape:\", X_lda.shape)\n"
   ]
  },
  {
   "cell_type": "markdown",
   "id": "0f1610cb",
   "metadata": {},
   "source": [
    "### Handle Class Imbalance with SMOTE"
   ]
  },
  {
   "cell_type": "code",
   "execution_count": 11,
   "id": "a01cddf2",
   "metadata": {},
   "outputs": [
    {
     "name": "stdout",
     "output_type": "stream",
     "text": [
      "Before SMOTE:\n",
      " Loan_Default\n",
      "0    10\n",
      "1     5\n",
      "Name: count, dtype: int64\n",
      "After SMOTE:\n",
      " Loan_Default\n",
      "0    10\n",
      "1    10\n",
      "Name: count, dtype: int64\n"
     ]
    }
   ],
   "source": [
    "smote = SMOTE(sampling_strategy='auto', k_neighbors=3)\n",
    "X_res, y_res = smote.fit_resample(X_scaled, y)\n",
    "\n",
    "print(\"Before SMOTE:\\n\", y.value_counts())\n",
    "print(\"After SMOTE:\\n\", y_res.value_counts())\n"
   ]
  }
 ],
 "metadata": {
  "kernelspec": {
   "display_name": "Python 3",
   "language": "python",
   "name": "python3"
  },
  "language_info": {
   "codemirror_mode": {
    "name": "ipython",
    "version": 3
   },
   "file_extension": ".py",
   "mimetype": "text/x-python",
   "name": "python",
   "nbconvert_exporter": "python",
   "pygments_lexer": "ipython3",
   "version": "3.13.5"
  }
 },
 "nbformat": 4,
 "nbformat_minor": 5
}
