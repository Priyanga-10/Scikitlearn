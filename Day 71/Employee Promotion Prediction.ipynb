{
 "cells": [
  {
   "cell_type": "markdown",
   "id": "e543ef8a",
   "metadata": {},
   "source": [
    "### Import Required Libraries"
   ]
  },
  {
   "cell_type": "code",
   "execution_count": 1,
   "id": "3b17a4fa",
   "metadata": {},
   "outputs": [],
   "source": [
    "import pandas as pd\n",
    "import numpy as np\n",
    "from sklearn.model_selection import train_test_split, GridSearchCV\n",
    "from sklearn.preprocessing import LabelEncoder, StandardScaler\n",
    "from sklearn.linear_model import LogisticRegression\n",
    "from sklearn.tree import DecisionTreeClassifier\n",
    "from sklearn.ensemble import RandomForestClassifier\n",
    "from sklearn.svm import SVC\n",
    "from sklearn.neighbors import KNeighborsClassifier\n",
    "from sklearn.feature_selection import SelectKBest, f_classif, RFE\n",
    "from sklearn.metrics import accuracy_score, precision_score, recall_score, f1_score\n",
    "import joblib"
   ]
  },
  {
   "cell_type": "markdown",
   "id": "33a736f9",
   "metadata": {},
   "source": [
    "### Load Sample Dataset"
   ]
  },
  {
   "cell_type": "code",
   "execution_count": 2,
   "id": "950485f6",
   "metadata": {},
   "outputs": [
    {
     "name": "stdout",
     "output_type": "stream",
     "text": [
      "  employee_id department education  experience_years  training_score  \\\n",
      "0        E001      Sales  Bachelor                 3              75   \n",
      "1        E002         HR    Master                 5              82   \n",
      "2        E003         IT  Bachelor                 2              68   \n",
      "3        E004    Finance       PhD                 8              90   \n",
      "4        E005      Sales    Master                 6              85   \n",
      "\n",
      "   performance_rating  salary  promotion  \n",
      "0                   3   40000          0  \n",
      "1                   4   50000          1  \n",
      "2                   2   35000          0  \n",
      "3                   5   80000          1  \n",
      "4                   4   60000          1  \n"
     ]
    }
   ],
   "source": [
    "data = pd.DataFrame({\n",
    "    'employee_id': ['E001', 'E002', 'E003', 'E004', 'E005', 'E006', 'E007', 'E008', 'E009', 'E010'],\n",
    "    'department': ['Sales', 'HR', 'IT', 'Finance', 'Sales', 'IT', 'HR', 'Finance', 'Sales', 'IT'],\n",
    "    'education': ['Bachelor', 'Master', 'Bachelor', 'PhD', 'Master', 'Bachelor', 'PhD', 'Master', 'Bachelor', 'PhD'],\n",
    "    'experience_years': [3, 5, 2, 8, 6, 4, 9, 7, 3, 10],\n",
    "    'training_score': [75, 82, 68, 90, 85, 77, 95, 88, 72, 99],\n",
    "    'performance_rating': [3, 4, 2, 5, 4, 3, 5, 4, 3, 5],\n",
    "    'salary': [40000, 50000, 35000, 80000, 60000, 45000, 85000, 75000, 38000, 90000],\n",
    "    'promotion': [0, 1, 0, 1, 1, 0, 1, 1, 0, 1]  # Target\n",
    "})\n",
    "\n",
    "# Display first five rows\n",
    "print(data.head())"
   ]
  },
  {
   "cell_type": "markdown",
   "id": "13781484",
   "metadata": {},
   "source": [
    "### Understand Features & Target"
   ]
  },
  {
   "cell_type": "code",
   "execution_count": 3,
   "id": "971064a5",
   "metadata": {},
   "outputs": [
    {
     "name": "stdout",
     "output_type": "stream",
     "text": [
      "Data Types:\n",
      " employee_id           object\n",
      "department            object\n",
      "education             object\n",
      "experience_years       int64\n",
      "training_score         int64\n",
      "performance_rating     int64\n",
      "salary                 int64\n",
      "promotion              int64\n",
      "dtype: object \n",
      "\n",
      "Target Variable: promotion\n",
      "\n"
     ]
    }
   ],
   "source": [
    "print(\"Data Types:\\n\", data.dtypes, \"\\n\")\n",
    "print(\"Target Variable: promotion\\n\")"
   ]
  },
  {
   "cell_type": "markdown",
   "id": "c3e9c2c4",
   "metadata": {},
   "source": [
    "### Handle Missing Values"
   ]
  },
  {
   "cell_type": "code",
   "execution_count": 4,
   "id": "e246e472",
   "metadata": {},
   "outputs": [
    {
     "name": "stdout",
     "output_type": "stream",
     "text": [
      "Missing Values:\n",
      " employee_id           0\n",
      "department            0\n",
      "education             0\n",
      "experience_years      0\n",
      "training_score        0\n",
      "performance_rating    0\n",
      "salary                0\n",
      "promotion             0\n",
      "dtype: int64 \n",
      "\n"
     ]
    }
   ],
   "source": [
    "print(\"Missing Values:\\n\", data.isnull().sum(), \"\\n\")"
   ]
  },
  {
   "cell_type": "markdown",
   "id": "cd1a60fb",
   "metadata": {},
   "source": [
    "### Encode Categorical Variables (Label Encoding)"
   ]
  },
  {
   "cell_type": "code",
   "execution_count": 5,
   "id": "388478bc",
   "metadata": {},
   "outputs": [],
   "source": [
    "label_enc = LabelEncoder()\n",
    "data['department'] = label_enc.fit_transform(data['department'])\n",
    "data['education'] = label_enc.fit_transform(data['education'])"
   ]
  },
  {
   "cell_type": "markdown",
   "id": "2f1a69cc",
   "metadata": {},
   "source": [
    "### Feature Scaling"
   ]
  },
  {
   "cell_type": "code",
   "execution_count": 8,
   "id": "142e225e",
   "metadata": {},
   "outputs": [],
   "source": [
    "scaler = StandardScaler()\n",
    "data[['experience_years', 'training_score', 'performance_rating', 'salary']] = \\\n",
    "    scaler.fit_transform(data[['experience_years', 'training_score', 'performance_rating', 'salary']])\n"
   ]
  },
  {
   "cell_type": "markdown",
   "id": "6dafa987",
   "metadata": {},
   "source": [
    "###  Split Data into Train/Test"
   ]
  },
  {
   "cell_type": "code",
   "execution_count": 9,
   "id": "80807dad",
   "metadata": {},
   "outputs": [],
   "source": [
    "X = data.drop(['employee_id', 'promotion'], axis=1)\n",
    "y = data['promotion']\n",
    "\n",
    "X_train, X_test, y_train, y_test = train_test_split(X, y, test_size=0.2, random_state=42)"
   ]
  },
  {
   "cell_type": "markdown",
   "id": "0d1f0135",
   "metadata": {},
   "source": [
    "### Train Classification Models"
   ]
  },
  {
   "cell_type": "markdown",
   "id": "275b0647",
   "metadata": {},
   "source": [
    "#### 1. Logistic Regression"
   ]
  },
  {
   "cell_type": "code",
   "execution_count": 10,
   "id": "7a6bc6c6",
   "metadata": {},
   "outputs": [],
   "source": [
    "log_reg = LogisticRegression() \n",
    "log_reg.fit(X_train, y_train) \n",
    "y_pred_log = log_reg.predict(X_test)"
   ]
  },
  {
   "cell_type": "markdown",
   "id": "99582c94",
   "metadata": {},
   "source": [
    "#### 2. Decision Tree Classifier"
   ]
  },
  {
   "cell_type": "code",
   "execution_count": 11,
   "id": "9b988615",
   "metadata": {},
   "outputs": [],
   "source": [
    "dt_clf = DecisionTreeClassifier() \n",
    "dt_clf.fit(X_train, y_train) \n",
    "y_pred_dt = dt_clf.predict(X_test)"
   ]
  },
  {
   "cell_type": "markdown",
   "id": "c7418b92",
   "metadata": {},
   "source": [
    "#### 3. Random Forest Classifier"
   ]
  },
  {
   "cell_type": "code",
   "execution_count": 12,
   "id": "dc911514",
   "metadata": {},
   "outputs": [],
   "source": [
    "rf_clf = RandomForestClassifier(n_estimators=100) \n",
    "rf_clf.fit(X_train, y_train) \n",
    "y_pred_rf = rf_clf.predict(X_test)"
   ]
  },
  {
   "cell_type": "markdown",
   "id": "5499fbf8",
   "metadata": {},
   "source": [
    "#### 4️. Support Vector Machine (SVM) "
   ]
  },
  {
   "cell_type": "code",
   "execution_count": 13,
   "id": "c3ab2e42",
   "metadata": {},
   "outputs": [],
   "source": [
    "svm_clf = SVC() \n",
    "svm_clf.fit(X_train, y_train) \n",
    "y_pred_svm = svm_clf.predict(X_test)"
   ]
  },
  {
   "cell_type": "markdown",
   "id": "fee69710",
   "metadata": {},
   "source": [
    "#### 5. K-Nearest Neighbors (KNN)"
   ]
  },
  {
   "cell_type": "code",
   "execution_count": 14,
   "id": "c9acea6a",
   "metadata": {},
   "outputs": [],
   "source": [
    "knn_clf = KNeighborsClassifier(n_neighbors=5) \n",
    "knn_clf.fit(X_train, y_train) \n",
    "y_pred_knn = knn_clf.predict(X_test)"
   ]
  },
  {
   "cell_type": "markdown",
   "id": "b432973e",
   "metadata": {},
   "source": [
    "###  Model Evaluation"
   ]
  },
  {
   "cell_type": "code",
   "execution_count": 15,
   "id": "3b8f6606",
   "metadata": {},
   "outputs": [
    {
     "name": "stdout",
     "output_type": "stream",
     "text": [
      "\n",
      "Logistic Regression Performance:\n",
      "Accuracy: 1.00\n",
      "Precision: 1.00\n",
      "Recall: 1.00\n",
      "F1 Score: 1.00\n",
      "--------------------------------------------------\n",
      "\n",
      "Decision Tree Performance:\n",
      "Accuracy: 0.50\n",
      "Precision: 0.00\n",
      "Recall: 0.00\n",
      "F1 Score: 0.00\n",
      "--------------------------------------------------\n",
      "\n",
      "Random Forest Performance:\n",
      "Accuracy: 1.00\n",
      "Precision: 1.00\n",
      "Recall: 1.00\n",
      "F1 Score: 1.00\n",
      "--------------------------------------------------\n",
      "\n",
      "SVM Performance:\n",
      "Accuracy: 1.00\n",
      "Precision: 1.00\n",
      "Recall: 1.00\n",
      "F1 Score: 1.00\n",
      "--------------------------------------------------\n",
      "\n",
      "KNN Performance:\n",
      "Accuracy: 1.00\n",
      "Precision: 1.00\n",
      "Recall: 1.00\n",
      "F1 Score: 1.00\n",
      "--------------------------------------------------\n"
     ]
    },
    {
     "name": "stderr",
     "output_type": "stream",
     "text": [
      "c:\\Users\\priya\\AppData\\Local\\Programs\\Python\\Python313\\Lib\\site-packages\\sklearn\\metrics\\_classification.py:1731: UndefinedMetricWarning: Precision is ill-defined and being set to 0.0 due to no predicted samples. Use `zero_division` parameter to control this behavior.\n",
      "  _warn_prf(average, modifier, f\"{metric.capitalize()} is\", result.shape[0])\n"
     ]
    }
   ],
   "source": [
    "models = { \n",
    "    \"Logistic Regression\": y_pred_log, \n",
    "    \"Decision Tree\": y_pred_dt, \n",
    "    \"Random Forest\": y_pred_rf, \n",
    "    \"SVM\": y_pred_svm, \n",
    "    \"KNN\": y_pred_knn \n",
    "} \n",
    " \n",
    "for model_name, y_pred in models.items(): \n",
    "    print(f\"\\n{model_name} Performance:\") \n",
    "    print(f\"Accuracy: {accuracy_score(y_test, y_pred):.2f}\") \n",
    "    print(f\"Precision: {precision_score(y_test, y_pred):.2f}\") \n",
    "    print(f\"Recall: {recall_score(y_test, y_pred):.2f}\") \n",
    "    print(f\"F1 Score: {f1_score(y_test, y_pred):.2f}\") \n",
    "    print(\"-\" * 50) "
   ]
  },
  {
   "cell_type": "markdown",
   "id": "fea08e80",
   "metadata": {},
   "source": [
    "### Hyperparameter Tuning (Random Forest Example)"
   ]
  },
  {
   "cell_type": "code",
   "execution_count": 16,
   "id": "e9225867",
   "metadata": {},
   "outputs": [
    {
     "name": "stdout",
     "output_type": "stream",
     "text": [
      "\n",
      "Best Parameters from GridSearchCV: {'max_depth': 2, 'n_estimators': 50}\n"
     ]
    }
   ],
   "source": [
    "param_grid = {\n",
    "    'n_estimators': [50, 100],\n",
    "    'max_depth': [2, 4, 6]\n",
    "}\n",
    "grid_search = GridSearchCV(RandomForestClassifier(random_state=42),\n",
    "                           param_grid, cv=3, scoring='accuracy')\n",
    "grid_search.fit(X_train, y_train)\n",
    "print(\"\\nBest Parameters from GridSearchCV:\", grid_search.best_params_)\n",
    "best_rf_model = grid_search.best_estimator_"
   ]
  },
  {
   "cell_type": "markdown",
   "id": "c6b4666d",
   "metadata": {},
   "source": [
    "### Feature Selection (SelectKBest)"
   ]
  },
  {
   "cell_type": "code",
   "execution_count": 17,
   "id": "c93d5743",
   "metadata": {},
   "outputs": [
    {
     "name": "stdout",
     "output_type": "stream",
     "text": [
      "\n",
      "Top 3 Selected Features: ['education', 'training_score', 'performance_rating']\n"
     ]
    }
   ],
   "source": [
    "selector = SelectKBest(score_func=f_classif, k=3)\n",
    "X_new = selector.fit_transform(X, y)\n",
    "selected_features = X.columns[selector.get_support()]\n",
    "print(\"\\nTop 3 Selected Features:\", list(selected_features))"
   ]
  },
  {
   "cell_type": "markdown",
   "id": "b7a557b8",
   "metadata": {},
   "source": [
    "### Save Final Model (Best Random Forest)"
   ]
  },
  {
   "cell_type": "code",
   "execution_count": 18,
   "id": "1ec9c488",
   "metadata": {},
   "outputs": [
    {
     "name": "stdout",
     "output_type": "stream",
     "text": [
      "\n",
      " Final Model Saved as 'best_promotion_model.pkl'\n"
     ]
    }
   ],
   "source": [
    "joblib.dump(best_rf_model, \"best_promotion_model.pkl\")\n",
    "print(\"\\n Final Model Saved as 'best_promotion_model.pkl'\")"
   ]
  }
 ],
 "metadata": {
  "kernelspec": {
   "display_name": "Python 3",
   "language": "python",
   "name": "python3"
  },
  "language_info": {
   "codemirror_mode": {
    "name": "ipython",
    "version": 3
   },
   "file_extension": ".py",
   "mimetype": "text/x-python",
   "name": "python",
   "nbconvert_exporter": "python",
   "pygments_lexer": "ipython3",
   "version": "3.13.5"
  }
 },
 "nbformat": 4,
 "nbformat_minor": 5
}
