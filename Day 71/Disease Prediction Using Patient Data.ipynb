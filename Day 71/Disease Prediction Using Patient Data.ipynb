{
 "cells": [
  {
   "cell_type": "markdown",
   "id": "6bb17b89",
   "metadata": {},
   "source": [
    "### Import Required Libraries"
   ]
  },
  {
   "cell_type": "code",
   "execution_count": 1,
   "id": "e2d299f0",
   "metadata": {},
   "outputs": [],
   "source": [
    "import pandas as pd\n",
    "import numpy as np\n",
    "from sklearn.model_selection import train_test_split\n",
    "from sklearn.preprocessing import LabelEncoder, StandardScaler\n",
    "from sklearn.linear_model import LogisticRegression\n",
    "from sklearn.tree import DecisionTreeClassifier\n",
    "from sklearn.ensemble import RandomForestClassifier\n",
    "from sklearn.svm import SVC\n",
    "from sklearn.neighbors import KNeighborsClassifier\n",
    "from sklearn.metrics import accuracy_score, precision_score, recall_score, f1_score"
   ]
  },
  {
   "cell_type": "markdown",
   "id": "3db07442",
   "metadata": {},
   "source": [
    "### Sample Patient Data"
   ]
  },
  {
   "cell_type": "code",
   "execution_count": 2,
   "id": "0fde5f60",
   "metadata": {},
   "outputs": [
    {
     "name": "stdout",
     "output_type": "stream",
     "text": [
      "  patient_id  age   bmi  blood_pressure  glucose_level smoking  \\\n",
      "0       P001   25  22.5             120             85      No   \n",
      "1       P002   45  28.1             135            140     Yes   \n",
      "2       P003   30  26.0             128             95      No   \n",
      "3       P004   50  31.5             145            160     Yes   \n",
      "4       P005   60  33.0             150            170     Yes   \n",
      "\n",
      "  physical_activity  disease  \n",
      "0              High        0  \n",
      "1               Low        1  \n",
      "2            Medium        0  \n",
      "3               Low        1  \n",
      "4               Low        1  \n"
     ]
    }
   ],
   "source": [
    "data = pd.DataFrame({\n",
    "    'patient_id': ['P001', 'P002', 'P003', 'P004', 'P005', 'P006', 'P007', 'P008', 'P009', 'P010'],\n",
    "    'age': [25, 45, 30, 50, 60, 28, 55, 40, 35, 65],\n",
    "    'bmi': [22.5, 28.1, 26.0, 31.5, 33.0, 24.8, 29.5, 27.0, 25.5, 34.5],\n",
    "    'blood_pressure': [120, 135, 128, 145, 150, 118, 140, 130, 125, 155],\n",
    "    'glucose_level': [85, 140, 95, 160, 170, 90, 150, 130, 100, 180],\n",
    "    'smoking': ['No', 'Yes', 'No', 'Yes', 'Yes', 'No', 'Yes', 'No', 'No', 'Yes'],\n",
    "    'physical_activity': ['High', 'Low', 'Medium', 'Low', 'Low', 'High', 'Low', 'Medium', 'High', 'Low'],\n",
    "    'disease': [0, 1, 0, 1, 1, 0, 1, 0, 0, 1]  # Target variable (0 = Healthy, 1 = Diseased)\n",
    "})\n",
    "\n",
    "# Display first five rows\n",
    "print(data.head())"
   ]
  },
  {
   "cell_type": "markdown",
   "id": "4d28eb20",
   "metadata": {},
   "source": [
    "### Encode Categorical Variables"
   ]
  },
  {
   "cell_type": "code",
   "execution_count": 3,
   "id": "78531d16",
   "metadata": {},
   "outputs": [],
   "source": [
    "label_enc = LabelEncoder()\n",
    "data['smoking'] = label_enc.fit_transform(data['smoking'])          # No=0, Yes=1\n",
    "data['physical_activity'] = label_enc.fit_transform(data['physical_activity'])  # Low/Medium/High → numeric"
   ]
  },
  {
   "cell_type": "markdown",
   "id": "a880497d",
   "metadata": {},
   "source": [
    "### Split Data "
   ]
  },
  {
   "cell_type": "code",
   "execution_count": 4,
   "id": "99806a21",
   "metadata": {},
   "outputs": [],
   "source": [
    "X = data.drop(['patient_id', 'disease'], axis=1)\n",
    "y = data['disease']\n",
    "\n",
    "X_train, X_test, y_train, y_test = train_test_split(X, y, test_size=0.2, random_state=42)"
   ]
  },
  {
   "cell_type": "markdown",
   "id": "44e7567d",
   "metadata": {},
   "source": [
    "### Train Classification Models"
   ]
  },
  {
   "cell_type": "markdown",
   "id": "b2ad8505",
   "metadata": {},
   "source": [
    "#### 1. Logistic Regression "
   ]
  },
  {
   "cell_type": "code",
   "execution_count": 5,
   "id": "81556a0d",
   "metadata": {},
   "outputs": [],
   "source": [
    "log_reg = LogisticRegression() \n",
    "log_reg.fit(X_train, y_train) \n",
    "y_pred_log = log_reg.predict(X_test)"
   ]
  },
  {
   "cell_type": "markdown",
   "id": "646e119c",
   "metadata": {},
   "source": [
    "#### 2. Decision Tree Classifier"
   ]
  },
  {
   "cell_type": "code",
   "execution_count": 6,
   "id": "967b216b",
   "metadata": {},
   "outputs": [],
   "source": [
    "dt_clf = DecisionTreeClassifier() \n",
    "dt_clf.fit(X_train, y_train) \n",
    "y_pred_dt = dt_clf.predict(X_test)"
   ]
  },
  {
   "cell_type": "markdown",
   "id": "0e90b064",
   "metadata": {},
   "source": [
    "#### 3. Random Forest Classifier"
   ]
  },
  {
   "cell_type": "code",
   "execution_count": 7,
   "id": "4eb0bb5c",
   "metadata": {},
   "outputs": [],
   "source": [
    "rf_clf = RandomForestClassifier(n_estimators=100) \n",
    "rf_clf.fit(X_train, y_train) \n",
    "y_pred_rf = rf_clf.predict(X_test)"
   ]
  },
  {
   "cell_type": "markdown",
   "id": "eb4956df",
   "metadata": {},
   "source": [
    "#### 4️. Support Vector Machine (SVM)"
   ]
  },
  {
   "cell_type": "code",
   "execution_count": 8,
   "id": "9ea9e723",
   "metadata": {},
   "outputs": [],
   "source": [
    "svm_clf = SVC() \n",
    "svm_clf.fit(X_train, y_train) \n",
    "y_pred_svm = svm_clf.predict(X_test)"
   ]
  },
  {
   "cell_type": "markdown",
   "id": "dcf51d9a",
   "metadata": {},
   "source": [
    "#### 5. K-Nearest Neighbors (KNN)"
   ]
  },
  {
   "cell_type": "code",
   "execution_count": 9,
   "id": "afd6da25",
   "metadata": {},
   "outputs": [],
   "source": [
    "knn_clf = KNeighborsClassifier(n_neighbors=5) \n",
    "knn_clf.fit(X_train, y_train) \n",
    "y_pred_knn = knn_clf.predict(X_test)"
   ]
  },
  {
   "cell_type": "markdown",
   "id": "8d23db15",
   "metadata": {},
   "source": [
    "### Model Evaluation "
   ]
  },
  {
   "cell_type": "code",
   "execution_count": 10,
   "id": "a093ef21",
   "metadata": {},
   "outputs": [
    {
     "name": "stdout",
     "output_type": "stream",
     "text": [
      "\n",
      "Logistic Regression Performance:\n",
      "Accuracy: 0.50\n",
      "Precision: 0.00\n",
      "Recall: 0.00\n",
      "F1 Score: 0.00\n",
      "--------------------------------------------------\n",
      "\n",
      "Decision Tree Performance:\n",
      "Accuracy: 1.00\n",
      "Precision: 1.00\n",
      "Recall: 1.00\n",
      "F1 Score: 1.00\n",
      "--------------------------------------------------\n",
      "\n",
      "Random Forest Performance:\n",
      "Accuracy: 0.50\n",
      "Precision: 0.00\n",
      "Recall: 0.00\n",
      "F1 Score: 0.00\n",
      "--------------------------------------------------\n",
      "\n",
      "SVM Performance:\n",
      "Accuracy: 1.00\n",
      "Precision: 1.00\n",
      "Recall: 1.00\n",
      "F1 Score: 1.00\n",
      "--------------------------------------------------\n",
      "\n",
      "KNN Performance:\n",
      "Accuracy: 1.00\n",
      "Precision: 1.00\n",
      "Recall: 1.00\n",
      "F1 Score: 1.00\n",
      "--------------------------------------------------\n"
     ]
    },
    {
     "name": "stderr",
     "output_type": "stream",
     "text": [
      "c:\\Users\\priya\\AppData\\Local\\Programs\\Python\\Python313\\Lib\\site-packages\\sklearn\\metrics\\_classification.py:1731: UndefinedMetricWarning: Precision is ill-defined and being set to 0.0 due to no predicted samples. Use `zero_division` parameter to control this behavior.\n",
      "  _warn_prf(average, modifier, f\"{metric.capitalize()} is\", result.shape[0])\n",
      "c:\\Users\\priya\\AppData\\Local\\Programs\\Python\\Python313\\Lib\\site-packages\\sklearn\\metrics\\_classification.py:1731: UndefinedMetricWarning: Precision is ill-defined and being set to 0.0 due to no predicted samples. Use `zero_division` parameter to control this behavior.\n",
      "  _warn_prf(average, modifier, f\"{metric.capitalize()} is\", result.shape[0])\n"
     ]
    }
   ],
   "source": [
    "models = { \n",
    "    \"Logistic Regression\": y_pred_log, \n",
    "    \"Decision Tree\": y_pred_dt, \n",
    "    \"Random Forest\": y_pred_rf, \n",
    "    \"SVM\": y_pred_svm, \n",
    "    \"KNN\": y_pred_knn \n",
    "} \n",
    " \n",
    "for model_name, y_pred in models.items(): \n",
    "    print(f\"\\n{model_name} Performance:\") \n",
    "    print(f\"Accuracy: {accuracy_score(y_test, y_pred):.2f}\") \n",
    "    print(f\"Precision: {precision_score(y_test, y_pred):.2f}\") \n",
    "    print(f\"Recall: {recall_score(y_test, y_pred):.2f}\") \n",
    "    print(f\"F1 Score: {f1_score(y_test, y_pred):.2f}\") \n",
    "    print(\"-\" * 50)"
   ]
  }
 ],
 "metadata": {
  "kernelspec": {
   "display_name": "Python 3",
   "language": "python",
   "name": "python3"
  },
  "language_info": {
   "codemirror_mode": {
    "name": "ipython",
    "version": 3
   },
   "file_extension": ".py",
   "mimetype": "text/x-python",
   "name": "python",
   "nbconvert_exporter": "python",
   "pygments_lexer": "ipython3",
   "version": "3.13.5"
  }
 },
 "nbformat": 4,
 "nbformat_minor": 5
}
