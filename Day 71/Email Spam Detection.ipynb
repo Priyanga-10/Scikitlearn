{
 "cells": [
  {
   "cell_type": "markdown",
   "id": "6973c324",
   "metadata": {},
   "source": [
    "### Import Required Libraries"
   ]
  },
  {
   "cell_type": "code",
   "execution_count": 1,
   "id": "a374d17f",
   "metadata": {},
   "outputs": [],
   "source": [
    "import pandas as pd\n",
    "from sklearn.model_selection import train_test_split\n",
    "from sklearn.feature_extraction.text import TfidfVectorizer\n",
    "from sklearn.preprocessing import LabelEncoder\n",
    "from sklearn.linear_model import LogisticRegression\n",
    "from sklearn.tree import DecisionTreeClassifier\n",
    "from sklearn.ensemble import RandomForestClassifier\n",
    "from sklearn.svm import SVC\n",
    "from sklearn.neighbors import KNeighborsClassifier\n",
    "from sklearn.metrics import accuracy_score, precision_score, recall_score, f1_score"
   ]
  },
  {
   "cell_type": "markdown",
   "id": "52feede4",
   "metadata": {},
   "source": [
    "### Sample Dataset"
   ]
  },
  {
   "cell_type": "code",
   "execution_count": 2,
   "id": "6dbf45cc",
   "metadata": {},
   "outputs": [
    {
     "name": "stdout",
     "output_type": "stream",
     "text": [
      "                                          email_text     label\n",
      "0  Congratulations! You won a $1000 gift card. Cl...      spam\n",
      "1  Reminder: Your meeting is scheduled for 3 PM t...  not spam\n",
      "2  Earn money quickly by working from home. Limit...      spam\n",
      "3  Project report submission deadline extended to...  not spam\n",
      "4  You have been selected for a free vacation tri...      spam\n"
     ]
    }
   ],
   "source": [
    "data = pd.DataFrame({\n",
    "    'email_text': [\n",
    "        \"Congratulations! You won a $1000 gift card. Click to claim now!\",\n",
    "        \"Reminder: Your meeting is scheduled for 3 PM today.\",\n",
    "        \"Earn money quickly by working from home. Limited offer!\",\n",
    "        \"Project report submission deadline extended to Friday.\",\n",
    "        \"You have been selected for a free vacation trip to Maldives!\",\n",
    "        \"Team lunch planned for next Monday. RSVP soon.\",\n",
    "        \"Win a free iPhone! Register at the link below.\",\n",
    "        \"Please find attached the updated financial report.\",\n",
    "        \"Exclusive deal! 50% discount on all products. Hurry up!\",\n",
    "        \"Let's catch up tomorrow to discuss the new proposal.\"\n",
    "    ],\n",
    "    'label': ['spam', 'not spam', 'spam', 'not spam', 'spam',\n",
    "              'not spam', 'spam', 'not spam', 'spam', 'not spam']\n",
    "})\n",
    "\n",
    "# Display first five rows\n",
    "print(data.head())"
   ]
  },
  {
   "cell_type": "markdown",
   "id": "53a3b77f",
   "metadata": {},
   "source": [
    "### Encode Target Labels"
   ]
  },
  {
   "cell_type": "code",
   "execution_count": 3,
   "id": "6f93b9d7",
   "metadata": {},
   "outputs": [],
   "source": [
    "label_enc = LabelEncoder()\n",
    "data['label'] = label_enc.fit_transform(data['label'])  # spam=1, not spam=0"
   ]
  },
  {
   "cell_type": "markdown",
   "id": "398f6863",
   "metadata": {},
   "source": [
    "### Convert Text Data to Numerical (TF-IDF)"
   ]
  },
  {
   "cell_type": "code",
   "execution_count": 4,
   "id": "e6cfab11",
   "metadata": {},
   "outputs": [],
   "source": [
    "vectorizer = TfidfVectorizer(stop_words='english')\n",
    "X = vectorizer.fit_transform(data['email_text'])\n",
    "y = data['label']"
   ]
  },
  {
   "cell_type": "markdown",
   "id": "a2aca4f7",
   "metadata": {},
   "source": [
    "###  Split Data into Training and Testing Sets"
   ]
  },
  {
   "cell_type": "code",
   "execution_count": 5,
   "id": "32062f0d",
   "metadata": {},
   "outputs": [],
   "source": [
    "X_train, X_test, y_train, y_test = train_test_split(X, y, test_size=0.2, random_state=42)"
   ]
  },
  {
   "cell_type": "markdown",
   "id": "317e3563",
   "metadata": {},
   "source": [
    "###  Train Classification Models"
   ]
  },
  {
   "cell_type": "markdown",
   "id": "32c2bb9e",
   "metadata": {},
   "source": [
    "#### 1. Logistic Regression"
   ]
  },
  {
   "cell_type": "code",
   "execution_count": 6,
   "id": "a95a9442",
   "metadata": {},
   "outputs": [],
   "source": [
    "log_reg = LogisticRegression() \n",
    "log_reg.fit(X_train, y_train) \n",
    "y_pred_log = log_reg.predict(X_test)"
   ]
  },
  {
   "cell_type": "markdown",
   "id": "bebb2f71",
   "metadata": {},
   "source": [
    "#### 2. Decision Tree Classifier"
   ]
  },
  {
   "cell_type": "code",
   "execution_count": 7,
   "id": "ed6616c8",
   "metadata": {},
   "outputs": [],
   "source": [
    "dt_clf = DecisionTreeClassifier() \n",
    "dt_clf.fit(X_train, y_train) \n",
    "y_pred_dt = dt_clf.predict(X_test)"
   ]
  },
  {
   "cell_type": "markdown",
   "id": "604289a6",
   "metadata": {},
   "source": [
    "#### 3. Random Forest Classifier"
   ]
  },
  {
   "cell_type": "code",
   "execution_count": 8,
   "id": "ecc9e32f",
   "metadata": {},
   "outputs": [],
   "source": [
    "rf_clf = RandomForestClassifier(n_estimators=100) \n",
    "rf_clf.fit(X_train, y_train) \n",
    "y_pred_rf = rf_clf.predict(X_test)"
   ]
  },
  {
   "cell_type": "markdown",
   "id": "57bdea18",
   "metadata": {},
   "source": [
    "#### 4️. Support Vector Machine (SVM)"
   ]
  },
  {
   "cell_type": "code",
   "execution_count": 9,
   "id": "d1088dac",
   "metadata": {},
   "outputs": [],
   "source": [
    "svm_clf = SVC() \n",
    "svm_clf.fit(X_train, y_train) \n",
    "y_pred_svm = svm_clf.predict(X_test) "
   ]
  },
  {
   "cell_type": "markdown",
   "id": "0ea2d60f",
   "metadata": {},
   "source": [
    "#### 5. K-Nearest Neighbors (KNN)"
   ]
  },
  {
   "cell_type": "code",
   "execution_count": 10,
   "id": "c456ae38",
   "metadata": {},
   "outputs": [],
   "source": [
    "knn_clf = KNeighborsClassifier(n_neighbors=5) \n",
    "knn_clf.fit(X_train, y_train) \n",
    "y_pred_knn = knn_clf.predict(X_test) "
   ]
  },
  {
   "cell_type": "markdown",
   "id": "e2973253",
   "metadata": {},
   "source": [
    "### Model Evaluation"
   ]
  },
  {
   "cell_type": "code",
   "execution_count": 11,
   "id": "697a6bde",
   "metadata": {},
   "outputs": [
    {
     "name": "stdout",
     "output_type": "stream",
     "text": [
      "\n",
      "Logistic Regression Performance:\n",
      "Accuracy: 0.50\n",
      "Precision: 0.50\n",
      "Recall: 1.00\n",
      "F1 Score: 0.67\n",
      "--------------------------------------------------\n",
      "\n",
      "Decision Tree Performance:\n",
      "Accuracy: 0.50\n",
      "Precision: 0.00\n",
      "Recall: 0.00\n",
      "F1 Score: 0.00\n",
      "--------------------------------------------------\n",
      "\n",
      "Random Forest Performance:\n",
      "Accuracy: 0.50\n",
      "Precision: 0.00\n",
      "Recall: 0.00\n",
      "F1 Score: 0.00\n",
      "--------------------------------------------------\n",
      "\n",
      "SVM Performance:\n",
      "Accuracy: 0.50\n",
      "Precision: 0.50\n",
      "Recall: 1.00\n",
      "F1 Score: 0.67\n",
      "--------------------------------------------------\n",
      "\n",
      "KNN Performance:\n",
      "Accuracy: 0.50\n",
      "Precision: 0.50\n",
      "Recall: 1.00\n",
      "F1 Score: 0.67\n",
      "--------------------------------------------------\n"
     ]
    },
    {
     "name": "stderr",
     "output_type": "stream",
     "text": [
      "c:\\Users\\priya\\AppData\\Local\\Programs\\Python\\Python313\\Lib\\site-packages\\sklearn\\metrics\\_classification.py:1731: UndefinedMetricWarning: Precision is ill-defined and being set to 0.0 due to no predicted samples. Use `zero_division` parameter to control this behavior.\n",
      "  _warn_prf(average, modifier, f\"{metric.capitalize()} is\", result.shape[0])\n",
      "c:\\Users\\priya\\AppData\\Local\\Programs\\Python\\Python313\\Lib\\site-packages\\sklearn\\metrics\\_classification.py:1731: UndefinedMetricWarning: Precision is ill-defined and being set to 0.0 due to no predicted samples. Use `zero_division` parameter to control this behavior.\n",
      "  _warn_prf(average, modifier, f\"{metric.capitalize()} is\", result.shape[0])\n"
     ]
    }
   ],
   "source": [
    "models = { \n",
    "    \"Logistic Regression\": y_pred_log, \n",
    "    \"Decision Tree\": y_pred_dt, \n",
    "    \"Random Forest\": y_pred_rf, \n",
    "    \"SVM\": y_pred_svm, \n",
    "    \"KNN\": y_pred_knn \n",
    "} \n",
    " \n",
    "for model_name, y_pred in models.items(): \n",
    "    print(f\"\\n{model_name} Performance:\") \n",
    "    print(f\"Accuracy: {accuracy_score(y_test, y_pred):.2f}\") \n",
    "    print(f\"Precision: {precision_score(y_test, y_pred):.2f}\") \n",
    "    print(f\"Recall: {recall_score(y_test, y_pred):.2f}\") \n",
    "    print(f\"F1 Score: {f1_score(y_test, y_pred):.2f}\") \n",
    "    print(\"-\" * 50) "
   ]
  }
 ],
 "metadata": {
  "kernelspec": {
   "display_name": "Python 3",
   "language": "python",
   "name": "python3"
  },
  "language_info": {
   "codemirror_mode": {
    "name": "ipython",
    "version": 3
   },
   "file_extension": ".py",
   "mimetype": "text/x-python",
   "name": "python",
   "nbconvert_exporter": "python",
   "pygments_lexer": "ipython3",
   "version": "3.13.5"
  }
 },
 "nbformat": 4,
 "nbformat_minor": 5
}
