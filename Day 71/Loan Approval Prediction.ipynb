{
 "cells": [
  {
   "cell_type": "markdown",
   "id": "31c90d54",
   "metadata": {},
   "source": [
    "### Import Required Libraries"
   ]
  },
  {
   "cell_type": "code",
   "execution_count": 1,
   "id": "ab86c728",
   "metadata": {},
   "outputs": [],
   "source": [
    "import pandas as pd \n",
    "import numpy as np \n",
    "import matplotlib.pyplot as plt\n",
    "import seaborn as sns \n",
    " \n",
    "from sklearn.model_selection import train_test_split \n",
    "from sklearn.preprocessing import StandardScaler, LabelEncoder \n",
    "from sklearn.linear_model import LogisticRegression \n",
    "from sklearn.tree import DecisionTreeClassifier \n",
    "from sklearn.ensemble import RandomForestClassifier \n",
    "from sklearn.svm import SVC \n",
    "from sklearn.neighbors import KNeighborsClassifier \n",
    "from sklearn.metrics import accuracy_score, precision_score, recall_score, f1_score, classification_report"
   ]
  },
  {
   "cell_type": "markdown",
   "id": "f038a21b",
   "metadata": {},
   "source": [
    "### Sample Loan Data"
   ]
  },
  {
   "cell_type": "code",
   "execution_count": null,
   "id": "dfe24309",
   "metadata": {},
   "outputs": [
    {
     "name": "stdout",
     "output_type": "stream",
     "text": [
      "   applicant_income  loan_amount  credit_history  loan_term married  \\\n",
      "0              2500          120               1        360     Yes   \n",
      "1              4000          150               1        120      No   \n",
      "2              3000          100               0        180     Yes   \n",
      "3              6000          250               1        360     Yes   \n",
      "4              1500           80               0        240      No   \n",
      "\n",
      "  self_employed  loan_approved  \n",
      "0            No              1  \n",
      "1            No              1  \n",
      "2           Yes              0  \n",
      "3            No              1  \n",
      "4           Yes              0  \n"
     ]
    }
   ],
   "source": [
    "data = pd.DataFrame({\n",
    "    'applicant_income': [2500, 4000, 3000, 6000, 1500, 8000, 3500, 4200, 5200, 2700],\n",
    "    'loan_amount': [120, 150, 100, 250, 80, 300, 110, 160, 200, 90],\n",
    "    'credit_history': [1, 1, 0, 1, 0, 1, 1, 0, 1, 0],\n",
    "    'loan_term': [360, 120, 180, 360, 240, 360, 300, 180, 360, 120],\n",
    "    'married': ['Yes', 'No', 'Yes', 'Yes', 'No', 'Yes', 'No', 'Yes', 'Yes', 'No'],\n",
    "    'self_employed': ['No', 'No', 'Yes', 'No', 'Yes', 'No', 'No', 'Yes', 'No', 'Yes'],\n",
    "    'loan_approved': [1, 1, 0, 1, 0, 1, 1, 0, 1, 0] # 1 = Approved, 0 = Denied\n",
    "})\n",
    "\n",
    "# Display first five rows\n",
    "print(data.head())"
   ]
  },
  {
   "cell_type": "markdown",
   "id": "507f74cd",
   "metadata": {},
   "source": [
    "###  Data Preprocessing"
   ]
  },
  {
   "cell_type": "code",
   "execution_count": 3,
   "id": "c53a0be5",
   "metadata": {},
   "outputs": [],
   "source": [
    "# Convert categorical variables to numerical \n",
    "label_enc = LabelEncoder() \n",
    "data['married'] = label_enc.fit_transform(data['married']) \n",
    "data['self_employed'] = label_enc.fit_transform(data['self_employed']) \n",
    "data['loan_approved'] = label_enc.fit_transform(data['loan_approved'])  # Target variable"
   ]
  },
  {
   "cell_type": "markdown",
   "id": "d9bf80d0",
   "metadata": {},
   "source": [
    "###  Split Data"
   ]
  },
  {
   "cell_type": "code",
   "execution_count": 4,
   "id": "a72b5fc1",
   "metadata": {},
   "outputs": [],
   "source": [
    "X = data.drop(columns=['loan_approved'])  # Features \n",
    "y = data['loan_approved']  # Target variable \n",
    " \n",
    "# Split into training and testing sets (80% train, 20% test) \n",
    "X_train, X_test, y_train, y_test = train_test_split(X, y, test_size=0.2, random_state=42)"
   ]
  },
  {
   "cell_type": "markdown",
   "id": "5d79be92",
   "metadata": {},
   "source": [
    "###  Train Classification Models "
   ]
  },
  {
   "cell_type": "markdown",
   "id": "2d41febe",
   "metadata": {},
   "source": [
    "#### 1. Logistic Regression"
   ]
  },
  {
   "cell_type": "code",
   "execution_count": 5,
   "id": "66453fd0",
   "metadata": {},
   "outputs": [
    {
     "name": "stderr",
     "output_type": "stream",
     "text": [
      "c:\\Users\\priya\\AppData\\Local\\Programs\\Python\\Python313\\Lib\\site-packages\\sklearn\\linear_model\\_logistic.py:473: ConvergenceWarning: lbfgs failed to converge after 100 iteration(s) (status=1):\n",
      "STOP: TOTAL NO. OF ITERATIONS REACHED LIMIT\n",
      "\n",
      "Increase the number of iterations to improve the convergence (max_iter=100).\n",
      "You might also want to scale the data as shown in:\n",
      "    https://scikit-learn.org/stable/modules/preprocessing.html\n",
      "Please also refer to the documentation for alternative solver options:\n",
      "    https://scikit-learn.org/stable/modules/linear_model.html#logistic-regression\n",
      "  n_iter_i = _check_optimize_result(\n"
     ]
    }
   ],
   "source": [
    "log_reg = LogisticRegression() \n",
    "log_reg.fit(X_train, y_train) \n",
    "y_pred_log = log_reg.predict(X_test)"
   ]
  },
  {
   "cell_type": "markdown",
   "id": "5be6da65",
   "metadata": {},
   "source": [
    "#### 2. Decision Tree Classifier"
   ]
  },
  {
   "cell_type": "code",
   "execution_count": 6,
   "id": "37aeaaef",
   "metadata": {},
   "outputs": [],
   "source": [
    "dt_clf = DecisionTreeClassifier() \n",
    "dt_clf.fit(X_train, y_train) \n",
    "y_pred_dt = dt_clf.predict(X_test)"
   ]
  },
  {
   "cell_type": "markdown",
   "id": "bd750ee9",
   "metadata": {},
   "source": [
    "#### 3. Random Forest Classifier "
   ]
  },
  {
   "cell_type": "code",
   "execution_count": 7,
   "id": "7ce9dfb4",
   "metadata": {},
   "outputs": [],
   "source": [
    "rf_clf = RandomForestClassifier(n_estimators=100) \n",
    "rf_clf.fit(X_train, y_train) \n",
    "y_pred_rf = rf_clf.predict(X_test) "
   ]
  },
  {
   "cell_type": "markdown",
   "id": "95a1cada",
   "metadata": {},
   "source": [
    "#### 4️. Support Vector Machine (SVM)"
   ]
  },
  {
   "cell_type": "code",
   "execution_count": 8,
   "id": "57a3d8c8",
   "metadata": {},
   "outputs": [],
   "source": [
    "svm_clf = SVC() \n",
    "svm_clf.fit(X_train, y_train) \n",
    "y_pred_svm = svm_clf.predict(X_test)"
   ]
  },
  {
   "cell_type": "markdown",
   "id": "845d06d7",
   "metadata": {},
   "source": [
    "#### 5. K-Nearest Neighbors (KNN)"
   ]
  },
  {
   "cell_type": "code",
   "execution_count": 9,
   "id": "851e825b",
   "metadata": {},
   "outputs": [],
   "source": [
    "knn_clf = KNeighborsClassifier(n_neighbors=5) \n",
    "knn_clf.fit(X_train, y_train) \n",
    "y_pred_knn = knn_clf.predict(X_test)"
   ]
  },
  {
   "cell_type": "markdown",
   "id": "9f356a9f",
   "metadata": {},
   "source": [
    "####  Model Evaluation"
   ]
  },
  {
   "cell_type": "code",
   "execution_count": 10,
   "id": "05b0088c",
   "metadata": {},
   "outputs": [
    {
     "name": "stdout",
     "output_type": "stream",
     "text": [
      "\n",
      "Logistic Regression Performance:\n",
      "Accuracy: 0.50\n",
      "Precision: 1.00\n",
      "Recall: 0.50\n",
      "F1 Score: 0.67\n",
      "--------------------------------------------------\n",
      "\n",
      "Decision Tree Performance:\n",
      "Accuracy: 0.50\n",
      "Precision: 1.00\n",
      "Recall: 0.50\n",
      "F1 Score: 0.67\n",
      "--------------------------------------------------\n",
      "\n",
      "Random Forest Performance:\n",
      "Accuracy: 1.00\n",
      "Precision: 1.00\n",
      "Recall: 1.00\n",
      "F1 Score: 1.00\n",
      "--------------------------------------------------\n",
      "\n",
      "SVM Performance:\n",
      "Accuracy: 0.50\n",
      "Precision: 1.00\n",
      "Recall: 0.50\n",
      "F1 Score: 0.67\n",
      "--------------------------------------------------\n",
      "\n",
      "KNN Performance:\n",
      "Accuracy: 0.00\n",
      "Precision: 0.00\n",
      "Recall: 0.00\n",
      "F1 Score: 0.00\n",
      "--------------------------------------------------\n"
     ]
    },
    {
     "name": "stderr",
     "output_type": "stream",
     "text": [
      "c:\\Users\\priya\\AppData\\Local\\Programs\\Python\\Python313\\Lib\\site-packages\\sklearn\\metrics\\_classification.py:1731: UndefinedMetricWarning: Precision is ill-defined and being set to 0.0 due to no predicted samples. Use `zero_division` parameter to control this behavior.\n",
      "  _warn_prf(average, modifier, f\"{metric.capitalize()} is\", result.shape[0])\n"
     ]
    }
   ],
   "source": [
    "models = { \n",
    "    \"Logistic Regression\": y_pred_log, \n",
    "    \"Decision Tree\": y_pred_dt, \n",
    "    \"Random Forest\": y_pred_rf, \n",
    "    \"SVM\": y_pred_svm, \n",
    "    \"KNN\": y_pred_knn \n",
    "} \n",
    " \n",
    "for model_name, y_pred in models.items(): \n",
    "    print(f\"\\n{model_name} Performance:\") \n",
    "    print(f\"Accuracy: {accuracy_score(y_test, y_pred):.2f}\") \n",
    "    print(f\"Precision: {precision_score(y_test, y_pred):.2f}\") \n",
    "    print(f\"Recall: {recall_score(y_test, y_pred):.2f}\") \n",
    "    print(f\"F1 Score: {f1_score(y_test, y_pred):.2f}\") \n",
    "    print(\"-\" * 50)"
   ]
  }
 ],
 "metadata": {
  "kernelspec": {
   "display_name": "Python 3",
   "language": "python",
   "name": "python3"
  },
  "language_info": {
   "codemirror_mode": {
    "name": "ipython",
    "version": 3
   },
   "file_extension": ".py",
   "mimetype": "text/x-python",
   "name": "python",
   "nbconvert_exporter": "python",
   "pygments_lexer": "ipython3",
   "version": "3.13.5"
  }
 },
 "nbformat": 4,
 "nbformat_minor": 5
}
