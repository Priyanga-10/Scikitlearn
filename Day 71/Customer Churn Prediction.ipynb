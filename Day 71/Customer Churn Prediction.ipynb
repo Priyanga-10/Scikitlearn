{
 "cells": [
  {
   "cell_type": "markdown",
   "id": "3f03853f",
   "metadata": {},
   "source": [
    "###  Import Required Libraries"
   ]
  },
  {
   "cell_type": "code",
   "execution_count": 1,
   "id": "e874c27b",
   "metadata": {},
   "outputs": [],
   "source": [
    "import pandas as pd \n",
    "import numpy as np \n",
    "import matplotlib.pyplot as plt\n",
    "import seaborn as sns \n",
    " \n",
    "from sklearn.model_selection import train_test_split \n",
    "from sklearn.preprocessing import StandardScaler, LabelEncoder \n",
    "from sklearn.linear_model import LogisticRegression \n",
    "from sklearn.tree import DecisionTreeClassifier \n",
    "from sklearn.ensemble import RandomForestClassifier \n",
    "from sklearn.svm import SVC \n",
    "from sklearn.neighbors import KNeighborsClassifier \n",
    "from sklearn.metrics import accuracy_score, precision_score, recall_score, f1_score, classification_report"
   ]
  },
  {
   "cell_type": "markdown",
   "id": "aef03c24",
   "metadata": {},
   "source": [
    "### Sample Customer Churn Data"
   ]
  },
  {
   "cell_type": "code",
   "execution_count": 3,
   "id": "a05f6267",
   "metadata": {},
   "outputs": [
    {
     "name": "stdout",
     "output_type": "stream",
     "text": [
      "  customer_id  tenure  monthly_charges  total_charges contract_type  \\\n",
      "0        C001      12             45.5          546.0       Monthly   \n",
      "1        C002      24             70.2         1684.8        Yearly   \n",
      "2        C003       5             55.0          275.0       Monthly   \n",
      "3        C004      36             99.5         3582.0      Two Year   \n",
      "4        C005       8             40.0          320.0       Monthly   \n",
      "\n",
      "  internet_service    payment_method  churn  \n",
      "0              DSL       Credit Card      0  \n",
      "1            Fiber     Bank Transfer      0  \n",
      "2              DSL  Electronic Check      1  \n",
      "3            Fiber       Credit Card      0  \n",
      "4               No      Mailed Check      1  \n"
     ]
    }
   ],
   "source": [
    "data = pd.DataFrame({\n",
    "    'customer_id': ['C001', 'C002', 'C003', 'C004', 'C005', 'C006', 'C007', 'C008', 'C009', 'C010'],\n",
    "    'tenure': [12, 24, 5, 36, 8, 15, 42, 2, 30, 20],\n",
    "    'monthly_charges': [45.5, 70.2, 55.0, 99.5, 40.0, 60.3, 110.5, 35.0, 85.0, 65.5],\n",
    "    'total_charges': [546.0, 1684.8, 275.0, 3582.0, 320.0, 904.5, 4641.0, 70.0, 2550.0, 1310.0],\n",
    "    'contract_type': ['Monthly', 'Yearly', 'Monthly', 'Two Year', 'Monthly', 'Yearly', 'Two Year', 'Monthly', 'Yearly', 'Monthly'],\n",
    "    'internet_service': ['DSL', 'Fiber', 'DSL', 'Fiber', 'No', 'DSL', 'Fiber', 'DSL', 'Fiber', 'DSL'],\n",
    "    'payment_method': ['Credit Card', 'Bank Transfer', 'Electronic Check', 'Credit Card', 'Mailed Check',\n",
    "                       'Electronic Check', 'Bank Transfer', 'Credit Card', 'Electronic Check', 'Mailed Check'],\n",
    "    'churn': [0, 0, 1, 0, 1, 0, 0, 1, 0, 1]   # Yes = 1, No = 0\n",
    "})\n",
    "\n",
    "# Display first five rows\n",
    "print(data.head())"
   ]
  },
  {
   "cell_type": "markdown",
   "id": "1e45610a",
   "metadata": {},
   "source": [
    "###  Data Preprocessing"
   ]
  },
  {
   "cell_type": "code",
   "execution_count": 4,
   "id": "467606cb",
   "metadata": {},
   "outputs": [],
   "source": [
    "# Drop customer_id column \n",
    "data.drop(columns=['customer_id'], inplace=True) \n",
    " \n",
    "# Convert categorical variables to numerical \n",
    "label_enc = LabelEncoder() \n",
    "data['contract_type'] = label_enc.fit_transform(data['contract_type']) \n",
    "data['internet_service'] = label_enc.fit_transform(data['internet_service']) \n",
    "data['payment_method'] = label_enc.fit_transform(data['payment_method']) \n",
    "data['churn'] = label_enc.fit_transform(data['churn'])  # Target variable "
   ]
  },
  {
   "cell_type": "markdown",
   "id": "34ca4324",
   "metadata": {},
   "source": [
    "### Split Data"
   ]
  },
  {
   "cell_type": "code",
   "execution_count": 5,
   "id": "25649c0e",
   "metadata": {},
   "outputs": [],
   "source": [
    "X = data.drop(columns=['churn'])  # Features \n",
    "y = data['churn']  # Target variable \n",
    " \n",
    "# Split into training and testing sets (80% train, 20% test) \n",
    "X_train, X_test, y_train, y_test = train_test_split(X, y, test_size=0.2, random_state=42)"
   ]
  },
  {
   "cell_type": "markdown",
   "id": "30b19c94",
   "metadata": {},
   "source": [
    "###  Train Classification Models"
   ]
  },
  {
   "cell_type": "markdown",
   "id": "eb1d17b2",
   "metadata": {},
   "source": [
    "#### 1. Logistic Regression"
   ]
  },
  {
   "cell_type": "code",
   "execution_count": 8,
   "id": "83c397b9",
   "metadata": {},
   "outputs": [
    {
     "name": "stderr",
     "output_type": "stream",
     "text": [
      "c:\\Users\\priya\\AppData\\Local\\Programs\\Python\\Python313\\Lib\\site-packages\\sklearn\\linear_model\\_logistic.py:473: ConvergenceWarning: lbfgs failed to converge after 100 iteration(s) (status=1):\n",
      "STOP: TOTAL NO. OF ITERATIONS REACHED LIMIT\n",
      "\n",
      "Increase the number of iterations to improve the convergence (max_iter=100).\n",
      "You might also want to scale the data as shown in:\n",
      "    https://scikit-learn.org/stable/modules/preprocessing.html\n",
      "Please also refer to the documentation for alternative solver options:\n",
      "    https://scikit-learn.org/stable/modules/linear_model.html#logistic-regression\n",
      "  n_iter_i = _check_optimize_result(\n"
     ]
    }
   ],
   "source": [
    "log_reg = LogisticRegression() \n",
    "log_reg.fit(X_train, y_train) \n",
    "y_pred_log = log_reg.predict(X_test)"
   ]
  },
  {
   "cell_type": "markdown",
   "id": "b0782935",
   "metadata": {},
   "source": [
    "#### 2. Decision Tree Classifier "
   ]
  },
  {
   "cell_type": "code",
   "execution_count": 9,
   "id": "864e38f7",
   "metadata": {},
   "outputs": [],
   "source": [
    "dt_clf = DecisionTreeClassifier() \n",
    "dt_clf.fit(X_train, y_train) \n",
    "y_pred_dt = dt_clf.predict(X_test) "
   ]
  },
  {
   "cell_type": "markdown",
   "id": "e8a88623",
   "metadata": {},
   "source": [
    "#### 3. Random Forest Classifier"
   ]
  },
  {
   "cell_type": "code",
   "execution_count": 10,
   "id": "e7bf277b",
   "metadata": {},
   "outputs": [],
   "source": [
    "rf_clf = RandomForestClassifier(n_estimators=100) \n",
    "rf_clf.fit(X_train, y_train) \n",
    "y_pred_rf = rf_clf.predict(X_test)"
   ]
  },
  {
   "cell_type": "markdown",
   "id": "c3f3ac03",
   "metadata": {},
   "source": [
    "#### 4️. Support Vector Machine (SVM)"
   ]
  },
  {
   "cell_type": "code",
   "execution_count": 11,
   "id": "977e5d6f",
   "metadata": {},
   "outputs": [],
   "source": [
    "svm_clf = SVC() \n",
    "svm_clf.fit(X_train, y_train) \n",
    "y_pred_svm = svm_clf.predict(X_test)"
   ]
  },
  {
   "cell_type": "markdown",
   "id": "88e2fac8",
   "metadata": {},
   "source": [
    "#### 5. K-Nearest Neighbors (KNN)"
   ]
  },
  {
   "cell_type": "code",
   "execution_count": 13,
   "id": "1b9b9aa7",
   "metadata": {},
   "outputs": [],
   "source": [
    "knn_clf = KNeighborsClassifier(n_neighbors=5) \n",
    "knn_clf.fit(X_train, y_train) \n",
    "y_pred_knn = knn_clf.predict(X_test)"
   ]
  },
  {
   "cell_type": "markdown",
   "id": "db22bd9b",
   "metadata": {},
   "source": [
    "###  Model Evaluation"
   ]
  },
  {
   "cell_type": "code",
   "execution_count": 14,
   "id": "c76b4994",
   "metadata": {},
   "outputs": [
    {
     "name": "stdout",
     "output_type": "stream",
     "text": [
      "\n",
      "Logistic Regression Performance:\n",
      "Accuracy: 1.00\n",
      "Precision: 0.00\n",
      "Recall: 0.00\n",
      "F1 Score: 0.00\n",
      "--------------------------------------------------\n",
      "\n",
      "Decision Tree Performance:\n",
      "Accuracy: 1.00\n",
      "Precision: 0.00\n",
      "Recall: 0.00\n",
      "F1 Score: 0.00\n",
      "--------------------------------------------------\n",
      "\n",
      "Random Forest Performance:\n",
      "Accuracy: 1.00\n",
      "Precision: 0.00\n",
      "Recall: 0.00\n",
      "F1 Score: 0.00\n",
      "--------------------------------------------------\n",
      "\n",
      "SVM Performance:\n",
      "Accuracy: 0.50\n",
      "Precision: 0.00\n",
      "Recall: 0.00\n",
      "F1 Score: 0.00\n",
      "--------------------------------------------------\n",
      "\n",
      "KNN Performance:\n",
      "Accuracy: 0.50\n",
      "Precision: 0.00\n",
      "Recall: 0.00\n",
      "F1 Score: 0.00\n",
      "--------------------------------------------------\n"
     ]
    },
    {
     "name": "stderr",
     "output_type": "stream",
     "text": [
      "c:\\Users\\priya\\AppData\\Local\\Programs\\Python\\Python313\\Lib\\site-packages\\sklearn\\metrics\\_classification.py:1731: UndefinedMetricWarning: Precision is ill-defined and being set to 0.0 due to no predicted samples. Use `zero_division` parameter to control this behavior.\n",
      "  _warn_prf(average, modifier, f\"{metric.capitalize()} is\", result.shape[0])\n",
      "c:\\Users\\priya\\AppData\\Local\\Programs\\Python\\Python313\\Lib\\site-packages\\sklearn\\metrics\\_classification.py:1731: UndefinedMetricWarning: Recall is ill-defined and being set to 0.0 due to no true samples. Use `zero_division` parameter to control this behavior.\n",
      "  _warn_prf(average, modifier, f\"{metric.capitalize()} is\", result.shape[0])\n",
      "c:\\Users\\priya\\AppData\\Local\\Programs\\Python\\Python313\\Lib\\site-packages\\sklearn\\metrics\\_classification.py:1731: UndefinedMetricWarning: F-score is ill-defined and being set to 0.0 due to no true nor predicted samples. Use `zero_division` parameter to control this behavior.\n",
      "  _warn_prf(average, modifier, f\"{metric.capitalize()} is\", result.shape[0])\n",
      "c:\\Users\\priya\\AppData\\Local\\Programs\\Python\\Python313\\Lib\\site-packages\\sklearn\\metrics\\_classification.py:1731: UndefinedMetricWarning: Precision is ill-defined and being set to 0.0 due to no predicted samples. Use `zero_division` parameter to control this behavior.\n",
      "  _warn_prf(average, modifier, f\"{metric.capitalize()} is\", result.shape[0])\n",
      "c:\\Users\\priya\\AppData\\Local\\Programs\\Python\\Python313\\Lib\\site-packages\\sklearn\\metrics\\_classification.py:1731: UndefinedMetricWarning: Recall is ill-defined and being set to 0.0 due to no true samples. Use `zero_division` parameter to control this behavior.\n",
      "  _warn_prf(average, modifier, f\"{metric.capitalize()} is\", result.shape[0])\n",
      "c:\\Users\\priya\\AppData\\Local\\Programs\\Python\\Python313\\Lib\\site-packages\\sklearn\\metrics\\_classification.py:1731: UndefinedMetricWarning: F-score is ill-defined and being set to 0.0 due to no true nor predicted samples. Use `zero_division` parameter to control this behavior.\n",
      "  _warn_prf(average, modifier, f\"{metric.capitalize()} is\", result.shape[0])\n",
      "c:\\Users\\priya\\AppData\\Local\\Programs\\Python\\Python313\\Lib\\site-packages\\sklearn\\metrics\\_classification.py:1731: UndefinedMetricWarning: Precision is ill-defined and being set to 0.0 due to no predicted samples. Use `zero_division` parameter to control this behavior.\n",
      "  _warn_prf(average, modifier, f\"{metric.capitalize()} is\", result.shape[0])\n",
      "c:\\Users\\priya\\AppData\\Local\\Programs\\Python\\Python313\\Lib\\site-packages\\sklearn\\metrics\\_classification.py:1731: UndefinedMetricWarning: Recall is ill-defined and being set to 0.0 due to no true samples. Use `zero_division` parameter to control this behavior.\n",
      "  _warn_prf(average, modifier, f\"{metric.capitalize()} is\", result.shape[0])\n",
      "c:\\Users\\priya\\AppData\\Local\\Programs\\Python\\Python313\\Lib\\site-packages\\sklearn\\metrics\\_classification.py:1731: UndefinedMetricWarning: F-score is ill-defined and being set to 0.0 due to no true nor predicted samples. Use `zero_division` parameter to control this behavior.\n",
      "  _warn_prf(average, modifier, f\"{metric.capitalize()} is\", result.shape[0])\n",
      "c:\\Users\\priya\\AppData\\Local\\Programs\\Python\\Python313\\Lib\\site-packages\\sklearn\\metrics\\_classification.py:1731: UndefinedMetricWarning: Recall is ill-defined and being set to 0.0 due to no true samples. Use `zero_division` parameter to control this behavior.\n",
      "  _warn_prf(average, modifier, f\"{metric.capitalize()} is\", result.shape[0])\n",
      "c:\\Users\\priya\\AppData\\Local\\Programs\\Python\\Python313\\Lib\\site-packages\\sklearn\\metrics\\_classification.py:1731: UndefinedMetricWarning: Recall is ill-defined and being set to 0.0 due to no true samples. Use `zero_division` parameter to control this behavior.\n",
      "  _warn_prf(average, modifier, f\"{metric.capitalize()} is\", result.shape[0])\n"
     ]
    }
   ],
   "source": [
    "models = { \n",
    "    \"Logistic Regression\": y_pred_log, \n",
    "    \"Decision Tree\": y_pred_dt, \n",
    "    \"Random Forest\": y_pred_rf, \n",
    "    \"SVM\": y_pred_svm, \n",
    "    \"KNN\": y_pred_knn \n",
    "} \n",
    " \n",
    "for model_name, y_pred in models.items(): \n",
    "    print(f\"\\n{model_name} Performance:\") \n",
    "    print(f\"Accuracy: {accuracy_score(y_test, y_pred):.2f}\") \n",
    "    print(f\"Precision: {precision_score(y_test, y_pred):.2f}\") \n",
    "    print(f\"Recall: {recall_score(y_test, y_pred):.2f}\") \n",
    "    print(f\"F1 Score: {f1_score(y_test, y_pred):.2f}\") \n",
    "    print(\"-\" * 50)"
   ]
  }
 ],
 "metadata": {
  "kernelspec": {
   "display_name": "Python 3",
   "language": "python",
   "name": "python3"
  },
  "language_info": {
   "codemirror_mode": {
    "name": "ipython",
    "version": 3
   },
   "file_extension": ".py",
   "mimetype": "text/x-python",
   "name": "python",
   "nbconvert_exporter": "python",
   "pygments_lexer": "ipython3",
   "version": "3.13.5"
  }
 },
 "nbformat": 4,
 "nbformat_minor": 5
}
