{
 "cells": [
  {
   "cell_type": "markdown",
   "id": "37454875",
   "metadata": {},
   "source": [
    "###  Import Necessary Libraries"
   ]
  },
  {
   "cell_type": "code",
   "execution_count": 1,
   "id": "97e2836c",
   "metadata": {},
   "outputs": [],
   "source": [
    "import numpy as np \n",
    "import pandas as pd \n",
    "import matplotlib.pyplot as plt \n",
    "import seaborn as sns \n",
    " \n",
    "from sklearn.model_selection import train_test_split \n",
    "from sklearn.linear_model import LinearRegression, Ridge, Lasso \n",
    "from sklearn.preprocessing import PolynomialFeatures \n",
    "from sklearn.tree import DecisionTreeRegressor \n",
    "from sklearn.ensemble import RandomForestRegressor \n",
    "from sklearn.metrics import r2_score, mean_squared_error, mean_absolute_error "
   ]
  },
  {
   "cell_type": "markdown",
   "id": "99961496",
   "metadata": {},
   "source": [
    "### Load & Prepare Dataset "
   ]
  },
  {
   "cell_type": "code",
   "execution_count": 2,
   "id": "4a6dd33e",
   "metadata": {},
   "outputs": [],
   "source": [
    "# Creating a sample dataset \n",
    "data = { \n",
    "    'Horsepower': [130, 250, 190, 300, 210, 150, 170, 190, 200, 220], \n",
    "    'Mileage': [50000, 20000, 35000, 10000, 25000, 60000, 45000, 32000, 28000, 22000], \n",
    "    'Age': [5, 2, 3, 1, 3, 6, 5, 4, 2, 3], \n",
    "    'Price': [15000, 35000, 24000, 45000, 32000, 12000, 18000, 25000, 29000,31000] \n",
    "       } \n",
    "df = pd.DataFrame(data) \n",
    " \n",
    "# Splitting Features (X) and Target Variable (y) \n",
    "X = df[['Horsepower', 'Mileage', 'Age']] \n",
    "y = df['Price'] \n",
    " \n",
    "# Splitting into Training and Testing Data \n",
    "X_train, X_test, y_train, y_test = train_test_split(X, y, test_size=0.2, random_state=42)"
   ]
  },
  {
   "cell_type": "markdown",
   "id": "0bed98af",
   "metadata": {},
   "source": [
    "### Apply Regression Models"
   ]
  },
  {
   "cell_type": "markdown",
   "id": "bcb9947e",
   "metadata": {},
   "source": [
    "#### (A) Linear Regression"
   ]
  },
  {
   "cell_type": "code",
   "execution_count": 3,
   "id": "9411ec6d",
   "metadata": {},
   "outputs": [],
   "source": [
    "lr_model = LinearRegression() \n",
    "lr_model.fit(X_train, y_train) \n",
    "y_pred_lr = lr_model.predict(X_test)"
   ]
  },
  {
   "cell_type": "markdown",
   "id": "2dc3f645",
   "metadata": {},
   "source": [
    "#### (B) Polynomial Regression"
   ]
  },
  {
   "cell_type": "code",
   "execution_count": 4,
   "id": "be6a0c83",
   "metadata": {},
   "outputs": [],
   "source": [
    "poly = PolynomialFeatures(degree=2) \n",
    "X_poly_train = poly.fit_transform(X_train) \n",
    "X_poly_test = poly.transform(X_test) \n",
    " \n",
    "poly_model = LinearRegression() \n",
    "poly_model.fit(X_poly_train, y_train) \n",
    "y_pred_poly = poly_model.predict(X_poly_test) "
   ]
  },
  {
   "cell_type": "markdown",
   "id": "a96f6369",
   "metadata": {},
   "source": [
    "#### (C) Ridge & Lasso Regression"
   ]
  },
  {
   "cell_type": "code",
   "execution_count": 5,
   "id": "54327c5e",
   "metadata": {},
   "outputs": [],
   "source": [
    "ridge_model = Ridge(alpha=1.0) \n",
    "ridge_model.fit(X_train, y_train) \n",
    "y_pred_ridge = ridge_model.predict(X_test) \n",
    " \n",
    "lasso_model = Lasso(alpha=1.0) \n",
    "lasso_model.fit(X_train, y_train) \n",
    "y_pred_lasso = lasso_model.predict(X_test)"
   ]
  },
  {
   "cell_type": "markdown",
   "id": "37ac7d62",
   "metadata": {},
   "source": [
    "#### (D) Decision Tree Regression "
   ]
  },
  {
   "cell_type": "code",
   "execution_count": 6,
   "id": "2b10c2fd",
   "metadata": {},
   "outputs": [],
   "source": [
    "dt_model = DecisionTreeRegressor() \n",
    "dt_model.fit(X_train, y_train) \n",
    "y_pred_dt = dt_model.predict(X_test)"
   ]
  },
  {
   "cell_type": "markdown",
   "id": "697a0c26",
   "metadata": {},
   "source": [
    "#### (E) Random Forest Regression"
   ]
  },
  {
   "cell_type": "code",
   "execution_count": 7,
   "id": "b9901c5f",
   "metadata": {},
   "outputs": [],
   "source": [
    "rf_model = RandomForestRegressor(n_estimators=100, random_state=42) \n",
    "rf_model.fit(X_train, y_train) \n",
    "y_pred_rf = rf_model.predict(X_test) "
   ]
  },
  {
   "cell_type": "markdown",
   "id": "d6575876",
   "metadata": {},
   "source": [
    "###  Model Evaluation"
   ]
  },
  {
   "cell_type": "code",
   "execution_count": 8,
   "id": "9cf65bf5",
   "metadata": {},
   "outputs": [
    {
     "name": "stdout",
     "output_type": "stream",
     "text": [
      "\n",
      "Linear Regression:\n",
      "R² Score: 0.9200106679256925\n",
      "MSE: 719903.9886687677\n",
      "MAE: 747.7398184000776\n",
      "\n",
      "Polynomial Regression:\n",
      "R² Score: -3.977908379133676\n",
      "MSE: 44801175.41220308\n",
      "MAE: 5639.3806490399365\n",
      "\n",
      "Ridge Regression:\n",
      "R² Score: 0.9388053479715289\n",
      "MSE: 550751.8682562397\n",
      "MAE: 597.1146473257759\n",
      "\n",
      "Lasso Regression:\n",
      "R² Score: 0.9205496554944528\n",
      "MSE: 715053.1005499251\n",
      "MAE: 742.793692781237\n",
      "\n",
      "Decision Tree Regression:\n",
      "R² Score: -5.944444444444445\n",
      "MSE: 62500000.0\n",
      "MAE: 7500.0\n",
      "\n",
      "Random Forest Regression:\n",
      "R² Score: 0.9191\n",
      "MSE: 728100.0\n",
      "MAE: 840.0\n"
     ]
    }
   ],
   "source": [
    "models = { \n",
    "    \"Linear Regression\": y_pred_lr, \n",
    "    \"Polynomial Regression\": y_pred_poly, \n",
    "    \"Ridge Regression\": y_pred_ridge,\n",
    "    \"Lasso Regression\": y_pred_lasso, \n",
    "    \"Decision Tree Regression\": y_pred_dt, \n",
    "    \"Random Forest Regression\": y_pred_rf \n",
    "} \n",
    " \n",
    "for name, pred in models.items(): \n",
    "    print(f\"\\n{name}:\") \n",
    "    print(\"R² Score:\", r2_score(y_test, pred)) \n",
    "    print(\"MSE:\", mean_squared_error(y_test, pred)) \n",
    "    print(\"MAE:\", mean_absolute_error(y_test, pred)) "
   ]
  },
  {
   "cell_type": "markdown",
   "id": "4cc1d44b",
   "metadata": {},
   "source": [
    "###  Visualizing Results"
   ]
  },
  {
   "cell_type": "code",
   "execution_count": 9,
   "id": "7d3a5130",
   "metadata": {},
   "outputs": [
    {
     "data": {
      "image/png": "[encoded data removed]",
      "text/plain": [
       "<Figure size 1000x500 with 1 Axes>"
      ]
     },
     "metadata": {},
     "output_type": "display_data"
    }
   ],
   "source": [
    "plt.figure(figsize=(10, 5)) \n",
    "plt.scatter(y_test, y_pred_rf, color='blue', label=\"Random Forest\") \n",
    "plt.scatter(y_test, y_pred_lr, color='red', label=\"Linear Regression\") \n",
    "plt.scatter(y_test, y_pred_poly, color='green', label=\"Polynomial Regression\") \n",
    "plt.xlabel(\"Actual Car Prices\") \n",
    "plt.ylabel(\"Predicted Car Prices\") \n",
    "plt.legend() \n",
    "plt.show()"
   ]
  }
 ],
 "metadata": {
  "kernelspec": {
   "display_name": "Python 3",
   "language": "python",
   "name": "python3"
  },
  "language_info": {
   "codemirror_mode": {
    "name": "ipython",
    "version": 3
   },
   "file_extension": ".py",
   "mimetype": "text/x-python",
   "name": "python",
   "nbconvert_exporter": "python",
   "pygments_lexer": "ipython3",
   "version": "3.13.5"
  }
 },
 "nbformat": 4,
 "nbformat_minor": 5
}
