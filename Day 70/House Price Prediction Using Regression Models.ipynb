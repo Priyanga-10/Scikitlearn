{
 "cells": [
  {
   "cell_type": "markdown",
   "id": "9ec1c8bd",
   "metadata": {},
   "source": [
    "###  Import Necessary Libraries"
   ]
  },
  {
   "cell_type": "code",
   "execution_count": 1,
   "id": "48727c25",
   "metadata": {},
   "outputs": [],
   "source": [
    "import numpy as np \n",
    "import pandas as pd \n",
    "import matplotlib.pyplot as plt \n",
    "import seaborn as sns \n",
    " \n",
    "from sklearn.model_selection import train_test_split \n",
    "from sklearn.linear_model import LinearRegression, Ridge, Lasso \n",
    "from sklearn.preprocessing import PolynomialFeatures \n",
    "from sklearn.tree import DecisionTreeRegressor \n",
    "from sklearn.ensemble import RandomForestRegressor \n",
    "from sklearn.metrics import r2_score, mean_squared_error, mean_absolute_error "
   ]
  },
  {
   "cell_type": "markdown",
   "id": "19220f31",
   "metadata": {},
   "source": [
    "###  Load Dataset (House Prices Data)"
   ]
  },
  {
   "cell_type": "code",
   "execution_count": 3,
   "id": "185acfbb",
   "metadata": {},
   "outputs": [],
   "source": [
    "# Creating a sample dataset: Features -> ['Size (sq ft)', 'Bedrooms', 'Age'] \n",
    "data = { \n",
    "    'Size': [1400, 1600, 1700, 1875, 1100, 1550, 2350, 2450, 1425, 1700], \n",
    "    'Bedrooms': [3, 3, 3, 4, 2, 3, 4, 4, 3, 3], \n",
    "    'Age': [20, 15, 18, 10, 25, 12, 8, 5, 20, 18], \n",
    "    'Price': [245000, 312000, 279000, 308000, 199000, 219000, 405000, 450000, 255000, 280000] \n",
    "       } \n",
    "df = pd.DataFrame(data)\n",
    "\n",
    "# Splitting Features (X) and Target Variable (y) \n",
    "X = df[['Size', 'Bedrooms', 'Age']] \n",
    "y = df['Price'] \n",
    " \n",
    "# Splitting into Training and Testing Data \n",
    "X_train, X_test, y_train, y_test = train_test_split(X, y, test_size=0.2, random_state=42)"
   ]
  },
  {
   "cell_type": "markdown",
   "id": "d8e2bb59",
   "metadata": {},
   "source": [
    "###  Apply Multiple Regression Models"
   ]
  },
  {
   "cell_type": "markdown",
   "id": "3e46ceba",
   "metadata": {},
   "source": [
    "#### (A) Linear Regression"
   ]
  },
  {
   "cell_type": "code",
   "execution_count": 4,
   "id": "cc70f8db",
   "metadata": {},
   "outputs": [],
   "source": [
    "lr_model = LinearRegression() \n",
    "lr_model.fit(X_train, y_train) \n",
    "y_pred_lr = lr_model.predict(X_test)"
   ]
  },
  {
   "cell_type": "markdown",
   "id": "662d0e18",
   "metadata": {},
   "source": [
    "#### (B) Polynomial Regression "
   ]
  },
  {
   "cell_type": "code",
   "execution_count": 5,
   "id": "f1f4af2a",
   "metadata": {},
   "outputs": [],
   "source": [
    "poly = PolynomialFeatures(degree=2) \n",
    "X_poly_train = poly.fit_transform(X_train) \n",
    "X_poly_test = poly.transform(X_test) \n",
    " \n",
    "poly_model = LinearRegression() \n",
    "poly_model.fit(X_poly_train, y_train) \n",
    "y_pred_poly = poly_model.predict(X_poly_test) "
   ]
  },
  {
   "cell_type": "markdown",
   "id": "28e9489d",
   "metadata": {},
   "source": [
    "#### (C) Ridge & Lasso Regression"
   ]
  },
  {
   "cell_type": "code",
   "execution_count": 6,
   "id": "5c016e96",
   "metadata": {},
   "outputs": [],
   "source": [
    "ridge_model = Ridge(alpha=1.0) \n",
    "ridge_model.fit(X_train, y_train) \n",
    "y_pred_ridge = ridge_model.predict(X_test) \n",
    " \n",
    "lasso_model = Lasso(alpha=1.0) \n",
    "lasso_model.fit(X_train, y_train) \n",
    "y_pred_lasso = lasso_model.predict(X_test)"
   ]
  },
  {
   "cell_type": "markdown",
   "id": "0449bf2a",
   "metadata": {},
   "source": [
    "#### (D) Decision Tree Regression "
   ]
  },
  {
   "cell_type": "code",
   "execution_count": 7,
   "id": "a18ec697",
   "metadata": {},
   "outputs": [],
   "source": [
    "dt_model = DecisionTreeRegressor() \n",
    "dt_model.fit(X_train, y_train) \n",
    "y_pred_dt = dt_model.predict(X_test)"
   ]
  },
  {
   "cell_type": "markdown",
   "id": "ac163478",
   "metadata": {},
   "source": [
    "#### (E) Random Forest Regression"
   ]
  },
  {
   "cell_type": "code",
   "execution_count": 8,
   "id": "fc9053a5",
   "metadata": {},
   "outputs": [],
   "source": [
    "rf_model = RandomForestRegressor(n_estimators=100, random_state=42) \n",
    "rf_model.fit(X_train, y_train) \n",
    "y_pred_rf = rf_model.predict(X_test)"
   ]
  },
  {
   "cell_type": "markdown",
   "id": "fe5bf43e",
   "metadata": {},
   "source": [
    "###  Model Evaluation"
   ]
  },
  {
   "cell_type": "code",
   "execution_count": 9,
   "id": "4719ae16",
   "metadata": {},
   "outputs": [
    {
     "name": "stdout",
     "output_type": "stream",
     "text": [
      "\n",
      "Linear Regression:\n",
      "R² Score: -0.8677182171782849\n",
      "MSE: 1517054121.9030619\n",
      "MAE: 34855.72300416336\n",
      "\n",
      "Polynomial Regression:\n",
      "R² Score: -1.9598704113680991\n",
      "MSE: 2404154741.6337385\n",
      "MAE: 37208.87926576543\n",
      "\n",
      "Ridge Regression:\n",
      "R² Score: -0.862914222898878\n",
      "MSE: 1513152077.5496137\n",
      "MAE: 34716.82626439477\n",
      "\n",
      "Lasso Regression:\n",
      "R² Score: -0.8677321585585955\n",
      "MSE: 1517065445.7892191\n",
      "MAE: 34854.26610997642\n",
      "\n",
      "Decision Tree Regression:\n",
      "R² Score: -4.385657125269313\n",
      "MSE: 4374500000.0\n",
      "MAE: 51500.0\n",
      "\n",
      "Random Forest Regression:\n",
      "R² Score: -2.515327800588211\n",
      "MSE: 2855325006.0277743\n",
      "MAE: 44723.49999999997\n"
     ]
    }
   ],
   "source": [
    "models = { \n",
    "    \"Linear Regression\": y_pred_lr, \n",
    "    \"Polynomial Regression\": y_pred_poly, \n",
    "    \"Ridge Regression\": y_pred_ridge,\n",
    "    \"Lasso Regression\": y_pred_lasso, \n",
    "    \"Decision Tree Regression\": y_pred_dt, \n",
    "    \"Random Forest Regression\": y_pred_rf \n",
    "} \n",
    " \n",
    "for name, pred in models.items(): \n",
    "    print(f\"\\n{name}:\") \n",
    "    print(\"R² Score:\", r2_score(y_test, pred)) \n",
    "    print(\"MSE:\", mean_squared_error(y_test, pred)) \n",
    "    print(\"MAE:\", mean_absolute_error(y_test, pred)) "
   ]
  },
  {
   "cell_type": "markdown",
   "id": "bf3ddcc7",
   "metadata": {},
   "source": [
    "###  Visualizing Model Performance"
   ]
  },
  {
   "cell_type": "code",
   "execution_count": 10,
   "id": "a26c6134",
   "metadata": {},
   "outputs": [
    {
     "data": {
      "image/png": "[encoded data removed]",
      "text/plain": [
       "<Figure size 1000x500 with 1 Axes>"
      ]
     },
     "metadata": {},
     "output_type": "display_data"
    }
   ],
   "source": [
    "plt.figure(figsize=(10, 5)) \n",
    "plt.scatter(y_test, y_pred_rf, color='blue', label=\"Random Forest\") \n",
    "plt.scatter(y_test, y_pred_lr, color='red', label=\"Linear Regression\") \n",
    "plt.scatter(y_test, y_pred_poly, color='green', label=\"Polynomial Regression\") \n",
    "plt.xlabel(\"Actual Prices\") \n",
    "plt.ylabel(\"Predicted Prices\") \n",
    "plt.legend() \n",
    "plt.show() "
   ]
  }
 ],
 "metadata": {
  "kernelspec": {
   "display_name": "Python 3",
   "language": "python",
   "name": "python3"
  },
  "language_info": {
   "codemirror_mode": {
    "name": "ipython",
    "version": 3
   },
   "file_extension": ".py",
   "mimetype": "text/x-python",
   "name": "python",
   "nbconvert_exporter": "python",
   "pygments_lexer": "ipython3",
   "version": "3.13.5"
  }
 },
 "nbformat": 4,
 "nbformat_minor": 5
}
