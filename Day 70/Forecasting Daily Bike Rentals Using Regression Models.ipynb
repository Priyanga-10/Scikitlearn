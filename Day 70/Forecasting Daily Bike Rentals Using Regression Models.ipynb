{
 "cells": [
  {
   "cell_type": "markdown",
   "id": "c09f01c7",
   "metadata": {},
   "source": [
    "### Import Required Libraries"
   ]
  },
  {
   "cell_type": "code",
   "execution_count": 1,
   "id": "803798da",
   "metadata": {},
   "outputs": [],
   "source": [
    "import pandas as pd\n",
    "import numpy as np\n",
    "import matplotlib.pyplot as plt\n",
    "\n",
    "from sklearn.model_selection import train_test_split\n",
    "from sklearn.preprocessing import StandardScaler, PolynomialFeatures\n",
    "from sklearn.linear_model import LinearRegression, Ridge, Lasso\n",
    "from sklearn.tree import DecisionTreeRegressor\n",
    "from sklearn.ensemble import RandomForestRegressor\n",
    "from sklearn.metrics import r2_score, mean_squared_error, mean_absolute_error"
   ]
  },
  {
   "cell_type": "markdown",
   "id": "9a5b174b",
   "metadata": {},
   "source": [
    "### Sample Data"
   ]
  },
  {
   "cell_type": "code",
   "execution_count": 2,
   "id": "d21b142e",
   "metadata": {},
   "outputs": [],
   "source": [
    "data = {\n",
    "    'temperature': [22, 25, 20, 23, 18, 30, 28],\n",
    "    'humidity': [55, 60, 58, 57, 65, 50, 52],\n",
    "    'windspeed': [12, 10, 15, 8, 20, 5, 7],\n",
    "    'season': ['spring', 'summer', 'spring', 'fall', 'winter', 'summer', 'fall'],\n",
    "    'weather': ['clear', 'rainy', 'clear', 'cloudy', 'snow', 'clear', 'cloudy'],\n",
    "    'holiday': [0, 0, 1, 0, 0, 0, 1],\n",
    "    'workingday': [1, 1, 0, 1, 1, 1, 0],\n",
    "    'bike_rentals': [120, 200, 80, 150, 60, 250, 100]\n",
    "}\n",
    "\n",
    "df = pd.DataFrame(data)"
   ]
  },
  {
   "cell_type": "markdown",
   "id": "6a6b69d1",
   "metadata": {},
   "source": [
    "### Feature and Target"
   ]
  },
  {
   "cell_type": "code",
   "execution_count": 3,
   "id": "40c50c7e",
   "metadata": {},
   "outputs": [],
   "source": [
    "X = df.drop('bike_rentals', axis=1)\n",
    "y = df['bike_rentals']"
   ]
  },
  {
   "cell_type": "markdown",
   "id": "093321f0",
   "metadata": {},
   "source": [
    "### Encode categorical variables"
   ]
  },
  {
   "cell_type": "code",
   "execution_count": 4,
   "id": "e8005e22",
   "metadata": {},
   "outputs": [],
   "source": [
    "X = pd.get_dummies(X, columns=['season', 'weather'], drop_first=True)\n",
    "\n",
    "# Scale numeric features\n",
    "scaler = StandardScaler()\n",
    "numeric_features = ['temperature', 'humidity', 'windspeed', 'holiday', 'workingday']\n",
    "X[numeric_features] = scaler.fit_transform(X[numeric_features])"
   ]
  },
  {
   "cell_type": "markdown",
   "id": "6d978818",
   "metadata": {},
   "source": [
    "### Train-test split"
   ]
  },
  {
   "cell_type": "code",
   "execution_count": 5,
   "id": "93f74b93",
   "metadata": {},
   "outputs": [],
   "source": [
    "X_train, X_test, y_train, y_test = train_test_split(X, y, test_size=0.3, random_state=42)"
   ]
  },
  {
   "cell_type": "markdown",
   "id": "b0347459",
   "metadata": {},
   "source": [
    "### Multiple Regression Models"
   ]
  },
  {
   "cell_type": "code",
   "execution_count": 6,
   "id": "73638d42",
   "metadata": {},
   "outputs": [
    {
     "name": "stderr",
     "output_type": "stream",
     "text": [
      "c:\\Users\\priya\\AppData\\Local\\Programs\\Python\\Python313\\Lib\\site-packages\\sklearn\\linear_model\\_coordinate_descent.py:695: ConvergenceWarning: Objective did not converge. You might want to increase the number of iterations, check the scale of the features or consider increasing regularisation. Duality gap: 1.585e+00, tolerance: 4.475e-01\n",
      "  model = cd_fast.enet_coordinate_descent(\n"
     ]
    }
   ],
   "source": [
    "# Linear Regression\n",
    "lr = LinearRegression()\n",
    "lr.fit(X_train, y_train)\n",
    "y_pred_lr = lr.predict(X_test)\n",
    "\n",
    "# Polynomial Regression (degree 2)\n",
    "poly = PolynomialFeatures(degree=2)\n",
    "X_train_poly = poly.fit_transform(X_train)\n",
    "X_test_poly = poly.transform(X_test)\n",
    "\n",
    "poly_model = LinearRegression()\n",
    "poly_model.fit(X_train_poly, y_train)\n",
    "y_pred_poly = poly_model.predict(X_test_poly)\n",
    "\n",
    "# Ridge Regression\n",
    "ridge = Ridge(alpha=1.0)\n",
    "ridge.fit(X_train, y_train)\n",
    "y_pred_ridge = ridge.predict(X_test)\n",
    "\n",
    "# Lasso Regression\n",
    "lasso = Lasso(alpha=1.0)\n",
    "lasso.fit(X_train, y_train)\n",
    "y_pred_lasso = lasso.predict(X_test)\n",
    "\n",
    "# Decision Tree\n",
    "dt = DecisionTreeRegressor()\n",
    "dt.fit(X_train, y_train)\n",
    "y_pred_dt = dt.predict(X_test)\n",
    "\n",
    "# Random Forest\n",
    "rf = RandomForestRegressor(n_estimators=100, random_state=42)\n",
    "rf.fit(X_train, y_train)\n",
    "y_pred_rf = rf.predict(X_test)"
   ]
  },
  {
   "cell_type": "markdown",
   "id": "f30805f7",
   "metadata": {},
   "source": [
    "### Evaluate Models"
   ]
  },
  {
   "cell_type": "code",
   "execution_count": 7,
   "id": "481360c8",
   "metadata": {},
   "outputs": [
    {
     "name": "stdout",
     "output_type": "stream",
     "text": [
      "\n",
      "Model Performance:\n",
      "                              R²           MSE         MAE\n",
      "Linear Regression     -0.763851   5056.372444   64.528627\n",
      "Polynomial Regression -1.613841   7493.010516   71.930424\n",
      "Ridge Regression      -0.919139   5501.532823   62.195562\n",
      "Lasso Regression      -1.158526   6187.775714   63.999940\n",
      "Decision Tree         -5.662791  19100.000000  123.333333\n",
      "Random Forest         -2.023472   8667.286667   75.800000\n"
     ]
    }
   ],
   "source": [
    "def evaluate_model(y_test, y_pred):\n",
    "    return {\n",
    "        \"R²\": r2_score(y_test, y_pred),\n",
    "        \"MSE\": mean_squared_error(y_test, y_pred),\n",
    "        \"MAE\": mean_absolute_error(y_test, y_pred)\n",
    "    }\n",
    "\n",
    "models = {\n",
    "    \"Linear Regression\": y_pred_lr,\n",
    "    \"Polynomial Regression\": y_pred_poly,\n",
    "    \"Ridge Regression\": y_pred_ridge,\n",
    "    \"Lasso Regression\": y_pred_lasso,\n",
    "    \"Decision Tree\": y_pred_dt,\n",
    "    \"Random Forest\": y_pred_rf\n",
    "}\n",
    "\n",
    "results = pd.DataFrame({name: evaluate_model(y_test, pred) for name, pred in models.items()}).T\n",
    "print(\"\\nModel Performance:\\n\", results)"
   ]
  },
  {
   "cell_type": "markdown",
   "id": "b9fd5920",
   "metadata": {},
   "source": [
    "### Visualization"
   ]
  },
  {
   "cell_type": "code",
   "execution_count": 8,
   "id": "689b8107",
   "metadata": {},
   "outputs": [
    {
     "name": "stdout",
     "output_type": "stream",
     "text": [
      "\n",
      "Best Model: Linear Regression\n"
     ]
    },
    {
     "data": {
      "image/png": "[encoded data removed]",
      "text/plain": [
       "<Figure size 800x500 with 1 Axes>"
      ]
     },
     "metadata": {},
     "output_type": "display_data"
    }
   ],
   "source": [
    "best_model_name = results[\"R²\"].idxmax()\n",
    "print(\"\\nBest Model:\", best_model_name)\n",
    "\n",
    "best_pred = models[best_model_name]\n",
    "\n",
    "plt.figure(figsize=(8,5))\n",
    "plt.scatter(range(len(y_test)), y_test, color='black', marker='o', label='Actual')\n",
    "plt.plot(range(len(best_pred)), best_pred, color='green', marker='x', linestyle='-', label=best_model_name)\n",
    "plt.title(f'Actual vs Predicted Bike Rentals ({best_model_name})')\n",
    "plt.xlabel('Test Sample Index')\n",
    "plt.ylabel('Bike Rentals')\n",
    "plt.title(f\"Actual vs Predicted - {best_model_name}\")\n",
    "plt.show()"
   ]
  }
 ],
 "metadata": {
  "kernelspec": {
   "display_name": "Python 3",
   "language": "python",
   "name": "python3"
  },
  "language_info": {
   "codemirror_mode": {
    "name": "ipython",
    "version": 3
   },
   "file_extension": ".py",
   "mimetype": "text/x-python",
   "name": "python",
   "nbconvert_exporter": "python",
   "pygments_lexer": "ipython3",
   "version": "3.13.5"
  }
 },
 "nbformat": 4,
 "nbformat_minor": 5
}
