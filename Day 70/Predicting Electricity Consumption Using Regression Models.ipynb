{
 "cells": [
  {
   "cell_type": "markdown",
   "id": "d987164d",
   "metadata": {},
   "source": [
    "### Import Required Libraries"
   ]
  },
  {
   "cell_type": "code",
   "execution_count": 1,
   "id": "99f7ed24",
   "metadata": {},
   "outputs": [],
   "source": [
    "import pandas as pd\n",
    "import numpy as np\n",
    "import matplotlib.pyplot as plt\n",
    "\n",
    "from sklearn.model_selection import train_test_split\n",
    "from sklearn.preprocessing import StandardScaler, PolynomialFeatures\n",
    "from sklearn.linear_model import LinearRegression, Ridge, Lasso\n",
    "from sklearn.tree import DecisionTreeRegressor\n",
    "from sklearn.ensemble import RandomForestRegressor\n",
    "from sklearn.metrics import r2_score, mean_squared_error, mean_absolute_error"
   ]
  },
  {
   "cell_type": "markdown",
   "id": "2ae64891",
   "metadata": {},
   "source": [
    "###  Sample Data"
   ]
  },
  {
   "cell_type": "code",
   "execution_count": 2,
   "id": "24c87534",
   "metadata": {},
   "outputs": [
    {
     "name": "stdout",
     "output_type": "stream",
     "text": [
      "Sample Data:\n",
      "    temperature  occupants  appliances  time_of_day  consumption\n",
      "0           20          2           5            9    21.475259\n",
      "1           25          3           8           14    32.895368\n",
      "2           22          2           6           10    24.452685\n",
      "3           30          5          10           20    43.737584\n",
      "4           28          4           9           18    37.590632\n",
      "5           18          1           4            7    18.143093\n",
      "6           24          3           7           13    28.517242\n",
      "7           26          2           6           15    26.902450\n"
     ]
    }
   ],
   "source": [
    "data = pd.DataFrame({\n",
    "    \"temperature\": [20, 25, 22, 30, 28, 18, 24, 26],\n",
    "    \"occupants\": [2, 3, 2, 5, 4, 1, 3, 2],\n",
    "    \"appliances\": [5, 8, 6, 10, 9, 4, 7, 6],\n",
    "    \"time_of_day\": [9, 14, 10, 20, 18, 7, 13, 15]\n",
    "})\n",
    "\n",
    "# Simulated electricity consumption\n",
    "data[\"consumption\"] = (\n",
    "    0.5 * data[\"temperature\"] +\n",
    "    2 * data[\"occupants\"] +\n",
    "    1.2 * data[\"appliances\"] +\n",
    "    0.3 * data[\"time_of_day\"] +\n",
    "    np.random.normal(0, 1, len(data))\n",
    ")\n",
    "\n",
    "print(\"Sample Data:\\n\", data)"
   ]
  },
  {
   "cell_type": "markdown",
   "id": "abf90ea8",
   "metadata": {},
   "source": [
    "### Split Data"
   ]
  },
  {
   "cell_type": "code",
   "execution_count": 3,
   "id": "37e661a3",
   "metadata": {},
   "outputs": [],
   "source": [
    "X = data[[\"temperature\", \"occupants\", \"appliances\", \"time_of_day\"]]\n",
    "y = data[\"consumption\"]\n",
    "\n",
    "X_train, X_test, y_train, y_test = train_test_split(X, y, test_size=0.25, random_state=42)"
   ]
  },
  {
   "cell_type": "markdown",
   "id": "09e6bfb9",
   "metadata": {},
   "source": [
    "### Scale Features"
   ]
  },
  {
   "cell_type": "code",
   "execution_count": 4,
   "id": "efa8d1e9",
   "metadata": {},
   "outputs": [],
   "source": [
    "scaler = StandardScaler()\n",
    "X_train_scaled = scaler.fit_transform(X_train)\n",
    "X_test_scaled = scaler.transform(X_test)"
   ]
  },
  {
   "cell_type": "markdown",
   "id": "b4f7b0af",
   "metadata": {},
   "source": [
    "### Apply Multiple Regression Models"
   ]
  },
  {
   "cell_type": "code",
   "execution_count": 5,
   "id": "096cabfc",
   "metadata": {},
   "outputs": [],
   "source": [
    "# Linear Regression\n",
    "lr = LinearRegression()\n",
    "lr.fit(X_train_scaled, y_train)\n",
    "y_pred_lr = lr.predict(X_test_scaled)\n",
    "\n",
    "# Polynomial Regression (degree 2)\n",
    "poly = PolynomialFeatures(degree=2)\n",
    "X_train_poly = poly.fit_transform(X_train_scaled)\n",
    "X_test_poly = poly.transform(X_test_scaled)\n",
    "\n",
    "poly_model = LinearRegression()\n",
    "poly_model.fit(X_train_poly, y_train)\n",
    "y_pred_poly = poly_model.predict(X_test_poly)\n",
    "\n",
    "# Ridge Regression\n",
    "ridge = Ridge(alpha=1.0)\n",
    "ridge.fit(X_train_scaled, y_train)\n",
    "y_pred_ridge = ridge.predict(X_test_scaled)\n",
    "\n",
    "# Lasso Regression\n",
    "lasso = Lasso(alpha=1.0)\n",
    "lasso.fit(X_train_scaled, y_train)\n",
    "y_pred_lasso = lasso.predict(X_test_scaled)\n",
    "\n",
    "# Decision Tree\n",
    "dt = DecisionTreeRegressor()\n",
    "dt.fit(X_train, y_train)\n",
    "y_pred_dt = dt.predict(X_test)\n",
    "\n",
    "# Random Forest\n",
    "rf = RandomForestRegressor(n_estimators=100, random_state=42)\n",
    "rf.fit(X_train, y_train)\n",
    "y_pred_rf = rf.predict(X_test)"
   ]
  },
  {
   "cell_type": "markdown",
   "id": "214a0c03",
   "metadata": {},
   "source": [
    "### Evaluate Models"
   ]
  },
  {
   "cell_type": "code",
   "execution_count": 7,
   "id": "d3ebf484",
   "metadata": {},
   "outputs": [
    {
     "name": "stdout",
     "output_type": "stream",
     "text": [
      "\n",
      "Model Performance:\n",
      "                              R²        MSE       MAE\n",
      "Linear Regression      0.905653   5.133158  2.172784\n",
      "Polynomial Regression  0.958032   2.283343  1.210175\n",
      "Ridge Regression       0.957686   2.302214  1.515798\n",
      "Lasso Regression       0.996301   0.201271  0.371753\n",
      "Decision Tree          0.721809  15.135658  3.855146\n",
      "Random Forest          0.628645  20.204447  4.494618\n"
     ]
    }
   ],
   "source": [
    "def evaluate_model(y_test, y_pred):\n",
    "    return {\n",
    "        \"R²\": r2_score(y_test, y_pred),\n",
    "        \"MSE\": mean_squared_error(y_test, y_pred),\n",
    "        \"MAE\": mean_absolute_error(y_test, y_pred)\n",
    "    }\n",
    "\n",
    "models = {\n",
    "    \"Linear Regression\": y_pred_lr,\n",
    "    \"Polynomial Regression\": y_pred_poly,\n",
    "    \"Ridge Regression\": y_pred_ridge,\n",
    "    \"Lasso Regression\": y_pred_lasso,\n",
    "    \"Decision Tree\": y_pred_dt,\n",
    "    \"Random Forest\": y_pred_rf\n",
    "}\n",
    "\n",
    "results = pd.DataFrame({name: evaluate_model(y_test, pred) for name, pred in models.items()}).T\n",
    "print(\"\\nModel Performance:\\n\", results)"
   ]
  },
  {
   "cell_type": "markdown",
   "id": "87db726b",
   "metadata": {},
   "source": [
    "### Visualize Best Model"
   ]
  },
  {
   "cell_type": "code",
   "execution_count": 8,
   "id": "76c679a1",
   "metadata": {},
   "outputs": [
    {
     "name": "stdout",
     "output_type": "stream",
     "text": [
      "\n",
      "Best Model: Lasso Regression\n"
     ]
    },
    {
     "data": {
      "image/png": "[encoded data removed]",
      "text/plain": [
       "<Figure size 640x480 with 1 Axes>"
      ]
     },
     "metadata": {},
     "output_type": "display_data"
    }
   ],
   "source": [
    "best_model_name = results[\"R²\"].idxmax()\n",
    "print(\"\\nBest Model:\", best_model_name)\n",
    "\n",
    "best_pred = models[best_model_name]\n",
    "\n",
    "plt.scatter(y_test, best_pred, color=\"blue\")\n",
    "plt.plot([y_test.min(), y_test.max()], [y_test.min(), y_test.max()], \"r--\")\n",
    "plt.xlabel(\"Actual Consumption\")\n",
    "plt.ylabel(\"Predicted Consumption\")\n",
    "plt.title(f\"Actual vs Predicted - {best_model_name}\")\n",
    "plt.show()"
   ]
  }
 ],
 "metadata": {
  "kernelspec": {
   "display_name": "Python 3",
   "language": "python",
   "name": "python3"
  },
  "language_info": {
   "codemirror_mode": {
    "name": "ipython",
    "version": 3
   },
   "file_extension": ".py",
   "mimetype": "text/x-python",
   "name": "python",
   "nbconvert_exporter": "python",
   "pygments_lexer": "ipython3",
   "version": "3.13.5"
  }
 },
 "nbformat": 4,
 "nbformat_minor": 5
}
