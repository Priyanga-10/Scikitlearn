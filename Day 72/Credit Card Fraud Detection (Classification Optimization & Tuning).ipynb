{
 "cells": [
  {
   "cell_type": "markdown",
   "id": "11816277",
   "metadata": {},
   "source": [
    "###  Import Required Libraries"
   ]
  },
  {
   "cell_type": "code",
   "execution_count": 1,
   "id": "9c6a603a",
   "metadata": {},
   "outputs": [],
   "source": [
    "import pandas as pd \n",
    "import numpy as np \n",
    "import matplotlib.pyplot as plt \n",
    "import seaborn as sns \n",
    " \n",
    "from sklearn.model_selection import train_test_split, cross_val_score, GridSearchCV, RandomizedSearchCV \n",
    "from sklearn.ensemble import RandomForestClassifier \n",
    "from sklearn.metrics import accuracy_score, classification_report "
   ]
  },
  {
   "cell_type": "markdown",
   "id": "7535b87c",
   "metadata": {},
   "source": [
    "###  Load and Explore the Dataset"
   ]
  },
  {
   "cell_type": "code",
   "execution_count": 3,
   "id": "7df39884",
   "metadata": {},
   "outputs": [
    {
     "name": "stdout",
     "output_type": "stream",
     "text": [
      "   Transaction_ID  Amount Transaction_Type  Location  Time_Hour Device_Type  \\\n",
      "0            1001    12.5              POS    Mumbai         14      Mobile   \n",
      "1            1002   520.0           Online     Delhi          2     Desktop   \n",
      "2            1003    87.9              ATM   Chennai         10      Mobile   \n",
      "3            1004  3000.0           Online  New York         23      Laptop   \n",
      "4            1005    45.3              POS      Pune         18      Mobile   \n",
      "\n",
      "   Account_Age_Years  Num_Past_Frauds  Is_Foreign  Fraudulent  \n",
      "0                  3                0           0           0  \n",
      "1                  1                1           1           1  \n",
      "2                  5                0           0           0  \n",
      "3                  2                2           1           1  \n",
      "4                  4                0           0           0  \n",
      "Transaction_ID       0\n",
      "Amount               0\n",
      "Transaction_Type     0\n",
      "Location             0\n",
      "Time_Hour            0\n",
      "Device_Type          0\n",
      "Account_Age_Years    0\n",
      "Num_Past_Frauds      0\n",
      "Is_Foreign           0\n",
      "Fraudulent           0\n",
      "dtype: int64\n",
      "Fraudulent\n",
      "0    11\n",
      "1     9\n",
      "Name: count, dtype: int64\n"
     ]
    }
   ],
   "source": [
    "# Create DataFrame\n",
    "data = {\n",
    "    \"Transaction_ID\": [1001,1002,1003,1004,1005,1006,1007,1008,1009,1010,\n",
    "                       1011,1012,1013,1014,1015,1016,1017,1018,1019,1020],\n",
    "    \"Amount\": [12.50,520.00,87.90,3000.00,45.30,1500.00,22.00,250.00,5200.00,16.75,\n",
    "               180.00,60.40,750.00,33.60,2000.00,120.00,90.50,3100.00,17.80,4100.00],\n",
    "    \"Transaction_Type\": [\"POS\",\"Online\",\"ATM\",\"Online\",\"POS\",\"Online\",\"POS\",\"ATM\",\"Online\",\"POS\",\n",
    "                         \"Online\",\"ATM\",\"Online\",\"POS\",\"Online\",\"ATM\",\"POS\",\"Online\",\"POS\",\"Online\"],\n",
    "    \"Location\": [\"Mumbai\",\"Delhi\",\"Chennai\",\"New York\",\"Pune\",\"Mumbai\",\"Bangalore\",\"Hyderabad\",\"London\",\"Kolkata\",\n",
    "                 \"Delhi\",\"Chennai\",\"Singapore\",\"Pune\",\"New York\",\"Mumbai\",\"Delhi\",\"London\",\"Chennai\",\"Singapore\"],\n",
    "    \"Time_Hour\": [14,2,10,23,18,1,9,11,3,13,22,19,0,8,16,12,20,4,7,21],\n",
    "    \"Device_Type\": [\"Mobile\",\"Desktop\",\"Mobile\",\"Laptop\",\"Mobile\",\"Tablet\",\"Mobile\",\"Desktop\",\"Laptop\",\"Mobile\",\n",
    "                    \"Laptop\",\"Mobile\",\"Tablet\",\"Mobile\",\"Desktop\",\"Mobile\",\"Mobile\",\"Laptop\",\"Mobile\",\"Tablet\"],\n",
    "    \"Account_Age_Years\": [3,1,5,2,4,1,6,2,1,8,2,5,3,7,1,6,4,2,9,1],\n",
    "    \"Num_Past_Frauds\": [0,1,0,2,0,1,0,0,3,0,0,0,1,0,2,0,0,1,0,3],\n",
    "    \"Is_Foreign\": [0,1,0,1,0,1,0,0,1,0,1,0,1,0,1,0,0,1,0,1],\n",
    "    \"Fraudulent\": [0,1,0,1,0,1,0,0,1,0,1,0,1,0,1,0,0,1,0,1]\n",
    "}\n",
    "\n",
    "df = pd.DataFrame(data)\n",
    "\n",
    "# Display first 5 rows \n",
    "print(df.head())\n",
    "\n",
    "# Check missing values \n",
    "print(df.isnull().sum()) \n",
    " \n",
    "# Check class distribution \n",
    "print(df['Fraudulent'].value_counts())  # Target column: 1 = Fraud, 0 = Not Fraud "
   ]
  },
  {
   "cell_type": "markdown",
   "id": "d4645fb5",
   "metadata": {},
   "source": [
    "###  Preprocessing & Feature Engineering"
   ]
  },
  {
   "cell_type": "code",
   "execution_count": 4,
   "id": "576447aa",
   "metadata": {},
   "outputs": [],
   "source": [
    "# Convert categorical variables to numerical \n",
    "df = pd.get_dummies(df, drop_first=True) \n",
    " \n",
    "# Define Features (X) and Target (y) \n",
    "X = df.drop('Fraudulent', axis=1) \n",
    "y = df['Fraudulent'] \n",
    " \n",
    "# Split the data \n",
    "X_train, X_test, y_train, y_test = train_test_split(X, y, test_size=0.2, random_state=42, stratify=y) "
   ]
  },
  {
   "cell_type": "markdown",
   "id": "49c01401",
   "metadata": {},
   "source": [
    "### Apply Cross-Validation"
   ]
  },
  {
   "cell_type": "code",
   "execution_count": 5,
   "id": "03d11277",
   "metadata": {},
   "outputs": [
    {
     "name": "stdout",
     "output_type": "stream",
     "text": [
      "Cross-validation scores: [1. 1. 1. 1. 1.]\n",
      "Mean Accuracy: 1.0\n"
     ]
    }
   ],
   "source": [
    "model = RandomForestClassifier() \n",
    "scores = cross_val_score(model, X_train, y_train, cv=5, scoring='accuracy') \n",
    " \n",
    "print(\"Cross-validation scores:\", scores) \n",
    "print(\"Mean Accuracy:\", scores.mean())"
   ]
  },
  {
   "cell_type": "markdown",
   "id": "e2669a1a",
   "metadata": {},
   "source": [
    "###  Perform Grid Search for Hyperparameter Tuning"
   ]
  },
  {
   "cell_type": "code",
   "execution_count": 6,
   "id": "4822b3fb",
   "metadata": {},
   "outputs": [
    {
     "name": "stdout",
     "output_type": "stream",
     "text": [
      "Best Parameters: {'criterion': 'gini', 'max_depth': 5, 'n_estimators': 50}\n",
      "Best Score: 1.0\n"
     ]
    }
   ],
   "source": [
    "param_grid = { \n",
    "    'n_estimators': [50, 100, 200], \n",
    "    'max_depth': [5, 10, 15], \n",
    "    'criterion': ['gini', 'entropy'] \n",
    "} \n",
    " \n",
    "grid_search = GridSearchCV(RandomForestClassifier(), param_grid, cv=5, \n",
    "scoring='accuracy') \n",
    "grid_search.fit(X_train, y_train) \n",
    " \n",
    "print(\"Best Parameters:\", grid_search.best_params_) \n",
    "print(\"Best Score:\", grid_search.best_score_) "
   ]
  },
  {
   "cell_type": "markdown",
   "id": "6923d86b",
   "metadata": {},
   "source": [
    "###  Perform Randomized Search for Hyperparameter Tuning"
   ]
  },
  {
   "cell_type": "code",
   "execution_count": 7,
   "id": "47818ab4",
   "metadata": {},
   "outputs": [
    {
     "name": "stdout",
     "output_type": "stream",
     "text": [
      "Best Parameters (Randomized Search): {'n_estimators': 50, 'max_depth': 5, 'criterion': 'gini'}\n",
      "Best Score: 1.0\n"
     ]
    }
   ],
   "source": [
    "param_dist = { \n",
    "    'n_estimators': [50, 100, 200], \n",
    "    'max_depth': [5, 10, 15], \n",
    "    'criterion': ['gini', 'entropy'] \n",
    "} \n",
    " \n",
    "random_search = RandomizedSearchCV(RandomForestClassifier(), param_dist, n_iter=5, cv=5, scoring='accuracy', random_state=42)\n",
    "random_search.fit(X_train, y_train) \n",
    " \n",
    "print(\"Best Parameters (Randomized Search):\", random_search.best_params_) \n",
    "print(\"Best Score:\", random_search.best_score_)"
   ]
  },
  {
   "cell_type": "markdown",
   "id": "45286ba1",
   "metadata": {},
   "source": [
    "###  Feature Importance Analysis"
   ]
  },
  {
   "cell_type": "code",
   "execution_count": 8,
   "id": "2302e209",
   "metadata": {},
   "outputs": [
    {
     "name": "stdout",
     "output_type": "stream",
     "text": [
      "Feature Importance:\n",
      " Is_Foreign                 0.188246\n",
      "Num_Past_Frauds            0.184651\n",
      "Amount                     0.178891\n",
      "Transaction_Type_Online    0.164222\n",
      "Account_Age_Years          0.080198\n",
      "Device_Type_Mobile         0.079913\n",
      "Device_Type_Tablet         0.025035\n",
      "Time_Hour                  0.020475\n",
      "Transaction_Type_POS       0.016932\n",
      "Location_Singapore         0.015509\n",
      "Location_Hyderabad         0.011798\n",
      "Transaction_ID             0.010640\n",
      "Device_Type_Laptop         0.010388\n",
      "Location_New York          0.006430\n",
      "Location_Delhi             0.003171\n",
      "Location_Chennai           0.002308\n",
      "Location_Pune              0.001111\n",
      "Location_Mumbai            0.000081\n",
      "Location_Kolkata           0.000000\n",
      "Location_London            0.000000\n",
      "dtype: float64\n"
     ]
    },
    {
     "data": {
      "image/png": "[encoded data removed]",
      "text/plain": [
       "<Figure size 1000x500 with 1 Axes>"
      ]
     },
     "metadata": {},
     "output_type": "display_data"
    }
   ],
   "source": [
    "model = RandomForestClassifier(n_estimators=100) \n",
    "model.fit(X_train, y_train) \n",
    " \n",
    "# Get feature importances \n",
    "feature_importance = pd.Series(model.feature_importances_, \n",
    "index=X.columns).sort_values(ascending=False) \n",
    "print(\"Feature Importance:\\n\", feature_importance) \n",
    " \n",
    "plt.figure(figsize=(10, 5)) \n",
    "sns.barplot(x=feature_importance, y=feature_importance.index) \n",
    "plt.xlabel('Importance Score') \n",
    "plt.ylabel('Features') \n",
    "plt.title('Feature Importance Analysis') \n",
    "plt.show() "
   ]
  },
  {
   "cell_type": "markdown",
   "id": "c5814f1c",
   "metadata": {},
   "source": [
    "###  Evaluate the Final Model"
   ]
  },
  {
   "cell_type": "code",
   "execution_count": 9,
   "id": "aaeb8aec",
   "metadata": {},
   "outputs": [
    {
     "name": "stdout",
     "output_type": "stream",
     "text": [
      "Final Model Accuracy: 1.0\n",
      "Classification Report:\n",
      "               precision    recall  f1-score   support\n",
      "\n",
      "           0       1.00      1.00      1.00         2\n",
      "           1       1.00      1.00      1.00         2\n",
      "\n",
      "    accuracy                           1.00         4\n",
      "   macro avg       1.00      1.00      1.00         4\n",
      "weighted avg       1.00      1.00      1.00         4\n",
      "\n"
     ]
    }
   ],
   "source": [
    "best_model = grid_search.best_estimator_ \n",
    "y_pred = best_model.predict(X_test)\n",
    "\n",
    "print(\"Final Model Accuracy:\", accuracy_score(y_test, y_pred)) \n",
    "print(\"Classification Report:\\n\", classification_report(y_test, y_pred))"
   ]
  }
 ],
 "metadata": {
  "kernelspec": {
   "display_name": "Python 3",
   "language": "python",
   "name": "python3"
  },
  "language_info": {
   "codemirror_mode": {
    "name": "ipython",
    "version": 3
   },
   "file_extension": ".py",
   "mimetype": "text/x-python",
   "name": "python",
   "nbconvert_exporter": "python",
   "pygments_lexer": "ipython3",
   "version": "3.13.5"
  }
 },
 "nbformat": 4,
 "nbformat_minor": 5
}
