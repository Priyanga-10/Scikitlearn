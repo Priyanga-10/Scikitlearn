{
 "cells": [
  {
   "cell_type": "markdown",
   "id": "6af71e3d",
   "metadata": {},
   "source": [
    "###  Import Required Libraries"
   ]
  },
  {
   "cell_type": "code",
   "execution_count": 1,
   "id": "98de35f3",
   "metadata": {},
   "outputs": [],
   "source": [
    "import pandas as pd \n",
    "import numpy as np \n",
    "import matplotlib.pyplot as plt \n",
    "import seaborn as sns \n",
    " \n",
    "from sklearn.model_selection import train_test_split, cross_val_score, GridSearchCV, RandomizedSearchCV \n",
    "from sklearn.ensemble import RandomForestRegressor \n",
    "from sklearn.linear_model import Ridge, Lasso \n",
    "from sklearn.metrics import mean_absolute_error, mean_squared_error, r2_score"
   ]
  },
  {
   "cell_type": "markdown",
   "id": "a36c2474",
   "metadata": {},
   "source": [
    "###  Load and Explore the Dataset"
   ]
  },
  {
   "cell_type": "code",
   "execution_count": 2,
   "id": "eaffb21d",
   "metadata": {},
   "outputs": [
    {
     "name": "stdout",
     "output_type": "stream",
     "text": [
      "   Record_ID  Temperature_C  Humidity_%  Wind_Speed_kmph  Time_Hour Day_Type  \\\n",
      "0          1           22.5          60              5.0          9  Weekday   \n",
      "1          2           35.1          35              8.2         14  Weekday   \n",
      "2          3           29.3          45              7.5         20  Weekend   \n",
      "3          4           18.2          80              2.0          2  Weekend   \n",
      "4          5           25.4          55              6.3         11  Weekday   \n",
      "\n",
      "   Appliance_Usage_kWh  Outdoor_Light_Intensity  Energy_Consumption_kWh  \n",
      "0                  3.5                      800                    12.5  \n",
      "1                  5.8                      950                    20.2  \n",
      "2                  4.6                      500                    18.0  \n",
      "3                  2.2                      100                     9.8  \n",
      "4                  4.0                      850                    14.7  \n",
      "Record_ID                  0\n",
      "Temperature_C              0\n",
      "Humidity_%                 0\n",
      "Wind_Speed_kmph            0\n",
      "Time_Hour                  0\n",
      "Day_Type                   0\n",
      "Appliance_Usage_kWh        0\n",
      "Outdoor_Light_Intensity    0\n",
      "Energy_Consumption_kWh     0\n",
      "dtype: int64\n",
      "       Record_ID  Temperature_C  Humidity_%  Wind_Speed_kmph  Time_Hour  \\\n",
      "count   20.00000      20.000000   20.000000        20.000000  20.000000   \n",
      "mean    10.50000      26.535000   54.750000         5.955000  12.400000   \n",
      "std      5.91608       5.436744   15.385827         2.267499   6.081897   \n",
      "min      1.00000      17.500000   35.000000         1.800000   2.000000   \n",
      "25%      5.75000      22.125000   42.750000         4.725000   7.750000   \n",
      "50%     10.50000      26.950000   49.500000         5.950000  12.500000   \n",
      "75%     15.25000      30.825000   66.250000         7.800000  17.250000   \n",
      "max     20.00000      35.100000   82.000000         9.300000  22.000000   \n",
      "\n",
      "       Appliance_Usage_kWh  Outdoor_Light_Intensity  Energy_Consumption_kWh  \n",
      "count             20.00000                20.000000               20.000000  \n",
      "mean               4.14000               649.000000               15.445000  \n",
      "std                1.13388               296.646165                3.866111  \n",
      "min                2.10000               100.000000                8.900000  \n",
      "25%                3.32500               537.500000               11.875000  \n",
      "50%                4.35000               760.000000               17.050000  \n",
      "75%                5.05000               902.500000               18.875000  \n",
      "max                5.80000               950.000000               20.200000  \n"
     ]
    }
   ],
   "source": [
    "# Create sample dataset for Energy Consumption Prediction\n",
    "data = {\n",
    "    \"Record_ID\": [1,2,3,4,5,6,7,8,9,10,\n",
    "                  11,12,13,14,15,16,17,18,19,20],\n",
    "    \"Temperature_C\": [22.5, 35.1, 29.3, 18.2, 25.4, 31.8, 27.6, 19.9, 33.2, 28.0,\n",
    "                      21.0, 30.5, 26.3, 24.8, 17.5, 34.0, 29.0, 20.4, 32.5, 23.7],\n",
    "    \"Humidity_%\": [60, 35, 45, 80, 55, 40, 50, 78, 38, 47,\n",
    "                   70, 43, 49, 58, 82, 37, 46, 75, 42, 65],\n",
    "    \"Wind_Speed_kmph\": [5.0, 8.2, 7.5, 2.0, 6.3, 9.0, 5.8, 3.0, 7.7, 6.1,\n",
    "                        4.5, 8.8, 5.5, 5.2, 1.8, 9.3, 7.0, 3.5, 8.1, 4.8],\n",
    "    \"Time_Hour\": [9, 14, 20, 2, 11, 16, 18, 5, 13, 21,\n",
    "                  8, 17, 15, 10, 3, 12, 19, 6, 22, 7],\n",
    "    \"Day_Type\": [\"Weekday\",\"Weekday\",\"Weekend\",\"Weekend\",\"Weekday\",\"Weekday\",\"Weekend\",\"Weekend\",\"Weekday\",\"Weekend\",\n",
    "                 \"Weekday\",\"Weekday\",\"Weekend\",\"Weekday\",\"Weekend\",\"Weekday\",\"Weekend\",\"Weekend\",\"Weekday\",\"Weekday\"],\n",
    "    \"Appliance_Usage_kWh\": [3.5, 5.8, 4.6, 2.2, 4.0, 5.2, 4.4, 2.8, 5.5, 4.7,\n",
    "                            3.1, 5.0, 4.3, 3.8, 2.1, 5.7, 4.5, 2.9, 5.3, 3.4],\n",
    "    \"Outdoor_Light_Intensity\": [800, 950, 500, 100, 850, 900, 600, 150, 940, 550,\n",
    "                                780, 920, 610, 870, 120, 930, 560, 200, 910, 740],\n",
    "    \"Energy_Consumption_kWh\": [12.5, 20.2, 18.0, 9.8, 14.7, 19.1, 17.2, 10.5, 19.5, 18.3,\n",
    "                               11.5, 18.8, 16.9, 13.2, 8.9, 20.0, 17.5, 11.0, 19.3, 12.0]\n",
    "}\n",
    "\n",
    "df = pd.DataFrame(data)\n",
    "\n",
    "# Display first 5 rows \n",
    "print(df.head()) \n",
    " \n",
    "# Check missing values \n",
    "print(df.isnull().sum()) \n",
    " \n",
    "# Basic statistics \n",
    "print(df.describe())"
   ]
  },
  {
   "cell_type": "markdown",
   "id": "a37ae46c",
   "metadata": {},
   "source": [
    "###  Preprocessing & Feature Engineering"
   ]
  },
  {
   "cell_type": "code",
   "execution_count": 5,
   "id": "85c2e001",
   "metadata": {},
   "outputs": [],
   "source": [
    "# Convert categorical variables to numerical \n",
    "df = pd.get_dummies(df, drop_first=True) \n",
    " \n",
    "# Define Features (X) and Target (y) \n",
    "X = df.drop('Energy_Consumption_kWh', axis=1)  # 'Energy_Consumption_kWh' is the target variable \n",
    "y = df['Energy_Consumption_kWh'] \n",
    " \n",
    "# Split the data \n",
    "X_train, X_test, y_train, y_test = train_test_split(X, y, test_size=0.2, random_state=42) "
   ]
  },
  {
   "cell_type": "markdown",
   "id": "e28d6d4d",
   "metadata": {},
   "source": [
    "###  Apply Cross-Validation "
   ]
  },
  {
   "cell_type": "code",
   "execution_count": 6,
   "id": "b60d77b7",
   "metadata": {},
   "outputs": [
    {
     "name": "stdout",
     "output_type": "stream",
     "text": [
      "Cross-validation scores: [0.92273233 0.8719228  0.93686453 0.99865837 0.90603328]\n",
      "Mean R2 Score: 0.9272422619448717\n"
     ]
    }
   ],
   "source": [
    "model = RandomForestRegressor() \n",
    "scores = cross_val_score(model, X_train, y_train, cv=5, scoring='r2') \n",
    " \n",
    "print(\"Cross-validation scores:\", scores) \n",
    "print(\"Mean R2 Score:\", scores.mean())"
   ]
  },
  {
   "cell_type": "markdown",
   "id": "2cb7219c",
   "metadata": {},
   "source": [
    "###  Hyperparameter Tuning using Grid Search"
   ]
  },
  {
   "cell_type": "code",
   "execution_count": 7,
   "id": "99b16240",
   "metadata": {},
   "outputs": [
    {
     "name": "stdout",
     "output_type": "stream",
     "text": [
      "Best Parameters: {'max_depth': 15, 'n_estimators': 200}\n",
      "Best Score: 0.9450884333879699\n"
     ]
    }
   ],
   "source": [
    "param_grid = { \n",
    "    'n_estimators': [50, 100, 200], \n",
    "    'max_depth': [5, 10, 15] \n",
    "} \n",
    " \n",
    "grid_search = GridSearchCV(RandomForestRegressor(), param_grid, cv=5, scoring='r2') \n",
    "grid_search.fit(X_train, y_train) \n",
    " \n",
    "print(\"Best Parameters:\", grid_search.best_params_) \n",
    "print(\"Best Score:\", grid_search.best_score_) "
   ]
  },
  {
   "cell_type": "markdown",
   "id": "de594644",
   "metadata": {},
   "source": [
    "### Feature Importance Analysis "
   ]
  },
  {
   "cell_type": "code",
   "execution_count": 8,
   "id": "c3da57b3",
   "metadata": {},
   "outputs": [
    {
     "name": "stdout",
     "output_type": "stream",
     "text": [
      "Feature Importance:\n",
      " Humidity_%                 0.375409\n",
      "Appliance_Usage_kWh        0.180386\n",
      "Time_Hour                  0.174927\n",
      "Temperature_C              0.138653\n",
      "Wind_Speed_kmph            0.093551\n",
      "Outdoor_Light_Intensity    0.023289\n",
      "Day_Type_Weekend           0.007321\n",
      "Record_ID                  0.006463\n",
      "dtype: float64\n"
     ]
    },
    {
     "data": {
      "image/png": "[encoded data removed]",
      "text/plain": [
       "<Figure size 1000x500 with 1 Axes>"
      ]
     },
     "metadata": {},
     "output_type": "display_data"
    }
   ],
   "source": [
    "model = RandomForestRegressor(n_estimators=100) \n",
    "model.fit(X_train, y_train)\n",
    "feature_importance = pd.Series(model.feature_importances_, \n",
    "index=X.columns).sort_values(ascending=False) \n",
    "print(\"Feature Importance:\\n\", feature_importance) \n",
    " \n",
    "plt.figure(figsize=(10, 5)) \n",
    "sns.barplot(x=feature_importance, y=feature_importance.index) \n",
    "plt.xlabel('Importance Score') \n",
    "plt.ylabel('Features') \n",
    "plt.title('Feature Importance Analysis') \n",
    "plt.show()"
   ]
  },
  {
   "cell_type": "markdown",
   "id": "39e9fc41",
   "metadata": {},
   "source": [
    "###  Avoid Overfitting using Regularization (Ridge/Lasso)"
   ]
  },
  {
   "cell_type": "code",
   "execution_count": 9,
   "id": "ff336d7a",
   "metadata": {},
   "outputs": [
    {
     "name": "stdout",
     "output_type": "stream",
     "text": [
      "Ridge R2 Score: 0.9808582033458914\n",
      "Lasso Coefficients: [-0.02111609  0.17043705 -0.18248223  0.          0.07658942  0.\n",
      " -0.00148206 -0.        ]\n"
     ]
    }
   ],
   "source": [
    "ridge = Ridge(alpha=1.0) \n",
    "ridge.fit(X_train, y_train) \n",
    "print(\"Ridge R2 Score:\", ridge.score(X_test, y_test)) \n",
    " \n",
    "lasso = Lasso(alpha=0.1) \n",
    "lasso.fit(X_train, y_train) \n",
    "print(\"Lasso Coefficients:\", lasso.coef_) "
   ]
  },
  {
   "cell_type": "markdown",
   "id": "af23c5ce",
   "metadata": {},
   "source": [
    "###  Final Model Evaluation"
   ]
  },
  {
   "cell_type": "code",
   "execution_count": 10,
   "id": "4fc62b3a",
   "metadata": {},
   "outputs": [
    {
     "name": "stdout",
     "output_type": "stream",
     "text": [
      "R2 Score: 0.951427255088722\n",
      "MSE: 0.8605572499999985\n",
      "MAE: 0.7639999999999993\n"
     ]
    }
   ],
   "source": [
    "best_model = grid_search.best_estimator_ \n",
    "y_pred = best_model.predict(X_test) \n",
    " \n",
    "print(\"R2 Score:\", r2_score(y_test, y_pred))\n",
    "print(\"MSE:\", mean_squared_error(y_test, y_pred)) \n",
    "print(\"MAE:\", mean_absolute_error(y_test, y_pred))"
   ]
  }
 ],
 "metadata": {
  "kernelspec": {
   "display_name": "Python 3",
   "language": "python",
   "name": "python3"
  },
  "language_info": {
   "codemirror_mode": {
    "name": "ipython",
    "version": 3
   },
   "file_extension": ".py",
   "mimetype": "text/x-python",
   "name": "python",
   "nbconvert_exporter": "python",
   "pygments_lexer": "ipython3",
   "version": "3.13.5"
  }
 },
 "nbformat": 4,
 "nbformat_minor": 5
}
