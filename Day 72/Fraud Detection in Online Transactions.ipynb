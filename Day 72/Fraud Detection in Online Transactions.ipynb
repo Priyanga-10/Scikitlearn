{
 "cells": [
  {
   "cell_type": "markdown",
   "id": "f941a576",
   "metadata": {},
   "source": [
    "### Import Required Libraries"
   ]
  },
  {
   "cell_type": "code",
   "execution_count": 9,
   "id": "93a871d6",
   "metadata": {},
   "outputs": [],
   "source": [
    "import pandas as pd\n",
    "import seaborn as sns\n",
    "import matplotlib.pyplot as plt\n",
    "\n",
    "from sklearn.model_selection import train_test_split, cross_val_score, GridSearchCV, RandomizedSearchCV\n",
    "from sklearn.preprocessing import LabelEncoder\n",
    "from sklearn.ensemble import RandomForestClassifier\n",
    "from sklearn.metrics import classification_report, accuracy_score"
   ]
  },
  {
   "cell_type": "markdown",
   "id": "2f6f0d56",
   "metadata": {},
   "source": [
    "### Sample data"
   ]
  },
  {
   "cell_type": "code",
   "execution_count": 2,
   "id": "32567956",
   "metadata": {},
   "outputs": [
    {
     "data": {
      "application/vnd.microsoft.datawrangler.viewer.v0+json": {
       "columns": [
        {
         "name": "index",
         "rawType": "int64",
         "type": "integer"
        },
        {
         "name": "Transaction_ID",
         "rawType": "int64",
         "type": "integer"
        },
        {
         "name": "Amount",
         "rawType": "float64",
         "type": "float"
        },
        {
         "name": "Location",
         "rawType": "object",
         "type": "string"
        },
        {
         "name": "Device_Type",
         "rawType": "object",
         "type": "string"
        },
        {
         "name": "Time_Hour",
         "rawType": "int64",
         "type": "integer"
        },
        {
         "name": "Is_Foreign",
         "rawType": "int64",
         "type": "integer"
        },
        {
         "name": "Num_Past_Frauds",
         "rawType": "int64",
         "type": "integer"
        },
        {
         "name": "Account_Age_Years",
         "rawType": "int64",
         "type": "integer"
        },
        {
         "name": "Transaction_Type",
         "rawType": "object",
         "type": "string"
        },
        {
         "name": "Fraudulent",
         "rawType": "int64",
         "type": "integer"
        }
       ],
       "ref": "cd3f714c-99be-48c2-aafb-7338ca2a7b7a",
       "rows": [
        [
         "0",
         "1001",
         "120.5",
         "Delhi",
         "Mobile",
         "14",
         "0",
         "0",
         "5",
         "Online",
         "0"
        ],
        [
         "1",
         "1002",
         "5400.0",
         "New York",
         "Laptop",
         "2",
         "1",
         "3",
         "1",
         "Online",
         "1"
        ],
        [
         "2",
         "1003",
         "230.0",
         "Mumbai",
         "Desktop",
         "11",
         "0",
         "0",
         "4",
         "POS",
         "0"
        ],
        [
         "3",
         "1004",
         "800.0",
         "London",
         "Tablet",
         "22",
         "1",
         "1",
         "2",
         "Online",
         "1"
        ],
        [
         "4",
         "1005",
         "75.0",
         "Pune",
         "Mobile",
         "9",
         "0",
         "0",
         "6",
         "ATM",
         "0"
        ],
        [
         "5",
         "1006",
         "4500.0",
         "Singapore",
         "Laptop",
         "1",
         "1",
         "2",
         "1",
         "Online",
         "1"
        ],
        [
         "6",
         "1007",
         "60.0",
         "Chennai",
         "Mobile",
         "19",
         "0",
         "0",
         "8",
         "POS",
         "0"
        ],
        [
         "7",
         "1008",
         "1200.0",
         "Delhi",
         "Desktop",
         "13",
         "0",
         "0",
         "3",
         "ATM",
         "0"
        ],
        [
         "8",
         "1009",
         "3000.0",
         "Mumbai",
         "Laptop",
         "3",
         "0",
         "1",
         "2",
         "Online",
         "1"
        ],
        [
         "9",
         "1010",
         "90.0",
         "Kolkata",
         "Mobile",
         "10",
         "0",
         "0",
         "7",
         "POS",
         "0"
        ],
        [
         "10",
         "1011",
         "6700.0",
         "New York",
         "Laptop",
         "0",
         "1",
         "4",
         "1",
         "Online",
         "1"
        ],
        [
         "11",
         "1012",
         "85.0",
         "Chennai",
         "Mobile",
         "8",
         "0",
         "0",
         "9",
         "POS",
         "0"
        ],
        [
         "12",
         "1013",
         "400.0",
         "Hyderabad",
         "Tablet",
         "18",
         "0",
         "0",
         "4",
         "ATM",
         "0"
        ],
        [
         "13",
         "1014",
         "980.0",
         "London",
         "Laptop",
         "4",
         "1",
         "1",
         "2",
         "Online",
         "1"
        ],
        [
         "14",
         "1015",
         "5000.0",
         "Singapore",
         "Desktop",
         "23",
         "1",
         "3",
         "1",
         "Online",
         "1"
        ],
        [
         "15",
         "1016",
         "45.0",
         "Pune",
         "Mobile",
         "15",
         "0",
         "0",
         "10",
         "POS",
         "0"
        ],
        [
         "16",
         "1017",
         "220.0",
         "Mumbai",
         "Tablet",
         "21",
         "0",
         "0",
         "5",
         "ATM",
         "0"
        ],
        [
         "17",
         "1018",
         "3100.0",
         "London",
         "Laptop",
         "6",
         "1",
         "2",
         "2",
         "Online",
         "1"
        ],
        [
         "18",
         "1019",
         "7300.0",
         "Singapore",
         "Desktop",
         "5",
         "1",
         "3",
         "1",
         "Online",
         "1"
        ],
        [
         "19",
         "1020",
         "55.0",
         "Delhi",
         "Mobile",
         "12",
         "0",
         "0",
         "7",
         "POS",
         "0"
        ]
       ],
       "shape": {
        "columns": 10,
        "rows": 20
       }
      },
      "text/html": [
       "<div>\n",
       "<style scoped>\n",
       "    .dataframe tbody tr th:only-of-type {\n",
       "        vertical-align: middle;\n",
       "    }\n",
       "\n",
       "    .dataframe tbody tr th {\n",
       "        vertical-align: top;\n",
       "    }\n",
       "\n",
       "    .dataframe thead th {\n",
       "        text-align: right;\n",
       "    }\n",
       "</style>\n",
       "<table border=\"1\" class=\"dataframe\">\n",
       "  <thead>\n",
       "    <tr style=\"text-align: right;\">\n",
       "      <th></th>\n",
       "      <th>Transaction_ID</th>\n",
       "      <th>Amount</th>\n",
       "      <th>Location</th>\n",
       "      <th>Device_Type</th>\n",
       "      <th>Time_Hour</th>\n",
       "      <th>Is_Foreign</th>\n",
       "      <th>Num_Past_Frauds</th>\n",
       "      <th>Account_Age_Years</th>\n",
       "      <th>Transaction_Type</th>\n",
       "      <th>Fraudulent</th>\n",
       "    </tr>\n",
       "  </thead>\n",
       "  <tbody>\n",
       "    <tr>\n",
       "      <th>0</th>\n",
       "      <td>1001</td>\n",
       "      <td>120.5</td>\n",
       "      <td>Delhi</td>\n",
       "      <td>Mobile</td>\n",
       "      <td>14</td>\n",
       "      <td>0</td>\n",
       "      <td>0</td>\n",
       "      <td>5</td>\n",
       "      <td>Online</td>\n",
       "      <td>0</td>\n",
       "    </tr>\n",
       "    <tr>\n",
       "      <th>1</th>\n",
       "      <td>1002</td>\n",
       "      <td>5400.0</td>\n",
       "      <td>New York</td>\n",
       "      <td>Laptop</td>\n",
       "      <td>2</td>\n",
       "      <td>1</td>\n",
       "      <td>3</td>\n",
       "      <td>1</td>\n",
       "      <td>Online</td>\n",
       "      <td>1</td>\n",
       "    </tr>\n",
       "    <tr>\n",
       "      <th>2</th>\n",
       "      <td>1003</td>\n",
       "      <td>230.0</td>\n",
       "      <td>Mumbai</td>\n",
       "      <td>Desktop</td>\n",
       "      <td>11</td>\n",
       "      <td>0</td>\n",
       "      <td>0</td>\n",
       "      <td>4</td>\n",
       "      <td>POS</td>\n",
       "      <td>0</td>\n",
       "    </tr>\n",
       "    <tr>\n",
       "      <th>3</th>\n",
       "      <td>1004</td>\n",
       "      <td>800.0</td>\n",
       "      <td>London</td>\n",
       "      <td>Tablet</td>\n",
       "      <td>22</td>\n",
       "      <td>1</td>\n",
       "      <td>1</td>\n",
       "      <td>2</td>\n",
       "      <td>Online</td>\n",
       "      <td>1</td>\n",
       "    </tr>\n",
       "    <tr>\n",
       "      <th>4</th>\n",
       "      <td>1005</td>\n",
       "      <td>75.0</td>\n",
       "      <td>Pune</td>\n",
       "      <td>Mobile</td>\n",
       "      <td>9</td>\n",
       "      <td>0</td>\n",
       "      <td>0</td>\n",
       "      <td>6</td>\n",
       "      <td>ATM</td>\n",
       "      <td>0</td>\n",
       "    </tr>\n",
       "    <tr>\n",
       "      <th>5</th>\n",
       "      <td>1006</td>\n",
       "      <td>4500.0</td>\n",
       "      <td>Singapore</td>\n",
       "      <td>Laptop</td>\n",
       "      <td>1</td>\n",
       "      <td>1</td>\n",
       "      <td>2</td>\n",
       "      <td>1</td>\n",
       "      <td>Online</td>\n",
       "      <td>1</td>\n",
       "    </tr>\n",
       "    <tr>\n",
       "      <th>6</th>\n",
       "      <td>1007</td>\n",
       "      <td>60.0</td>\n",
       "      <td>Chennai</td>\n",
       "      <td>Mobile</td>\n",
       "      <td>19</td>\n",
       "      <td>0</td>\n",
       "      <td>0</td>\n",
       "      <td>8</td>\n",
       "      <td>POS</td>\n",
       "      <td>0</td>\n",
       "    </tr>\n",
       "    <tr>\n",
       "      <th>7</th>\n",
       "      <td>1008</td>\n",
       "      <td>1200.0</td>\n",
       "      <td>Delhi</td>\n",
       "      <td>Desktop</td>\n",
       "      <td>13</td>\n",
       "      <td>0</td>\n",
       "      <td>0</td>\n",
       "      <td>3</td>\n",
       "      <td>ATM</td>\n",
       "      <td>0</td>\n",
       "    </tr>\n",
       "    <tr>\n",
       "      <th>8</th>\n",
       "      <td>1009</td>\n",
       "      <td>3000.0</td>\n",
       "      <td>Mumbai</td>\n",
       "      <td>Laptop</td>\n",
       "      <td>3</td>\n",
       "      <td>0</td>\n",
       "      <td>1</td>\n",
       "      <td>2</td>\n",
       "      <td>Online</td>\n",
       "      <td>1</td>\n",
       "    </tr>\n",
       "    <tr>\n",
       "      <th>9</th>\n",
       "      <td>1010</td>\n",
       "      <td>90.0</td>\n",
       "      <td>Kolkata</td>\n",
       "      <td>Mobile</td>\n",
       "      <td>10</td>\n",
       "      <td>0</td>\n",
       "      <td>0</td>\n",
       "      <td>7</td>\n",
       "      <td>POS</td>\n",
       "      <td>0</td>\n",
       "    </tr>\n",
       "    <tr>\n",
       "      <th>10</th>\n",
       "      <td>1011</td>\n",
       "      <td>6700.0</td>\n",
       "      <td>New York</td>\n",
       "      <td>Laptop</td>\n",
       "      <td>0</td>\n",
       "      <td>1</td>\n",
       "      <td>4</td>\n",
       "      <td>1</td>\n",
       "      <td>Online</td>\n",
       "      <td>1</td>\n",
       "    </tr>\n",
       "    <tr>\n",
       "      <th>11</th>\n",
       "      <td>1012</td>\n",
       "      <td>85.0</td>\n",
       "      <td>Chennai</td>\n",
       "      <td>Mobile</td>\n",
       "      <td>8</td>\n",
       "      <td>0</td>\n",
       "      <td>0</td>\n",
       "      <td>9</td>\n",
       "      <td>POS</td>\n",
       "      <td>0</td>\n",
       "    </tr>\n",
       "    <tr>\n",
       "      <th>12</th>\n",
       "      <td>1013</td>\n",
       "      <td>400.0</td>\n",
       "      <td>Hyderabad</td>\n",
       "      <td>Tablet</td>\n",
       "      <td>18</td>\n",
       "      <td>0</td>\n",
       "      <td>0</td>\n",
       "      <td>4</td>\n",
       "      <td>ATM</td>\n",
       "      <td>0</td>\n",
       "    </tr>\n",
       "    <tr>\n",
       "      <th>13</th>\n",
       "      <td>1014</td>\n",
       "      <td>980.0</td>\n",
       "      <td>London</td>\n",
       "      <td>Laptop</td>\n",
       "      <td>4</td>\n",
       "      <td>1</td>\n",
       "      <td>1</td>\n",
       "      <td>2</td>\n",
       "      <td>Online</td>\n",
       "      <td>1</td>\n",
       "    </tr>\n",
       "    <tr>\n",
       "      <th>14</th>\n",
       "      <td>1015</td>\n",
       "      <td>5000.0</td>\n",
       "      <td>Singapore</td>\n",
       "      <td>Desktop</td>\n",
       "      <td>23</td>\n",
       "      <td>1</td>\n",
       "      <td>3</td>\n",
       "      <td>1</td>\n",
       "      <td>Online</td>\n",
       "      <td>1</td>\n",
       "    </tr>\n",
       "    <tr>\n",
       "      <th>15</th>\n",
       "      <td>1016</td>\n",
       "      <td>45.0</td>\n",
       "      <td>Pune</td>\n",
       "      <td>Mobile</td>\n",
       "      <td>15</td>\n",
       "      <td>0</td>\n",
       "      <td>0</td>\n",
       "      <td>10</td>\n",
       "      <td>POS</td>\n",
       "      <td>0</td>\n",
       "    </tr>\n",
       "    <tr>\n",
       "      <th>16</th>\n",
       "      <td>1017</td>\n",
       "      <td>220.0</td>\n",
       "      <td>Mumbai</td>\n",
       "      <td>Tablet</td>\n",
       "      <td>21</td>\n",
       "      <td>0</td>\n",
       "      <td>0</td>\n",
       "      <td>5</td>\n",
       "      <td>ATM</td>\n",
       "      <td>0</td>\n",
       "    </tr>\n",
       "    <tr>\n",
       "      <th>17</th>\n",
       "      <td>1018</td>\n",
       "      <td>3100.0</td>\n",
       "      <td>London</td>\n",
       "      <td>Laptop</td>\n",
       "      <td>6</td>\n",
       "      <td>1</td>\n",
       "      <td>2</td>\n",
       "      <td>2</td>\n",
       "      <td>Online</td>\n",
       "      <td>1</td>\n",
       "    </tr>\n",
       "    <tr>\n",
       "      <th>18</th>\n",
       "      <td>1019</td>\n",
       "      <td>7300.0</td>\n",
       "      <td>Singapore</td>\n",
       "      <td>Desktop</td>\n",
       "      <td>5</td>\n",
       "      <td>1</td>\n",
       "      <td>3</td>\n",
       "      <td>1</td>\n",
       "      <td>Online</td>\n",
       "      <td>1</td>\n",
       "    </tr>\n",
       "    <tr>\n",
       "      <th>19</th>\n",
       "      <td>1020</td>\n",
       "      <td>55.0</td>\n",
       "      <td>Delhi</td>\n",
       "      <td>Mobile</td>\n",
       "      <td>12</td>\n",
       "      <td>0</td>\n",
       "      <td>0</td>\n",
       "      <td>7</td>\n",
       "      <td>POS</td>\n",
       "      <td>0</td>\n",
       "    </tr>\n",
       "  </tbody>\n",
       "</table>\n",
       "</div>"
      ],
      "text/plain": [
       "    Transaction_ID  Amount   Location Device_Type  Time_Hour  Is_Foreign  \\\n",
       "0             1001   120.5      Delhi      Mobile         14           0   \n",
       "1             1002  5400.0   New York      Laptop          2           1   \n",
       "2             1003   230.0     Mumbai     Desktop         11           0   \n",
       "3             1004   800.0     London      Tablet         22           1   \n",
       "4             1005    75.0       Pune      Mobile          9           0   \n",
       "5             1006  4500.0  Singapore      Laptop          1           1   \n",
       "6             1007    60.0    Chennai      Mobile         19           0   \n",
       "7             1008  1200.0      Delhi     Desktop         13           0   \n",
       "8             1009  3000.0     Mumbai      Laptop          3           0   \n",
       "9             1010    90.0    Kolkata      Mobile         10           0   \n",
       "10            1011  6700.0   New York      Laptop          0           1   \n",
       "11            1012    85.0    Chennai      Mobile          8           0   \n",
       "12            1013   400.0  Hyderabad      Tablet         18           0   \n",
       "13            1014   980.0     London      Laptop          4           1   \n",
       "14            1015  5000.0  Singapore     Desktop         23           1   \n",
       "15            1016    45.0       Pune      Mobile         15           0   \n",
       "16            1017   220.0     Mumbai      Tablet         21           0   \n",
       "17            1018  3100.0     London      Laptop          6           1   \n",
       "18            1019  7300.0  Singapore     Desktop          5           1   \n",
       "19            1020    55.0      Delhi      Mobile         12           0   \n",
       "\n",
       "    Num_Past_Frauds  Account_Age_Years Transaction_Type  Fraudulent  \n",
       "0                 0                  5           Online           0  \n",
       "1                 3                  1           Online           1  \n",
       "2                 0                  4              POS           0  \n",
       "3                 1                  2           Online           1  \n",
       "4                 0                  6              ATM           0  \n",
       "5                 2                  1           Online           1  \n",
       "6                 0                  8              POS           0  \n",
       "7                 0                  3              ATM           0  \n",
       "8                 1                  2           Online           1  \n",
       "9                 0                  7              POS           0  \n",
       "10                4                  1           Online           1  \n",
       "11                0                  9              POS           0  \n",
       "12                0                  4              ATM           0  \n",
       "13                1                  2           Online           1  \n",
       "14                3                  1           Online           1  \n",
       "15                0                 10              POS           0  \n",
       "16                0                  5              ATM           0  \n",
       "17                2                  2           Online           1  \n",
       "18                3                  1           Online           1  \n",
       "19                0                  7              POS           0  "
      ]
     },
     "execution_count": 2,
     "metadata": {},
     "output_type": "execute_result"
    }
   ],
   "source": [
    "data = {\n",
    "    \"Transaction_ID\": list(range(1001, 1021)),\n",
    "    \"Amount\": [120.5, 5400.0, 230.0, 800.0, 75.0, 4500.0, 60.0, 1200.0, 3000.0, 90.0,\n",
    "               6700.0, 85.0, 400.0, 980.0, 5000.0, 45.0, 220.0, 3100.0, 7300.0, 55.0],\n",
    "    \"Location\": [\"Delhi\", \"New York\", \"Mumbai\", \"London\", \"Pune\", \"Singapore\", \"Chennai\", \"Delhi\", \"Mumbai\", \"Kolkata\",\n",
    "                 \"New York\", \"Chennai\", \"Hyderabad\", \"London\", \"Singapore\", \"Pune\", \"Mumbai\", \"London\", \"Singapore\", \"Delhi\"],\n",
    "    \"Device_Type\": [\"Mobile\", \"Laptop\", \"Desktop\", \"Tablet\", \"Mobile\", \"Laptop\", \"Mobile\", \"Desktop\", \"Laptop\", \"Mobile\",\n",
    "                    \"Laptop\", \"Mobile\", \"Tablet\", \"Laptop\", \"Desktop\", \"Mobile\", \"Tablet\", \"Laptop\", \"Desktop\", \"Mobile\"],\n",
    "    \"Time_Hour\": [14, 2, 11, 22, 9, 1, 19, 13, 3, 10, 0, 8, 18, 4, 23, 15, 21, 6, 5, 12],\n",
    "    \"Is_Foreign\": [0, 1, 0, 1, 0, 1, 0, 0, 0, 0, 1, 0, 0, 1, 1, 0, 0, 1, 1, 0],\n",
    "    \"Num_Past_Frauds\": [0, 3, 0, 1, 0, 2, 0, 0, 1, 0, 4, 0, 0, 1, 3, 0, 0, 2, 3, 0],\n",
    "    \"Account_Age_Years\": [5, 1, 4, 2, 6, 1, 8, 3, 2, 7, 1, 9, 4, 2, 1, 10, 5, 2, 1, 7],\n",
    "    \"Transaction_Type\": [\"Online\", \"Online\", \"POS\", \"Online\", \"ATM\", \"Online\", \"POS\", \"ATM\", \"Online\", \"POS\",\n",
    "                         \"Online\", \"POS\", \"ATM\", \"Online\", \"Online\", \"POS\", \"ATM\", \"Online\", \"Online\", \"POS\"],\n",
    "    \"Fraudulent\": [0, 1, 0, 1, 0, 1, 0, 0, 1, 0,\n",
    "                   1, 0, 0, 1, 1, 0, 0, 1, 1, 0]\n",
    "}\n",
    "\n",
    "df = pd.DataFrame(data)\n",
    "df"
   ]
  },
  {
   "cell_type": "markdown",
   "id": "ce23a9c5",
   "metadata": {},
   "source": [
    "### Encode Categorical Values"
   ]
  },
  {
   "cell_type": "code",
   "execution_count": 3,
   "id": "d4d57eb0",
   "metadata": {},
   "outputs": [],
   "source": [
    "le = LabelEncoder()\n",
    "for col in [\"Location\", \"Device_Type\", \"Transaction_Type\"]:\n",
    "    df[col] = le.fit_transform(df[col])"
   ]
  },
  {
   "cell_type": "markdown",
   "id": "29d4043e",
   "metadata": {},
   "source": [
    "### Define Features and Target"
   ]
  },
  {
   "cell_type": "code",
   "execution_count": 4,
   "id": "a991e369",
   "metadata": {},
   "outputs": [],
   "source": [
    "X = df.drop([\"Transaction_ID\", \"Fraudulent\"], axis=1)\n",
    "y = df[\"Fraudulent\"]"
   ]
  },
  {
   "cell_type": "markdown",
   "id": "67b66a03",
   "metadata": {},
   "source": [
    "### Split Data "
   ]
  },
  {
   "cell_type": "code",
   "execution_count": 5,
   "id": "b3a9b756",
   "metadata": {},
   "outputs": [],
   "source": [
    "X_train, X_test, y_train, y_test = train_test_split(X, y, test_size=0.2, random_state=42)"
   ]
  },
  {
   "cell_type": "markdown",
   "id": "9039c259",
   "metadata": {},
   "source": [
    "### Apply Cross-Validation"
   ]
  },
  {
   "cell_type": "code",
   "execution_count": 6,
   "id": "0c3f08aa",
   "metadata": {},
   "outputs": [
    {
     "name": "stdout",
     "output_type": "stream",
     "text": [
      "Cross-validation scores: [1. 1. 1. 1. 1.]\n",
      "Mean Accuracy: 1.0\n"
     ]
    }
   ],
   "source": [
    "model = RandomForestClassifier() \n",
    "scores = cross_val_score(model, X_train, y_train, cv=5, scoring='accuracy') \n",
    " \n",
    "print(\"Cross-validation scores:\", scores)\n",
    "print(\"Mean Accuracy:\", scores.mean())"
   ]
  },
  {
   "cell_type": "markdown",
   "id": "3aee5554",
   "metadata": {},
   "source": [
    "### Perform Grid Search for Hyperparameter Tuning"
   ]
  },
  {
   "cell_type": "code",
   "execution_count": null,
   "id": "2a3005cd",
   "metadata": {},
   "outputs": [
    {
     "name": "stdout",
     "output_type": "stream",
     "text": [
      "Best Parameters: {'criterion': 'gini', 'max_depth': 5, 'n_estimators': 100}\n",
      "Best Score: 1.0\n"
     ]
    }
   ],
   "source": [
    "param_grid = { \n",
    "    'n_estimators': [50, 100, 200], \n",
    "    'max_depth': [5, 10, 15], \n",
    "    'criterion': ['gini', 'entropy'] \n",
    "} \n",
    " \n",
    "grid_search = GridSearchCV(RandomForestClassifier(), param_grid, cv=5, scoring='accuracy') \n",
    "grid_search.fit(X_train, y_train) \n",
    " \n",
    "print(\"Best Parameters:\", grid_search.best_params_) \n",
    "print(\"Best Score:\", grid_search.best_score_) "
   ]
  },
  {
   "cell_type": "markdown",
   "id": "829060b0",
   "metadata": {},
   "source": [
    "### Perform Randomized Search for Hyperparameter Tuning"
   ]
  },
  {
   "cell_type": "code",
   "execution_count": 8,
   "id": "808a4338",
   "metadata": {},
   "outputs": [
    {
     "name": "stdout",
     "output_type": "stream",
     "text": [
      "Best Parameters (Randomized Search): {'n_estimators': 100, 'max_depth': 5, 'criterion': 'gini'}\n",
      "Best Score: 1.0\n"
     ]
    }
   ],
   "source": [
    "param_dist = { \n",
    "    'n_estimators': [50, 100, 200], \n",
    "    'max_depth': [5, 10, 15], \n",
    "    'criterion': ['gini', 'entropy'] \n",
    "} \n",
    " \n",
    "random_search = RandomizedSearchCV(RandomForestClassifier(), param_dist, n_iter=5, cv=5, scoring='accuracy', random_state=42) \n",
    "random_search.fit(X_train, y_train) \n",
    " \n",
    "print(\"Best Parameters (Randomized Search):\", random_search.best_params_) \n",
    "print(\"Best Score:\", random_search.best_score_)"
   ]
  },
  {
   "cell_type": "markdown",
   "id": "58d85e4d",
   "metadata": {},
   "source": [
    "###  Feature Importance Analysis"
   ]
  },
  {
   "cell_type": "code",
   "execution_count": 10,
   "id": "2b8d0bb8",
   "metadata": {},
   "outputs": [
    {
     "name": "stdout",
     "output_type": "stream",
     "text": [
      "Feature Importance:\n",
      " Account_Age_Years    0.268954\n",
      "Num_Past_Frauds      0.200473\n",
      "Amount               0.193557\n",
      "Is_Foreign           0.109867\n",
      "Location             0.074142\n",
      "Time_Hour            0.070211\n",
      "Device_Type          0.055771\n",
      "Transaction_Type     0.027025\n",
      "dtype: float64\n"
     ]
    },
    {
     "data": {
      "image/png": "[encoded data removed]",
      "text/plain": [
       "<Figure size 1000x500 with 1 Axes>"
      ]
     },
     "metadata": {},
     "output_type": "display_data"
    }
   ],
   "source": [
    "model = RandomForestClassifier(n_estimators=100) \n",
    "model.fit(X_train, y_train) \n",
    " \n",
    "# Get feature importances \n",
    "feature_importance = pd.Series(model.feature_importances_, \n",
    "index=X.columns).sort_values(ascending=False) \n",
    "print(\"Feature Importance:\\n\", feature_importance) \n",
    " \n",
    "plt.figure(figsize=(10, 5)) \n",
    "sns.barplot(x=feature_importance, y=feature_importance.index) \n",
    "plt.xlabel('Importance Score') \n",
    "plt.ylabel('Features') \n",
    "plt.title('Feature Importance Analysis') \n",
    "plt.show()"
   ]
  },
  {
   "cell_type": "markdown",
   "id": "8da78fa9",
   "metadata": {},
   "source": [
    "### Evaluate the Final Model "
   ]
  },
  {
   "cell_type": "code",
   "execution_count": 11,
   "id": "14526715",
   "metadata": {},
   "outputs": [
    {
     "name": "stdout",
     "output_type": "stream",
     "text": [
      "Final Model Accuracy: 1.0\n",
      "Classification Report:\n",
      "               precision    recall  f1-score   support\n",
      "\n",
      "           0       1.00      1.00      1.00         2\n",
      "           1       1.00      1.00      1.00         2\n",
      "\n",
      "    accuracy                           1.00         4\n",
      "   macro avg       1.00      1.00      1.00         4\n",
      "weighted avg       1.00      1.00      1.00         4\n",
      "\n"
     ]
    }
   ],
   "source": [
    "best_model = grid_search.best_estimator_ \n",
    "y_pred = best_model.predict(X_test)\n",
    "\n",
    "print(\"Final Model Accuracy:\", accuracy_score(y_test, y_pred)) \n",
    "print(\"Classification Report:\\n\", classification_report(y_test, y_pred))"
   ]
  }
 ],
 "metadata": {
  "kernelspec": {
   "display_name": "Python 3",
   "language": "python",
   "name": "python3"
  },
  "language_info": {
   "codemirror_mode": {
    "name": "ipython",
    "version": 3
   },
   "file_extension": ".py",
   "mimetype": "text/x-python",
   "name": "python",
   "nbconvert_exporter": "python",
   "pygments_lexer": "ipython3",
   "version": "3.13.5"
  }
 },
 "nbformat": 4,
 "nbformat_minor": 5
}
