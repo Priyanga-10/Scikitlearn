{
 "cells": [
  {
   "cell_type": "markdown",
   "id": "c0012711",
   "metadata": {},
   "source": [
    "###  Import Required Libraries"
   ]
  },
  {
   "cell_type": "code",
   "execution_count": 1,
   "id": "123d5fe1",
   "metadata": {},
   "outputs": [],
   "source": [
    "import numpy as np \n",
    "import pandas as pd \n",
    "from sklearn.model_selection import train_test_split \n",
    "from sklearn.impute import SimpleImputer\n",
    "from sklearn.preprocessing import StandardScaler, MinMaxScaler"
   ]
  },
  {
   "cell_type": "markdown",
   "id": "e3116480",
   "metadata": {},
   "source": [
    "###  Load the Dataset"
   ]
  },
  {
   "cell_type": "code",
   "execution_count": 2,
   "id": "a3c7e10f",
   "metadata": {},
   "outputs": [
    {
     "name": "stdout",
     "output_type": "stream",
     "text": [
      "Original Dataset:\n",
      "    Tenure (months)  Monthly Charges ($)  Churn (0 = No, 1 = Yes)\n",
      "0             12.0                 70.0                        0\n",
      "1             24.0                 50.0                        0\n",
      "2              NaN                 60.0                        1\n",
      "3             36.0                 90.0                        0\n",
      "4             48.0                 80.0                        0\n",
      "5              6.0                 40.0                        1\n",
      "6             18.0                  NaN                        1\n",
      "7             30.0                 55.0                        0\n",
      "8              NaN                 65.0                        1\n",
      "9             40.0                 85.0                        0\n"
     ]
    }
   ],
   "source": [
    "# Simulated customer churn dataset \n",
    "data = { \n",
    "    'Tenure (months)': [12, 24, np.nan, 36, 48, 6, 18, 30, np.nan, 40], \n",
    "    'Monthly Charges ($)': [70, 50, 60, 90, 80, 40, np.nan, 55, 65, 85], \n",
    "    'Churn (0 = No, 1 = Yes)': [0, 0, 1, 0, 0, 1, 1, 0, 1, 0] \n",
    "} \n",
    " \n",
    "df = pd.DataFrame(data) \n",
    "print(\"Original Dataset:\\n\", df) "
   ]
  },
  {
   "cell_type": "markdown",
   "id": "bc393044",
   "metadata": {},
   "source": [
    "### Handling Missing Values using SimpleImputer"
   ]
  },
  {
   "cell_type": "code",
   "execution_count": 3,
   "id": "39bad723",
   "metadata": {},
   "outputs": [
    {
     "name": "stdout",
     "output_type": "stream",
     "text": [
      "\n",
      "Dataset after Handling Missing Values:\n",
      "    Tenure (months)  Monthly Charges ($)  Churn (0 = No, 1 = Yes)\n",
      "0            12.00            70.000000                      0.0\n",
      "1            24.00            50.000000                      0.0\n",
      "2            26.75            60.000000                      1.0\n",
      "3            36.00            90.000000                      0.0\n",
      "4            48.00            80.000000                      0.0\n",
      "5             6.00            40.000000                      1.0\n",
      "6            18.00            66.111111                      1.0\n",
      "7            30.00            55.000000                      0.0\n",
      "8            26.75            65.000000                      1.0\n",
      "9            40.00            85.000000                      0.0\n"
     ]
    }
   ],
   "source": [
    "# Replace missing values with mean \n",
    "imputer = SimpleImputer(strategy='mean') \n",
    "df_imputed = pd.DataFrame(imputer.fit_transform(df), columns=df.columns) \n",
    " \n",
    "print(\"\\nDataset after Handling Missing Values:\\n\", df_imputed)"
   ]
  },
  {
   "cell_type": "markdown",
   "id": "e10835e3",
   "metadata": {},
   "source": [
    "### Splitting Data into Training and Testing Sets"
   ]
  },
  {
   "cell_type": "code",
   "execution_count": 5,
   "id": "77ccced3",
   "metadata": {},
   "outputs": [
    {
     "name": "stdout",
     "output_type": "stream",
     "text": [
      "\n",
      "Training Set Size: (8, 2)\n",
      "Testing Set Size: (2, 2)\n"
     ]
    }
   ],
   "source": [
    "# Features and target variable \n",
    "X = df_imputed[['Tenure (months)', 'Monthly Charges ($)']] \n",
    "y = df_imputed['Churn (0 = No, 1 = Yes)'] \n",
    " \n",
    "# Split data (80% training, 20% testing) \n",
    "X_train, X_test, y_train, y_test = train_test_split(X, y, test_size=0.2, random_state=42) \n",
    " \n",
    "print(\"\\nTraining Set Size:\", X_train.shape) \n",
    "print(\"Testing Set Size:\", X_test.shape)"
   ]
  },
  {
   "cell_type": "markdown",
   "id": "97492671",
   "metadata": {},
   "source": [
    "###  Feature Scaling using StandardScaler and MinMaxScaler "
   ]
  },
  {
   "cell_type": "code",
   "execution_count": 6,
   "id": "06011852",
   "metadata": {},
   "outputs": [
    {
     "name": "stdout",
     "output_type": "stream",
     "text": [
      "\n",
      "Standardized Data (First 3 rows):\n",
      " [[-1.568432   -1.81452491]\n",
      " [-1.12230023  0.1114573 ]\n",
      " [ 0.21609508 -0.8515338 ]]\n",
      "\n",
      "Normalized Data (First 3 rows):\n",
      " [[0.         0.        ]\n",
      " [0.14285714 0.6       ]\n",
      " [0.57142857 0.3       ]]\n"
     ]
    }
   ],
   "source": [
    "# Standardization \n",
    "scaler_standard = StandardScaler() \n",
    "X_train_standardized = scaler_standard.fit_transform(X_train) \n",
    "X_test_standardized = scaler_standard.transform(X_test) \n",
    " \n",
    "# Normalization \n",
    "scaler_minmax = MinMaxScaler() \n",
    "X_train_normalized = scaler_minmax.fit_transform(X_train) \n",
    "X_test_normalized = scaler_minmax.transform(X_test) \n",
    " \n",
    "print(\"\\nStandardized Data (First 3 rows):\\n\", X_train_standardized[:3]) \n",
    "print(\"\\nNormalized Data (First 3 rows):\\n\", X_train_normalized[:3]) "
   ]
  }
 ],
 "metadata": {
  "kernelspec": {
   "display_name": "Python 3",
   "language": "python",
   "name": "python3"
  },
  "language_info": {
   "codemirror_mode": {
    "name": "ipython",
    "version": 3
   },
   "file_extension": ".py",
   "mimetype": "text/x-python",
   "name": "python",
   "nbconvert_exporter": "python",
   "pygments_lexer": "ipython3",
   "version": "3.13.5"
  }
 },
 "nbformat": 4,
 "nbformat_minor": 5
}
