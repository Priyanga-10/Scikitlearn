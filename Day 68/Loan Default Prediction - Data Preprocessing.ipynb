{
 "cells": [
  {
   "cell_type": "markdown",
   "id": "f4d76d3d",
   "metadata": {},
   "source": [
    "### Import Required Libraries"
   ]
  },
  {
   "cell_type": "code",
   "execution_count": 1,
   "id": "30ea3391",
   "metadata": {},
   "outputs": [],
   "source": [
    "import pandas as pd\n",
    "import numpy as np\n",
    "from sklearn.model_selection import train_test_split\n",
    "from sklearn.preprocessing import StandardScaler, LabelEncoder\n",
    "from sklearn.impute import SimpleImputer"
   ]
  },
  {
   "cell_type": "markdown",
   "id": "0f42417d",
   "metadata": {},
   "source": [
    "### Load Data"
   ]
  },
  {
   "cell_type": "code",
   "execution_count": null,
   "id": "456d1b13",
   "metadata": {},
   "outputs": [
    {
     "name": "stdout",
     "output_type": "stream",
     "text": [
      "Original Data:\n",
      "    CustomerID   Income  LoanAmount  CreditScore EmploymentStatus  \\\n",
      "0           1  45000.0     15000.0        720.0         Employed   \n",
      "1           2  52000.0     20000.0        680.0    Self-Employed   \n",
      "2           3  38000.0     18000.0          NaN         Employed   \n",
      "3           4      NaN     25000.0        650.0       Unemployed   \n",
      "4           5  60000.0     22000.0        700.0         Employed   \n",
      "5           6  72000.0         NaN        740.0         Employed   \n",
      "6           7  31000.0     12000.0        610.0    Self-Employed   \n",
      "7           8  80000.0     30000.0        770.0         Employed   \n",
      "8           9  40000.0     15000.0        680.0       Unemployed   \n",
      "9          10  55000.0     18000.0        710.0         Employed   \n",
      "\n",
      "   DebtToIncome  Default  \n",
      "0          0.25        0  \n",
      "1          0.35        0  \n",
      "2          0.40        1  \n",
      "3          0.55        1  \n",
      "4          0.30        0  \n",
      "5          0.20        0  \n",
      "6          0.50        1  \n",
      "7           NaN        0  \n",
      "8          0.45        1  \n",
      "9          0.28        0  \n"
     ]
    }
   ],
   "source": [
    "data = {\n",
    "    \"CustomerID\": [1,2,3,4,5,6,7,8,9,10],\n",
    "    \"Income\": [45000, 52000, 38000, np.nan, 60000, 72000, 31000, 80000, 40000, 55000],\n",
    "    \"LoanAmount\": [15000, 20000, 18000, 25000, 22000, np.nan, 12000, 30000, 15000, 18000],\n",
    "    \"CreditScore\": [720, 680, np.nan, 650, 700, 740, 610, 770, 680, 710],\n",
    "    \"EmploymentStatus\": [\"Employed\",\"Self-Employed\",\"Employed\",\"Unemployed\",\n",
    "                         \"Employed\",\"Employed\",\"Self-Employed\",\"Employed\",\"Unemployed\",\"Employed\"],\n",
    "    \"DebtToIncome\": [0.25,0.35,0.40,0.55,0.30,0.20,0.50,np.nan,0.45,0.28],\n",
    "    \"Default\": [0,0,1,1,0,0,1,0,1,0]\n",
    "}\n",
    "\n",
    "df = pd.DataFrame(data)\n",
    "print(\"Original Data:\\n\", df)"
   ]
  },
  {
   "cell_type": "markdown",
   "id": "07e0a877",
   "metadata": {},
   "source": [
    "### Handle Missing Values with SimpleImputer"
   ]
  },
  {
   "cell_type": "code",
   "execution_count": 3,
   "id": "0fff4646",
   "metadata": {},
   "outputs": [
    {
     "name": "stdout",
     "output_type": "stream",
     "text": [
      "\n",
      "Dataset after Handling Missing Values:\n",
      "    CustomerID        Income    LoanAmount  CreditScore EmploymentStatus  \\\n",
      "0           1  45000.000000  15000.000000   720.000000         Employed   \n",
      "1           2  52000.000000  20000.000000   680.000000    Self-Employed   \n",
      "2           3  38000.000000  18000.000000   695.555556         Employed   \n",
      "3           4  52555.555556  25000.000000   650.000000       Unemployed   \n",
      "4           5  60000.000000  22000.000000   700.000000         Employed   \n",
      "5           6  72000.000000  19444.444444   740.000000         Employed   \n",
      "6           7  31000.000000  12000.000000   610.000000    Self-Employed   \n",
      "7           8  80000.000000  30000.000000   770.000000         Employed   \n",
      "8           9  40000.000000  15000.000000   680.000000       Unemployed   \n",
      "9          10  55000.000000  18000.000000   710.000000         Employed   \n",
      "\n",
      "   DebtToIncome  Default  \n",
      "0      0.250000        0  \n",
      "1      0.350000        0  \n",
      "2      0.400000        1  \n",
      "3      0.550000        1  \n",
      "4      0.300000        0  \n",
      "5      0.200000        0  \n",
      "6      0.500000        1  \n",
      "7      0.364444        0  \n",
      "8      0.450000        1  \n",
      "9      0.280000        0  \n"
     ]
    }
   ],
   "source": [
    "# Imputer for numerical (mean strategy)\n",
    "imputer = SimpleImputer(strategy='mean')\n",
    "df[['Income', 'LoanAmount', 'CreditScore', 'DebtToIncome']] = imputer.fit_transform(df[['Income', 'LoanAmount', 'CreditScore', 'DebtToIncome']])\n",
    "\n",
    "print(\"\\nDataset after Handling Missing Values:\\n\", df)"
   ]
  },
  {
   "cell_type": "markdown",
   "id": "c3a6610d",
   "metadata": {},
   "source": [
    "### Encode Categorical Variables"
   ]
  },
  {
   "cell_type": "code",
   "execution_count": 4,
   "id": "e80dd8b7",
   "metadata": {},
   "outputs": [],
   "source": [
    "le = LabelEncoder()\n",
    "df['EmploymentStatus'] = le.fit_transform(df['EmploymentStatus'])"
   ]
  },
  {
   "cell_type": "markdown",
   "id": "63cf28ad",
   "metadata": {},
   "source": [
    "### Train-Test Split"
   ]
  },
  {
   "cell_type": "code",
   "execution_count": 5,
   "id": "7426961b",
   "metadata": {},
   "outputs": [
    {
     "name": "stdout",
     "output_type": "stream",
     "text": [
      "Train shape: (7, 5)\n",
      "Test shape: (3, 5)\n"
     ]
    }
   ],
   "source": [
    "X = df.drop(['CustomerID', 'Default'], axis=1)\n",
    "y = df['Default']\n",
    "\n",
    "X_train, X_test, y_train, y_test = train_test_split(X, y, test_size=0.3, random_state=42)\n",
    "\n",
    "print(\"Train shape:\", X_train.shape)\n",
    "print(\"Test shape:\", X_test.shape)"
   ]
  },
  {
   "cell_type": "markdown",
   "id": "0768cae6",
   "metadata": {},
   "source": [
    "### Normalize Features"
   ]
  },
  {
   "cell_type": "code",
   "execution_count": 8,
   "id": "b06428e1",
   "metadata": {},
   "outputs": [
    {
     "name": "stdout",
     "output_type": "stream",
     "text": [
      "\n",
      "Standardized Data (First 3 rows):\n",
      " [[-0.44803943 -0.8799638   0.55570944 -0.58834841 -1.21667579]\n",
      " [ 1.90978145  1.75992759  1.61021832 -0.58834841 -0.12695747]\n",
      " [-0.91960361 -0.35198552  0.04017177 -0.58834841  0.21159579]]\n"
     ]
    }
   ],
   "source": [
    "scaler_standard = StandardScaler() \n",
    "X_train_standardized = scaler_standard.fit_transform(X_train) \n",
    "X_test_standardized = scaler_standard.transform(X_test) \n",
    " \n",
    "print(\"\\nStandardized Data (First 3 rows):\\n\", X_train_standardized[:3]) "
   ]
  }
 ],
 "metadata": {
  "kernelspec": {
   "display_name": "Python 3",
   "language": "python",
   "name": "python3"
  },
  "language_info": {
   "codemirror_mode": {
    "name": "ipython",
    "version": 3
   },
   "file_extension": ".py",
   "mimetype": "text/x-python",
   "name": "python",
   "nbconvert_exporter": "python",
   "pygments_lexer": "ipython3",
   "version": "3.13.5"
  }
 },
 "nbformat": 4,
 "nbformat_minor": 5
}
