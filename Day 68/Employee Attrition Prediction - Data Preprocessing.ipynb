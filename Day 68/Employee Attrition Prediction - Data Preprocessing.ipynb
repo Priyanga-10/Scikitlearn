{
 "cells": [
  {
   "cell_type": "markdown",
   "id": "112b04f8",
   "metadata": {},
   "source": [
    "### Import Required Libraries"
   ]
  },
  {
   "cell_type": "code",
   "execution_count": 1,
   "id": "e7210991",
   "metadata": {},
   "outputs": [],
   "source": [
    "import pandas as pd \n",
    "from sklearn.model_selection import train_test_split \n",
    "from sklearn.impute import SimpleImputer\n",
    "from sklearn.preprocessing import StandardScaler, MinMaxScaler"
   ]
  },
  {
   "cell_type": "markdown",
   "id": "94664fb4",
   "metadata": {},
   "source": [
    "### Load dataset"
   ]
  },
  {
   "cell_type": "code",
   "execution_count": 2,
   "id": "ae475a03",
   "metadata": {},
   "outputs": [
    {
     "name": "stdout",
     "output_type": "stream",
     "text": [
      "   Age   Salary  Experience  WorkLifeBalance Department  Gender Attrition\n",
      "0   25  40000.0         2.0                3      Sales    Male       Yes\n",
      "1   30  50000.0         5.0                4         HR  Female        No\n",
      "2   45  80000.0        15.0                2         IT    Male        No\n",
      "3   29      NaN         3.0                3    Finance  Female       Yes\n",
      "4   38  60000.0        10.0                4      Sales  Female        No\n"
     ]
    }
   ],
   "source": [
    "df = pd.read_csv(\"employee_attrition.csv\")\n",
    "print(df.head())"
   ]
  },
  {
   "cell_type": "markdown",
   "id": "88d94ca2",
   "metadata": {},
   "source": [
    "### Explore dataset"
   ]
  },
  {
   "cell_type": "code",
   "execution_count": 3,
   "id": "9664f4e5",
   "metadata": {},
   "outputs": [
    {
     "name": "stdout",
     "output_type": "stream",
     "text": [
      "\n",
      "Missing values:\n",
      " Age                0\n",
      "Salary             1\n",
      "Experience         1\n",
      "WorkLifeBalance    0\n",
      "Department         0\n",
      "Gender             0\n",
      "Attrition          0\n",
      "dtype: int64\n",
      "\n",
      "Data types:\n",
      " Age                  int64\n",
      "Salary             float64\n",
      "Experience         float64\n",
      "WorkLifeBalance      int64\n",
      "Department          object\n",
      "Gender              object\n",
      "Attrition           object\n",
      "dtype: object\n",
      "\n",
      "Attrition distribution:\n",
      " Attrition\n",
      "No     6\n",
      "Yes    4\n",
      "Name: count, dtype: int64\n"
     ]
    }
   ],
   "source": [
    "print(\"\\nMissing values:\\n\", df.isnull().sum())\n",
    "print(\"\\nData types:\\n\", df.dtypes)\n",
    "print(\"\\nAttrition distribution:\\n\", df['Attrition'].value_counts())"
   ]
  },
  {
   "cell_type": "markdown",
   "id": "914b13dc",
   "metadata": {},
   "source": [
    "### Handle missing values"
   ]
  },
  {
   "cell_type": "code",
   "execution_count": 5,
   "id": "7177d3ad",
   "metadata": {},
   "outputs": [
    {
     "name": "stdout",
     "output_type": "stream",
     "text": [
      "\n",
      "Dataset after Handling Missing Values:\n",
      "     Age         Salary  Experience  WorkLifeBalance Department  Gender  \\\n",
      "0  25.0   40000.000000    2.000000                3      Sales    Male   \n",
      "1  30.0   50000.000000    5.000000                4         HR  Female   \n",
      "2  45.0   80000.000000   15.000000                2         IT    Male   \n",
      "3  29.0   74777.777778    3.000000                3    Finance  Female   \n",
      "4  38.0   60000.000000   10.000000                4      Sales  Female   \n",
      "5  42.0  120000.000000   20.000000                1         IT    Male   \n",
      "6  35.0   58000.000000   10.666667                3         HR  Female   \n",
      "7  50.0  150000.000000   25.000000                2    Finance    Male   \n",
      "8  28.0   45000.000000    4.000000                4      Sales  Female   \n",
      "9  40.0   70000.000000   12.000000                3         IT    Male   \n",
      "\n",
      "  Attrition  \n",
      "0       Yes  \n",
      "1        No  \n",
      "2        No  \n",
      "3       Yes  \n",
      "4        No  \n",
      "5       Yes  \n",
      "6        No  \n",
      "7        No  \n",
      "8       Yes  \n",
      "9        No  \n"
     ]
    }
   ],
   "source": [
    "imputer = SimpleImputer(strategy=\"mean\")\n",
    "df[['Age','Salary','Experience']] = imputer.fit_transform(df[['Age','Salary','Experience']])\n",
    "\n",
    "print(\"\\nDataset after Handling Missing Values:\\n\", df)"
   ]
  },
  {
   "cell_type": "markdown",
   "id": "44d7cd33",
   "metadata": {},
   "source": [
    "### Handle categorical features"
   ]
  },
  {
   "cell_type": "code",
   "execution_count": 6,
   "id": "ba5fc475",
   "metadata": {},
   "outputs": [
    {
     "name": "stdout",
     "output_type": "stream",
     "text": [
      "    Age         Salary  Experience  WorkLifeBalance Attrition  Department_HR  \\\n",
      "0  25.0   40000.000000    2.000000                3       Yes          False   \n",
      "1  30.0   50000.000000    5.000000                4        No           True   \n",
      "2  45.0   80000.000000   15.000000                2        No          False   \n",
      "3  29.0   74777.777778    3.000000                3       Yes          False   \n",
      "4  38.0   60000.000000   10.000000                4        No          False   \n",
      "5  42.0  120000.000000   20.000000                1       Yes          False   \n",
      "6  35.0   58000.000000   10.666667                3        No           True   \n",
      "7  50.0  150000.000000   25.000000                2        No          False   \n",
      "8  28.0   45000.000000    4.000000                4       Yes          False   \n",
      "9  40.0   70000.000000   12.000000                3        No          False   \n",
      "\n",
      "   Department_IT  Department_Sales  Gender_Male  \n",
      "0          False              True         True  \n",
      "1          False             False        False  \n",
      "2           True             False         True  \n",
      "3          False             False        False  \n",
      "4          False              True        False  \n",
      "5           True             False         True  \n",
      "6          False             False        False  \n",
      "7          False             False         True  \n",
      "8          False              True        False  \n",
      "9           True             False         True  \n"
     ]
    }
   ],
   "source": [
    "df = pd.get_dummies(df, columns=['Department','Gender'], drop_first=True)\n",
    "print(df)"
   ]
  },
  {
   "cell_type": "markdown",
   "id": "aeea8e79",
   "metadata": {},
   "source": [
    "### Remove outliers (IQR method for Salary & Experience)"
   ]
  },
  {
   "cell_type": "code",
   "execution_count": 7,
   "id": "3bddb4f1",
   "metadata": {},
   "outputs": [],
   "source": [
    "for col in ['Salary','Experience']:\n",
    "    Q1 = df[col].quantile(0.25)\n",
    "    Q3 = df[col].quantile(0.75)\n",
    "    IQR = Q3 - Q1\n",
    "    df = df[(df[col] >= Q1 - 1.5*IQR) & (df[col] <= Q3 + 1.5*IQR)]"
   ]
  },
  {
   "cell_type": "markdown",
   "id": "aa78ce24",
   "metadata": {},
   "source": [
    "### Define features and target"
   ]
  },
  {
   "cell_type": "code",
   "execution_count": 8,
   "id": "467b2d41",
   "metadata": {},
   "outputs": [],
   "source": [
    "X = df.drop(\"Attrition\", axis=1)\n",
    "y = df[\"Attrition\"].map({'No':0,'Yes':1})  # Encode target"
   ]
  },
  {
   "cell_type": "markdown",
   "id": "306c36ff",
   "metadata": {},
   "source": [
    "### Train-test split (80/20)"
   ]
  },
  {
   "cell_type": "code",
   "execution_count": 10,
   "id": "a739f817",
   "metadata": {},
   "outputs": [
    {
     "name": "stdout",
     "output_type": "stream",
     "text": [
      "\n",
      "Training Set Size: (6, 8)\n",
      "Testing Set Size: (2, 8)\n"
     ]
    }
   ],
   "source": [
    "X_train, X_test, y_train, y_test = train_test_split(X, y, test_size=0.2, random_state=42, stratify=y)\n",
    "\n",
    "print(\"\\nTraining Set Size:\", X_train.shape) \n",
    "print(\"Testing Set Size:\", X_test.shape)"
   ]
  },
  {
   "cell_type": "markdown",
   "id": "f449c068",
   "metadata": {},
   "source": [
    "### StandardScaler for Salary, Experience"
   ]
  },
  {
   "cell_type": "code",
   "execution_count": 11,
   "id": "87c24ee2",
   "metadata": {},
   "outputs": [
    {
     "name": "stdout",
     "output_type": "stream",
     "text": [
      "\n",
      "Standardized Data (First 3 rows):\n",
      "     Age    Salary  Experience  WorkLifeBalance  Department_HR  Department_IT  \\\n",
      "8  28.0 -1.432938   -0.936257                4          False          False   \n",
      "2  45.0  1.308208    1.535462                2          False           True   \n",
      "1  30.0 -1.041346   -0.711556                4           True          False   \n",
      "\n",
      "   Department_Sales  Gender_Male  \n",
      "8              True        False  \n",
      "2             False         True  \n",
      "1             False        False  \n"
     ]
    }
   ],
   "source": [
    "scaler = StandardScaler()\n",
    "X_train[['Salary','Experience']] = scaler.fit_transform(X_train[['Salary','Experience']])\n",
    "X_test[['Salary','Experience']] = scaler.transform(X_test[['Salary','Experience']])\n",
    "\n",
    "print(\"\\nStandardized Data (First 3 rows):\\n\", X_train[:3]) "
   ]
  },
  {
   "cell_type": "markdown",
   "id": "fa1c8077",
   "metadata": {},
   "source": [
    "### MinMaxScaler for Age"
   ]
  },
  {
   "cell_type": "code",
   "execution_count": 12,
   "id": "82572965",
   "metadata": {},
   "outputs": [
    {
     "name": "stdout",
     "output_type": "stream",
     "text": [
      "\n",
      "Normalized Data (First 3 rows):\n",
      "         Age    Salary  Experience  WorkLifeBalance  Department_HR  \\\n",
      "8  0.000000 -1.432938   -0.936257                4          False   \n",
      "2  1.000000  1.308208    1.535462                2          False   \n",
      "1  0.117647 -1.041346   -0.711556                4           True   \n",
      "\n",
      "   Department_IT  Department_Sales  Gender_Male  \n",
      "8          False              True        False  \n",
      "2           True             False         True  \n",
      "1          False             False        False  \n"
     ]
    }
   ],
   "source": [
    "minmax = MinMaxScaler()\n",
    "X_train[['Age']] = minmax.fit_transform(X_train[['Age']])\n",
    "X_test[['Age']] = minmax.transform(X_test[['Age']])\n",
    "\n",
    "print(\"\\nNormalized Data (First 3 rows):\\n\", X_train[:3]) "
   ]
  },
  {
   "cell_type": "markdown",
   "id": "41148547",
   "metadata": {},
   "source": [
    "### Check preprocessed data"
   ]
  },
  {
   "cell_type": "code",
   "execution_count": 13,
   "id": "6169af67",
   "metadata": {},
   "outputs": [
    {
     "name": "stdout",
     "output_type": "stream",
     "text": [
      "\n",
      "Processed Training Data Sample:\n",
      "         Age    Salary  Experience  WorkLifeBalance  Department_HR  \\\n",
      "8  0.000000 -1.432938   -0.936257                4          False   \n",
      "2  1.000000  1.308208    1.535462                2          False   \n",
      "1  0.117647 -1.041346   -0.711556                4           True   \n",
      "3  0.058824  0.899212   -1.160959                3          False   \n",
      "4  0.588235 -0.258161    0.411953                4          False   \n",
      "\n",
      "   Department_IT  Department_Sales  Gender_Male  \n",
      "8          False              True        False  \n",
      "2           True             False         True  \n",
      "1          False             False        False  \n",
      "3          False             False        False  \n",
      "4          False              True        False  \n"
     ]
    }
   ],
   "source": [
    "print(\"\\nProcessed Training Data Sample:\\n\", X_train.head())"
   ]
  },
  {
   "cell_type": "markdown",
   "id": "f2c8658d",
   "metadata": {},
   "source": [
    "###  Save cleaned dataset"
   ]
  },
  {
   "cell_type": "code",
   "execution_count": 14,
   "id": "04f1156d",
   "metadata": {},
   "outputs": [
    {
     "name": "stdout",
     "output_type": "stream",
     "text": [
      "\n",
      " Processed data saved as employee_attrition_processed.csv\n"
     ]
    }
   ],
   "source": [
    "processed_data = pd.concat([X_train, y_train.reset_index(drop=True)], axis=1)\n",
    "processed_data.to_csv(\"employee_attrition_processed.csv\", index=False)\n",
    "print(\"\\n Processed data saved as employee_attrition_processed.csv\")"
   ]
  }
 ],
 "metadata": {
  "kernelspec": {
   "display_name": "Python 3",
   "language": "python",
   "name": "python3"
  },
  "language_info": {
   "codemirror_mode": {
    "name": "ipython",
    "version": 3
   },
   "file_extension": ".py",
   "mimetype": "text/x-python",
   "name": "python",
   "nbconvert_exporter": "python",
   "pygments_lexer": "ipython3",
   "version": "3.13.5"
  }
 },
 "nbformat": 4,
 "nbformat_minor": 5
}
