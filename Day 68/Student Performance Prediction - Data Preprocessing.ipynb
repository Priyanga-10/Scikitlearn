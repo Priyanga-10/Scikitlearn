{
 "cells": [
  {
   "cell_type": "markdown",
   "id": "bc1d52a4",
   "metadata": {},
   "source": [
    "### Import Required Libraries"
   ]
  },
  {
   "cell_type": "code",
   "execution_count": 1,
   "id": "58e42bbf",
   "metadata": {},
   "outputs": [],
   "source": [
    "import pandas as pd\n",
    "import numpy as np\n",
    "from sklearn.model_selection import train_test_split\n",
    "from sklearn.impute import SimpleImputer\n",
    "from sklearn.preprocessing import StandardScaler, LabelEncoder"
   ]
  },
  {
   "cell_type": "markdown",
   "id": "183a9b4e",
   "metadata": {},
   "source": [
    "### Load sample dataset"
   ]
  },
  {
   "cell_type": "code",
   "execution_count": 2,
   "id": "6a01953e",
   "metadata": {},
   "outputs": [
    {
     "name": "stdout",
     "output_type": "stream",
     "text": [
      "Original Data:\n",
      "    Student_ID  Study_Hours  Attendance  Previous_Grade Parental_Education  \\\n",
      "0           1         15.0        90.0            85.0           Graduate   \n",
      "1           2          5.0        70.0            65.0        High School   \n",
      "2           3          8.0        60.0            72.0           Graduate   \n",
      "3           4         12.0        80.0            78.0       Postgraduate   \n",
      "4           5          NaN        75.0            70.0           Graduate   \n",
      "5           6         10.0         NaN            68.0        High School   \n",
      "6           7         20.0        95.0            90.0       Postgraduate   \n",
      "7           8          7.0        65.0             NaN           Graduate   \n",
      "8           9          6.0        55.0            60.0        High School   \n",
      "9          10         14.0        85.0            82.0       Postgraduate   \n",
      "\n",
      "  Extracurricular  Final_Grade  \n",
      "0             Yes           88  \n",
      "1              No           60  \n",
      "2             Yes           68  \n",
      "3              No           82  \n",
      "4             Yes           74  \n",
      "5              No           66  \n",
      "6             Yes           92  \n",
      "7              No           64  \n",
      "8             Yes           58  \n",
      "9              No           86  \n"
     ]
    }
   ],
   "source": [
    "data = {\n",
    "    \"Student_ID\": range(1, 11),\n",
    "    \"Study_Hours\": [15, 5, 8, 12, np.nan, 10, 20, 7, 6, 14],\n",
    "    \"Attendance\": [90, 70, 60, 80, 75, np.nan, 95, 65, 55, 85],\n",
    "    \"Previous_Grade\": [85, 65, 72, 78, 70, 68, 90, np.nan, 60, 82],\n",
    "    \"Parental_Education\": [\"Graduate\", \"High School\", \"Graduate\", \"Postgraduate\", \n",
    "                            \"Graduate\", \"High School\", \"Postgraduate\", \n",
    "                            \"Graduate\", \"High School\", \"Postgraduate\"],\n",
    "    \"Extracurricular\": [\"Yes\", \"No\", \"Yes\", \"No\", \"Yes\", \"No\", \"Yes\", \"No\", \"Yes\", \"No\"],\n",
    "    \"Final_Grade\": [88, 60, 68, 82, 74, 66, 92, 64, 58, 86]\n",
    "}\n",
    "\n",
    "df = pd.DataFrame(data)\n",
    "\n",
    "print(\"Original Data:\\n\", df)"
   ]
  },
  {
   "cell_type": "markdown",
   "id": "63f082e3",
   "metadata": {},
   "source": [
    "### Handle Missing Values"
   ]
  },
  {
   "cell_type": "code",
   "execution_count": 6,
   "id": "a393aa44",
   "metadata": {},
   "outputs": [
    {
     "name": "stdout",
     "output_type": "stream",
     "text": [
      "\n",
      "Dataset after Handling Missing Values:\n",
      "    Student_ID  Study_Hours  Attendance  Previous_Grade Parental_Education  \\\n",
      "0           1    15.000000        90.0       85.000000           Graduate   \n",
      "1           2     5.000000        70.0       65.000000        High School   \n",
      "2           3     8.000000        60.0       72.000000           Graduate   \n",
      "3           4    12.000000        80.0       78.000000       Postgraduate   \n",
      "4           5    10.777778        75.0       70.000000           Graduate   \n",
      "5           6    10.000000        75.0       68.000000        High School   \n",
      "6           7    20.000000        95.0       90.000000       Postgraduate   \n",
      "7           8     7.000000        65.0       74.444444           Graduate   \n",
      "8           9     6.000000        55.0       60.000000        High School   \n",
      "9          10    14.000000        85.0       82.000000       Postgraduate   \n",
      "\n",
      "  Extracurricular  Final_Grade  \n",
      "0             Yes           88  \n",
      "1              No           60  \n",
      "2             Yes           68  \n",
      "3              No           82  \n",
      "4             Yes           74  \n",
      "5              No           66  \n",
      "6             Yes           92  \n",
      "7              No           64  \n",
      "8             Yes           58  \n",
      "9              No           86  \n"
     ]
    }
   ],
   "source": [
    "# Replace missing values with mean \n",
    "imputer = SimpleImputer(strategy='mean') \n",
    "df[['Study_Hours', 'Attendance', 'Previous_Grade']] = pd.DataFrame(imputer.fit_transform(df[['Study_Hours', 'Attendance', 'Previous_Grade']]))\n",
    "print(\"\\nDataset after Handling Missing Values:\\n\", df)"
   ]
  },
  {
   "cell_type": "markdown",
   "id": "8362094c",
   "metadata": {},
   "source": [
    "### Encode Categorical Features"
   ]
  },
  {
   "cell_type": "code",
   "execution_count": 7,
   "id": "9f94168d",
   "metadata": {},
   "outputs": [],
   "source": [
    "le = LabelEncoder()\n",
    "df[\"Parental_Education\"] = le.fit_transform(df[\"Parental_Education\"])\n",
    "df[\"Extracurricular\"] = df[\"Extracurricular\"].map({\"Yes\": 1, \"No\": 0})"
   ]
  },
  {
   "cell_type": "markdown",
   "id": "17688ce4",
   "metadata": {},
   "source": [
    "### Train-Test Split"
   ]
  },
  {
   "cell_type": "code",
   "execution_count": 9,
   "id": "62d549d9",
   "metadata": {},
   "outputs": [
    {
     "name": "stdout",
     "output_type": "stream",
     "text": [
      "\n",
      "Processed Features (X):\n",
      "    Study_Hours  Attendance  Previous_Grade  Parental_Education  \\\n",
      "5         10.0        75.0       68.000000                   1   \n",
      "0         15.0        90.0       85.000000                   0   \n",
      "7          7.0        65.0       74.444444                   0   \n",
      "2          8.0        60.0       72.000000                   0   \n",
      "9         14.0        85.0       82.000000                   2   \n",
      "\n",
      "   Extracurricular  \n",
      "5                0  \n",
      "0                1  \n",
      "7                0  \n",
      "2                1  \n",
      "9                0  \n",
      "\n",
      "Target (y):\n",
      " 5    66\n",
      "0    88\n",
      "7    64\n",
      "2    68\n",
      "9    86\n",
      "Name: Final_Grade, dtype: int64\n"
     ]
    }
   ],
   "source": [
    "X = df.drop(columns=[\"Student_ID\", \"Final_Grade\"])  # features\n",
    "y = df[\"Final_Grade\"]  # target\n",
    "\n",
    "X_train, X_test, y_train, y_test = train_test_split(X, y, test_size=0.2, random_state=42)\n",
    "\n",
    "print(\"\\nProcessed Features (X):\\n\", X_train[:5])\n",
    "print(\"\\nTarget (y):\\n\", y_train[:5])"
   ]
  },
  {
   "cell_type": "markdown",
   "id": "e1a34d18",
   "metadata": {},
   "source": [
    "### Feature Scaling"
   ]
  },
  {
   "cell_type": "code",
   "execution_count": 10,
   "id": "1039f8c8",
   "metadata": {},
   "outputs": [
    {
     "name": "stdout",
     "output_type": "stream",
     "text": [
      "\n",
      "Standardized Data (First 3 rows):\n",
      " [[-0.53394906 -0.27994626 -1.30301816  0.13483997 -1.        ]\n",
      " [ 0.73904207  1.06379577  1.04586877 -0.94387981  1.        ]\n",
      " [-1.29774373 -1.17577427 -0.41259043 -0.94387981 -1.        ]]\n"
     ]
    }
   ],
   "source": [
    "scaler_standard = StandardScaler() \n",
    "X_train_standardized = scaler_standard.fit_transform(X_train) \n",
    "X_test_standardized = scaler_standard.transform(X_test) \n",
    " \n",
    "print(\"\\nStandardized Data (First 3 rows):\\n\", X_train_standardized[:3]) "
   ]
  }
 ],
 "metadata": {
  "kernelspec": {
   "display_name": "Python 3",
   "language": "python",
   "name": "python3"
  },
  "language_info": {
   "codemirror_mode": {
    "name": "ipython",
    "version": 3
   },
   "file_extension": ".py",
   "mimetype": "text/x-python",
   "name": "python",
   "nbconvert_exporter": "python",
   "pygments_lexer": "ipython3",
   "version": "3.13.5"
  }
 },
 "nbformat": 4,
 "nbformat_minor": 5
}
